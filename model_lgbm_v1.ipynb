{
  "cells": [
    {
      "cell_type": "code",
      "execution_count": 1,
      "metadata": {
        "id": "I0BlQ9x3vZIO"
      },
      "outputs": [],
      "source": [
        "import pandas as pd\n",
        "import numpy as np\n",
        "from sklearn.model_selection import train_test_split\n",
        "from sklearn.ensemble import RandomForestClassifier\n",
        "from sklearn.metrics import roc_auc_score, accuracy_score\n",
        "from tqdm import tqdm"
      ]
    },
    {
      "cell_type": "code",
      "source": [
        "from google.colab import drive\n",
        "drive.mount('/content/drive')"
      ],
      "metadata": {
        "id": "R4ra6nh1JHZr",
        "colab": {
          "base_uri": "https://localhost:8080/"
        },
        "outputId": "a574bc0e-29c9-48d4-aadd-5336df4292a3"
      },
      "execution_count": 2,
      "outputs": [
        {
          "output_type": "stream",
          "name": "stdout",
          "text": [
            "Mounted at /content/drive\n"
          ]
        }
      ]
    },
    {
      "cell_type": "code",
      "execution_count": 3,
      "metadata": {
        "id": "Bcpw6iRjWjj6"
      },
      "outputs": [],
      "source": [
        "# 데이터 로드\n",
        "df = pd.read_csv('/content/drive/MyDrive/통계데이터사이언스/lending_club/preprocessed_data_ver.2.3._IRR+LOG+BINARY.csv')"
      ]
    },
    {
      "cell_type": "code",
      "execution_count": 4,
      "metadata": {
        "id": "29oQDGaoxsRG"
      },
      "outputs": [],
      "source": [
        "# 모든 열 다 보기\n",
        "pd.set_option('display.max_columns', None)\n",
        "\n",
        "# 모든 행 다 보기\n",
        "pd.set_option('display.max_rows', None)\n",
        "\n",
        "# 열 너비 넉넉하게\n",
        "pd.set_option('display.width', None)\n",
        "\n",
        "# 열 안의 값 자르지 않게\n",
        "pd.set_option('display.max_colwidth', None)"
      ]
    },
    {
      "cell_type": "code",
      "execution_count": 5,
      "metadata": {
        "id": "edT7-JE0xbU_",
        "colab": {
          "base_uri": "https://localhost:8080/",
          "height": 313
        },
        "outputId": "e9c153a3-d4d9-4041-a3b4-4394d07b7af1"
      },
      "outputs": [
        {
          "output_type": "execute_result",
          "data": {
            "text/plain": [
              "   funded_amnt  term  installment  emp_length  annual_inc     issue_d  \\\n",
              "0       6000.0    36       187.94         2.0   10.714440  2017-12-01   \n",
              "1      23200.0    60       680.82        10.0   11.608245  2016-07-01   \n",
              "2      16000.0    36       494.55         0.0   11.082158  2017-10-01   \n",
              "3       4500.0    36       146.10         5.0   10.819798  2017-05-01   \n",
              "4      20000.0    36       645.25        10.0   11.002117  2015-09-01   \n",
              "\n",
              "        dti  delinq_2yrs  fico_range_low  fico_range_high  inq_last_6mths  \\\n",
              "0  2.269028            1           755.0            759.0             0.0   \n",
              "1  3.575151            1           670.0            674.0             1.0   \n",
              "2  2.930660            0           820.0            824.0             0.0   \n",
              "3  2.078191            0           700.0            704.0             0.0   \n",
              "4  3.399195            0           675.0            679.0             0.0   \n",
              "\n",
              "   mths_since_last_delinq  open_acc  pub_rec  revol_bal  revol_util  \\\n",
              "0                    22.0      14.0        0   8.036250        14.0   \n",
              "1                    10.0      24.0        0   9.735660        55.9   \n",
              "2                     0.0      18.0        0   8.264106         5.5   \n",
              "3                     0.0       7.0        1   8.828348        49.4   \n",
              "4                    40.0      19.0        0   9.718783        60.0   \n",
              "\n",
              "   total_acc  recoveries  collection_recovery_fee last_pymnt_d  \\\n",
              "0       36.0        0.00                    0.000     Apr-2020   \n",
              "1       60.0     5260.00                  946.800     Dec-2016   \n",
              "2       28.0      936.75                  168.615     Aug-2019   \n",
              "3        9.0        0.00                    0.000     Mar-2019   \n",
              "4       40.0        0.00                    0.000     Oct-2018   \n",
              "\n",
              "   last_fico_range_high  collections_12_mths_ex_med  acc_now_delinq  \\\n",
              "0                 764.0                           0               0   \n",
              "1                 639.0                           0               0   \n",
              "2                 609.0                           0               0   \n",
              "3                 744.0                           0               0   \n",
              "4                 669.0                           0               0   \n",
              "\n",
              "   tot_coll_amt  tot_cur_bal  open_acc_6m  open_act_il  open_il_12m  \\\n",
              "0             0      50054.0          1.0         10.0          3.0   \n",
              "1             0     606327.0          1.0         10.0          1.0   \n",
              "2             0     100922.0          1.0          2.0          0.0   \n",
              "3             0     194586.0          1.0          2.0          0.0   \n",
              "4             0     137528.0          0.0          0.0          0.0   \n",
              "\n",
              "   open_il_24m  mths_since_rcnt_il  total_bal_il  il_util  open_rv_12m  \\\n",
              "0          3.0                 3.0       46964.0     83.0          1.0   \n",
              "1          2.0                10.0      277552.0     90.0          4.0   \n",
              "2          2.0                15.0       28670.0     58.0          1.0   \n",
              "3          0.0               226.0        2749.0     23.0          0.0   \n",
              "4          0.0                 0.0           0.0      0.0          0.0   \n",
              "\n",
              "   open_rv_24m  max_bal_bc  all_util  total_rev_hi_lim  inq_last_12m  \\\n",
              "0          1.0    8.036250      64.0         10.003378           2.0   \n",
              "1          6.0    8.455105      85.0         10.317450           7.0   \n",
              "2          2.0    7.856320      27.0         11.157692           0.0   \n",
              "3          2.0    8.656433      37.0          9.532496           2.0   \n",
              "4          0.0    0.000000       0.0         10.229224           0.0   \n",
              "\n",
              "   acc_open_past_24mths  avg_cur_bal  bc_open_to_buy  bc_util  \\\n",
              "0                   4.0     8.256088        9.385218     20.6   \n",
              "1                   8.0    10.137175        8.702012     70.4   \n",
              "2                   5.0     8.689128       10.919080      6.6   \n",
              "3                   3.0    10.232755        7.814803     73.4   \n",
              "4                   6.0     8.941284        6.890609     91.1   \n",
              "\n",
              "   chargeoff_within_12_mths  delinq_amnt  mo_sin_old_il_acct  \\\n",
              "0                         0          0.0               147.0   \n",
              "1                         0          0.0               126.0   \n",
              "2                         0          0.0               134.0   \n",
              "3                         0          0.0               226.0   \n",
              "4                         0          0.0               149.0   \n",
              "\n",
              "   mo_sin_old_rev_tl_op  mo_sin_rcnt_rev_tl_op  mo_sin_rcnt_tl  mort_acc  \\\n",
              "0                 135.0                   12.0             3.0       1.0   \n",
              "1                 277.0                    6.0             6.0       2.0   \n",
              "2                 400.0                    6.0             6.0       3.0   \n",
              "3                 130.0                   14.0             5.0       1.0   \n",
              "4                 190.0                   13.0             9.0       1.0   \n",
              "\n",
              "   mths_since_recent_bc  mths_since_recent_inq  \\\n",
              "0                  56.0                    3.0   \n",
              "1                   7.0                    0.0   \n",
              "2                   6.0                   15.0   \n",
              "3                  14.0                    6.0   \n",
              "4                  20.0                    5.0   \n",
              "\n",
              "   mths_since_recent_revol_delinq  num_accts_ever_120_pd  num_actv_rev_tl  \\\n",
              "0                             0.0                    0.0              1.0   \n",
              "1                            10.0                    0.0             10.0   \n",
              "2                             0.0                    0.0              6.0   \n",
              "3                             0.0                    0.0              3.0   \n",
              "4                            43.0                    5.0             10.0   \n",
              "\n",
              "   num_bc_sats  num_bc_tl  num_il_tl  num_op_rev_tl  num_rev_accts  \\\n",
              "0          1.0        4.0       28.0            4.0            7.0   \n",
              "1          8.0       14.0       36.0           12.0           22.0   \n",
              "2          8.0        9.0        7.0           15.0           18.0   \n",
              "3          3.0        4.0        2.0            4.0            6.0   \n",
              "4          5.0       11.0       13.0           14.0           26.0   \n",
              "\n",
              "   num_rev_tl_bal_gt_0  num_sats  num_tl_120dpd_2m  num_tl_30dpd  \\\n",
              "0                  1.0      14.0                 0             0   \n",
              "1                 10.0      24.0                 0             0   \n",
              "2                  6.0      18.0                 0             0   \n",
              "3                  3.0       7.0                 0             0   \n",
              "4                 10.0      19.0                 0             0   \n",
              "\n",
              "   num_tl_90g_dpd_24m  num_tl_op_past_12m  pct_tl_nvr_dlq  percent_bc_gt_75  \\\n",
              "0                   0                 4.0            97.1               0.0   \n",
              "1                   0                 5.0            94.8              37.5   \n",
              "2                   0                 1.0           100.0               0.0   \n",
              "3                   0                 1.0            77.8              33.3   \n",
              "4                   0                 2.0            77.5             100.0   \n",
              "\n",
              "   pub_rec_bankruptcies  tax_liens  tot_hi_cred_lim  total_bal_ex_mort  \\\n",
              "0                     0          0        11.272280          10.820878   \n",
              "1                     0          0        13.386134          12.592905   \n",
              "2                     0          0        12.186584          10.390594   \n",
              "3                     1          0        12.263577           9.166806   \n",
              "4                     0          0        12.137612          11.101704   \n",
              "\n",
              "   total_bc_limit  total_il_high_credit_limit  default  addr_state_AK  \\\n",
              "0        9.615872                   10.942208        0              0   \n",
              "1        9.918425                   12.582679        1              0   \n",
              "2       10.987003                   10.806490        1              0   \n",
              "3        9.137877                    9.390242        0              0   \n",
              "4        9.305741                   11.199461        0              0   \n",
              "\n",
              "   addr_state_AL  addr_state_AR  addr_state_AZ  addr_state_CA  addr_state_CO  \\\n",
              "0              0              0              0              0              0   \n",
              "1              0              0              0              0              0   \n",
              "2              0              0              0              0              0   \n",
              "3              0              0              0              0              0   \n",
              "4              0              0              0              0              0   \n",
              "\n",
              "   addr_state_CT  addr_state_DC  addr_state_DE  addr_state_FL  addr_state_GA  \\\n",
              "0              0              0              0              0              0   \n",
              "1              0              0              0              0              0   \n",
              "2              0              0              0              0              0   \n",
              "3              0              0              0              1              0   \n",
              "4              0              0              0              0              0   \n",
              "\n",
              "   addr_state_HI  addr_state_IA  addr_state_ID  addr_state_IL  addr_state_IN  \\\n",
              "0              0              0              0              0              0   \n",
              "1              0              0              0              0              0   \n",
              "2              0              0              0              0              0   \n",
              "3              0              0              0              0              0   \n",
              "4              0              0              0              1              0   \n",
              "\n",
              "   addr_state_KS  addr_state_KY  addr_state_LA  addr_state_MA  addr_state_MD  \\\n",
              "0              0              0              0              0              0   \n",
              "1              0              0              0              0              0   \n",
              "2              0              0              0              0              0   \n",
              "3              0              0              0              0              0   \n",
              "4              0              0              0              0              0   \n",
              "\n",
              "   addr_state_ME  addr_state_MI  addr_state_MN  addr_state_MO  addr_state_MS  \\\n",
              "0              0              0              1              0              0   \n",
              "1              0              0              0              0              0   \n",
              "2              0              0              0              0              0   \n",
              "3              0              0              0              0              0   \n",
              "4              0              0              0              0              0   \n",
              "\n",
              "   addr_state_MT  addr_state_NC  addr_state_ND  addr_state_NE  addr_state_NH  \\\n",
              "0              0              0              0              0              0   \n",
              "1              0              0              0              0              0   \n",
              "2              0              0              0              0              0   \n",
              "3              0              0              0              0              0   \n",
              "4              0              0              0              0              0   \n",
              "\n",
              "   addr_state_NJ  addr_state_NM  addr_state_NV  addr_state_NY  addr_state_OH  \\\n",
              "0              0              0              0              0              0   \n",
              "1              0              0              0              0              0   \n",
              "2              0              0              0              0              0   \n",
              "3              0              0              0              0              0   \n",
              "4              0              0              0              0              0   \n",
              "\n",
              "   addr_state_OK  addr_state_OR  addr_state_PA  addr_state_RI  addr_state_SC  \\\n",
              "0              0              0              0              0              0   \n",
              "1              1              0              0              0              0   \n",
              "2              0              0              0              0              0   \n",
              "3              0              0              0              0              0   \n",
              "4              0              0              0              0              0   \n",
              "\n",
              "   addr_state_SD  addr_state_TN  addr_state_TX  addr_state_UT  addr_state_VA  \\\n",
              "0              0              0              0              0              0   \n",
              "1              0              0              0              0              0   \n",
              "2              0              0              1              0              0   \n",
              "3              0              0              0              0              0   \n",
              "4              0              0              0              0              0   \n",
              "\n",
              "   addr_state_VT  addr_state_WA  addr_state_WI  addr_state_WV  addr_state_WY  \\\n",
              "0              0              0              0              0              0   \n",
              "1              0              0              0              0              0   \n",
              "2              0              0              0              0              0   \n",
              "3              0              0              0              0              0   \n",
              "4              0              0              0              0              0   \n",
              "\n",
              "   addr_state_nan  home_ownership_ANY  home_ownership_MORTGAGE  \\\n",
              "0               0                   0                        1   \n",
              "1               0                   0                        1   \n",
              "2               0                   0                        1   \n",
              "3               0                   0                        1   \n",
              "4               0                   0                        1   \n",
              "\n",
              "   home_ownership_NONE  home_ownership_OTHER  home_ownership_OWN  \\\n",
              "0                    0                     0                   0   \n",
              "1                    0                     0                   0   \n",
              "2                    0                     0                   0   \n",
              "3                    0                     0                   0   \n",
              "4                    0                     0                   0   \n",
              "\n",
              "   home_ownership_RENT  home_ownership_nan  purpose_car  purpose_credit_card  \\\n",
              "0                    0                   0            0                    0   \n",
              "1                    0                   0            0                    0   \n",
              "2                    0                   0            0                    0   \n",
              "3                    0                   0            0                    0   \n",
              "4                    0                   0            0                    1   \n",
              "\n",
              "   purpose_debt_consolidation  purpose_educational  purpose_home_improvement  \\\n",
              "0                           1                    0                         0   \n",
              "1                           1                    0                         0   \n",
              "2                           0                    0                         1   \n",
              "3                           0                    0                         1   \n",
              "4                           0                    0                         0   \n",
              "\n",
              "   purpose_house  purpose_major_purchase  purpose_medical  purpose_moving  \\\n",
              "0              0                       0                0               0   \n",
              "1              0                       0                0               0   \n",
              "2              0                       0                0               0   \n",
              "3              0                       0                0               0   \n",
              "4              0                       0                0               0   \n",
              "\n",
              "   purpose_other  purpose_renewable_energy  purpose_small_business  \\\n",
              "0              0                         0                       0   \n",
              "1              0                         0                       0   \n",
              "2              0                         0                       0   \n",
              "3              0                         0                       0   \n",
              "4              0                         0                       0   \n",
              "\n",
              "   purpose_vacation  purpose_wedding  purpose_nan  emp_length_missing  \\\n",
              "0                 0                0            0                   0   \n",
              "1                 0                0            0                   0   \n",
              "2                 0                0            0                   1   \n",
              "3                 0                0            0                   0   \n",
              "4                 0                0            0                   0   \n",
              "\n",
              "   percent_bc_gt_75_missing  delinq_amnt_missing  annual_inc_missing  \\\n",
              "0                         0                    0                   0   \n",
              "1                         0                    0                   0   \n",
              "2                         0                    0                   0   \n",
              "3                         0                    0                   0   \n",
              "4                         0                    0                   0   \n",
              "\n",
              "   open_act_il_missing  mths_since_recent_inq_missing  \\\n",
              "0                    0                              0   \n",
              "1                    0                              0   \n",
              "2                    0                              0   \n",
              "3                    0                              0   \n",
              "4                    1                              0   \n",
              "\n",
              "   collection_recovery_fee_missing  mths_since_rcnt_il_missing  \\\n",
              "0                                0                           0   \n",
              "1                                0                           0   \n",
              "2                                0                           0   \n",
              "3                                0                           0   \n",
              "4                                0                           1   \n",
              "\n",
              "   revol_bal_missing  open_il_12m_missing  all_util_missing  \\\n",
              "0                  0                    0                 0   \n",
              "1                  0                    0                 0   \n",
              "2                  0                    0                 0   \n",
              "3                  0                    0                 0   \n",
              "4                  0                    1                 1   \n",
              "\n",
              "   fico_range_low_missing  open_acc_6m_missing  delinq_2yrs_missing  \\\n",
              "0                       0                    0                    0   \n",
              "1                       0                    0                    0   \n",
              "2                       0                    0                    0   \n",
              "3                       0                    0                    0   \n",
              "4                       0                    1                    0   \n",
              "\n",
              "   open_acc_missing  total_acc_missing  inq_last_12m_missing  \\\n",
              "0                 0                  0                     0   \n",
              "1                 0                  0                     0   \n",
              "2                 0                  0                     0   \n",
              "3                 0                  0                     0   \n",
              "4                 0                  0                     1   \n",
              "\n",
              "   funded_amnt_missing  installment_missing  open_il_24m_missing  \\\n",
              "0                    0                    0                    0   \n",
              "1                    0                    0                    0   \n",
              "2                    0                    0                    0   \n",
              "3                    0                    0                    0   \n",
              "4                    0                    0                    1   \n",
              "\n",
              "   open_rv_24m_missing  inq_last_6mths_missing  open_rv_12m_missing  \\\n",
              "0                    0                       0                    0   \n",
              "1                    0                       0                    0   \n",
              "2                    0                       0                    0   \n",
              "3                    0                       0                    0   \n",
              "4                    1                       0                    1   \n",
              "\n",
              "   acc_now_delinq_missing  last_fico_range_high_missing  pub_rec_missing  \\\n",
              "0                       0                             0                0   \n",
              "1                       0                             0                0   \n",
              "2                       0                             0                0   \n",
              "3                       0                             0                0   \n",
              "4                       0                             0                0   \n",
              "\n",
              "   total_bal_il_missing  recoveries_missing  max_bal_bc_missing  \\\n",
              "0                     0                   0                   0   \n",
              "1                     0                   0                   0   \n",
              "2                     0                   0                   0   \n",
              "3                     0                   0                   0   \n",
              "4                     1                   0                   1   \n",
              "\n",
              "   il_util_missing  mths_since_last_delinq_missing  fico_range_high_missing  \\\n",
              "0                0                               0                        0   \n",
              "1                0                               0                        0   \n",
              "2                0                               1                        0   \n",
              "3                0                               1                        0   \n",
              "4                1                               0                        0   \n",
              "\n",
              "   mths_since_recent_revol_delinq_missing  \n",
              "0                                       1  \n",
              "1                                       0  \n",
              "2                                       1  \n",
              "3                                       1  \n",
              "4                                       0  "
            ],
            "text/html": [
              "\n",
              "  <div id=\"df-5bf2b257-2efb-4937-8447-bb4474577687\" class=\"colab-df-container\">\n",
              "    <div>\n",
              "<style scoped>\n",
              "    .dataframe tbody tr th:only-of-type {\n",
              "        vertical-align: middle;\n",
              "    }\n",
              "\n",
              "    .dataframe tbody tr th {\n",
              "        vertical-align: top;\n",
              "    }\n",
              "\n",
              "    .dataframe thead th {\n",
              "        text-align: right;\n",
              "    }\n",
              "</style>\n",
              "<table border=\"1\" class=\"dataframe\">\n",
              "  <thead>\n",
              "    <tr style=\"text-align: right;\">\n",
              "      <th></th>\n",
              "      <th>funded_amnt</th>\n",
              "      <th>term</th>\n",
              "      <th>installment</th>\n",
              "      <th>emp_length</th>\n",
              "      <th>annual_inc</th>\n",
              "      <th>issue_d</th>\n",
              "      <th>dti</th>\n",
              "      <th>delinq_2yrs</th>\n",
              "      <th>fico_range_low</th>\n",
              "      <th>fico_range_high</th>\n",
              "      <th>inq_last_6mths</th>\n",
              "      <th>mths_since_last_delinq</th>\n",
              "      <th>open_acc</th>\n",
              "      <th>pub_rec</th>\n",
              "      <th>revol_bal</th>\n",
              "      <th>revol_util</th>\n",
              "      <th>total_acc</th>\n",
              "      <th>recoveries</th>\n",
              "      <th>collection_recovery_fee</th>\n",
              "      <th>last_pymnt_d</th>\n",
              "      <th>last_fico_range_high</th>\n",
              "      <th>collections_12_mths_ex_med</th>\n",
              "      <th>acc_now_delinq</th>\n",
              "      <th>tot_coll_amt</th>\n",
              "      <th>tot_cur_bal</th>\n",
              "      <th>open_acc_6m</th>\n",
              "      <th>open_act_il</th>\n",
              "      <th>open_il_12m</th>\n",
              "      <th>open_il_24m</th>\n",
              "      <th>mths_since_rcnt_il</th>\n",
              "      <th>total_bal_il</th>\n",
              "      <th>il_util</th>\n",
              "      <th>open_rv_12m</th>\n",
              "      <th>open_rv_24m</th>\n",
              "      <th>max_bal_bc</th>\n",
              "      <th>all_util</th>\n",
              "      <th>total_rev_hi_lim</th>\n",
              "      <th>inq_last_12m</th>\n",
              "      <th>acc_open_past_24mths</th>\n",
              "      <th>avg_cur_bal</th>\n",
              "      <th>bc_open_to_buy</th>\n",
              "      <th>bc_util</th>\n",
              "      <th>chargeoff_within_12_mths</th>\n",
              "      <th>delinq_amnt</th>\n",
              "      <th>mo_sin_old_il_acct</th>\n",
              "      <th>mo_sin_old_rev_tl_op</th>\n",
              "      <th>mo_sin_rcnt_rev_tl_op</th>\n",
              "      <th>mo_sin_rcnt_tl</th>\n",
              "      <th>mort_acc</th>\n",
              "      <th>mths_since_recent_bc</th>\n",
              "      <th>mths_since_recent_inq</th>\n",
              "      <th>mths_since_recent_revol_delinq</th>\n",
              "      <th>num_accts_ever_120_pd</th>\n",
              "      <th>num_actv_rev_tl</th>\n",
              "      <th>num_bc_sats</th>\n",
              "      <th>num_bc_tl</th>\n",
              "      <th>num_il_tl</th>\n",
              "      <th>num_op_rev_tl</th>\n",
              "      <th>num_rev_accts</th>\n",
              "      <th>num_rev_tl_bal_gt_0</th>\n",
              "      <th>num_sats</th>\n",
              "      <th>num_tl_120dpd_2m</th>\n",
              "      <th>num_tl_30dpd</th>\n",
              "      <th>num_tl_90g_dpd_24m</th>\n",
              "      <th>num_tl_op_past_12m</th>\n",
              "      <th>pct_tl_nvr_dlq</th>\n",
              "      <th>percent_bc_gt_75</th>\n",
              "      <th>pub_rec_bankruptcies</th>\n",
              "      <th>tax_liens</th>\n",
              "      <th>tot_hi_cred_lim</th>\n",
              "      <th>total_bal_ex_mort</th>\n",
              "      <th>total_bc_limit</th>\n",
              "      <th>total_il_high_credit_limit</th>\n",
              "      <th>default</th>\n",
              "      <th>addr_state_AK</th>\n",
              "      <th>addr_state_AL</th>\n",
              "      <th>addr_state_AR</th>\n",
              "      <th>addr_state_AZ</th>\n",
              "      <th>addr_state_CA</th>\n",
              "      <th>addr_state_CO</th>\n",
              "      <th>addr_state_CT</th>\n",
              "      <th>addr_state_DC</th>\n",
              "      <th>addr_state_DE</th>\n",
              "      <th>addr_state_FL</th>\n",
              "      <th>addr_state_GA</th>\n",
              "      <th>addr_state_HI</th>\n",
              "      <th>addr_state_IA</th>\n",
              "      <th>addr_state_ID</th>\n",
              "      <th>addr_state_IL</th>\n",
              "      <th>addr_state_IN</th>\n",
              "      <th>addr_state_KS</th>\n",
              "      <th>addr_state_KY</th>\n",
              "      <th>addr_state_LA</th>\n",
              "      <th>addr_state_MA</th>\n",
              "      <th>addr_state_MD</th>\n",
              "      <th>addr_state_ME</th>\n",
              "      <th>addr_state_MI</th>\n",
              "      <th>addr_state_MN</th>\n",
              "      <th>addr_state_MO</th>\n",
              "      <th>addr_state_MS</th>\n",
              "      <th>addr_state_MT</th>\n",
              "      <th>addr_state_NC</th>\n",
              "      <th>addr_state_ND</th>\n",
              "      <th>addr_state_NE</th>\n",
              "      <th>addr_state_NH</th>\n",
              "      <th>addr_state_NJ</th>\n",
              "      <th>addr_state_NM</th>\n",
              "      <th>addr_state_NV</th>\n",
              "      <th>addr_state_NY</th>\n",
              "      <th>addr_state_OH</th>\n",
              "      <th>addr_state_OK</th>\n",
              "      <th>addr_state_OR</th>\n",
              "      <th>addr_state_PA</th>\n",
              "      <th>addr_state_RI</th>\n",
              "      <th>addr_state_SC</th>\n",
              "      <th>addr_state_SD</th>\n",
              "      <th>addr_state_TN</th>\n",
              "      <th>addr_state_TX</th>\n",
              "      <th>addr_state_UT</th>\n",
              "      <th>addr_state_VA</th>\n",
              "      <th>addr_state_VT</th>\n",
              "      <th>addr_state_WA</th>\n",
              "      <th>addr_state_WI</th>\n",
              "      <th>addr_state_WV</th>\n",
              "      <th>addr_state_WY</th>\n",
              "      <th>addr_state_nan</th>\n",
              "      <th>home_ownership_ANY</th>\n",
              "      <th>home_ownership_MORTGAGE</th>\n",
              "      <th>home_ownership_NONE</th>\n",
              "      <th>home_ownership_OTHER</th>\n",
              "      <th>home_ownership_OWN</th>\n",
              "      <th>home_ownership_RENT</th>\n",
              "      <th>home_ownership_nan</th>\n",
              "      <th>purpose_car</th>\n",
              "      <th>purpose_credit_card</th>\n",
              "      <th>purpose_debt_consolidation</th>\n",
              "      <th>purpose_educational</th>\n",
              "      <th>purpose_home_improvement</th>\n",
              "      <th>purpose_house</th>\n",
              "      <th>purpose_major_purchase</th>\n",
              "      <th>purpose_medical</th>\n",
              "      <th>purpose_moving</th>\n",
              "      <th>purpose_other</th>\n",
              "      <th>purpose_renewable_energy</th>\n",
              "      <th>purpose_small_business</th>\n",
              "      <th>purpose_vacation</th>\n",
              "      <th>purpose_wedding</th>\n",
              "      <th>purpose_nan</th>\n",
              "      <th>emp_length_missing</th>\n",
              "      <th>percent_bc_gt_75_missing</th>\n",
              "      <th>delinq_amnt_missing</th>\n",
              "      <th>annual_inc_missing</th>\n",
              "      <th>open_act_il_missing</th>\n",
              "      <th>mths_since_recent_inq_missing</th>\n",
              "      <th>collection_recovery_fee_missing</th>\n",
              "      <th>mths_since_rcnt_il_missing</th>\n",
              "      <th>revol_bal_missing</th>\n",
              "      <th>open_il_12m_missing</th>\n",
              "      <th>all_util_missing</th>\n",
              "      <th>fico_range_low_missing</th>\n",
              "      <th>open_acc_6m_missing</th>\n",
              "      <th>delinq_2yrs_missing</th>\n",
              "      <th>open_acc_missing</th>\n",
              "      <th>total_acc_missing</th>\n",
              "      <th>inq_last_12m_missing</th>\n",
              "      <th>funded_amnt_missing</th>\n",
              "      <th>installment_missing</th>\n",
              "      <th>open_il_24m_missing</th>\n",
              "      <th>open_rv_24m_missing</th>\n",
              "      <th>inq_last_6mths_missing</th>\n",
              "      <th>open_rv_12m_missing</th>\n",
              "      <th>acc_now_delinq_missing</th>\n",
              "      <th>last_fico_range_high_missing</th>\n",
              "      <th>pub_rec_missing</th>\n",
              "      <th>total_bal_il_missing</th>\n",
              "      <th>recoveries_missing</th>\n",
              "      <th>max_bal_bc_missing</th>\n",
              "      <th>il_util_missing</th>\n",
              "      <th>mths_since_last_delinq_missing</th>\n",
              "      <th>fico_range_high_missing</th>\n",
              "      <th>mths_since_recent_revol_delinq_missing</th>\n",
              "    </tr>\n",
              "  </thead>\n",
              "  <tbody>\n",
              "    <tr>\n",
              "      <th>0</th>\n",
              "      <td>6000.0</td>\n",
              "      <td>36</td>\n",
              "      <td>187.94</td>\n",
              "      <td>2.0</td>\n",
              "      <td>10.714440</td>\n",
              "      <td>2017-12-01</td>\n",
              "      <td>2.269028</td>\n",
              "      <td>1</td>\n",
              "      <td>755.0</td>\n",
              "      <td>759.0</td>\n",
              "      <td>0.0</td>\n",
              "      <td>22.0</td>\n",
              "      <td>14.0</td>\n",
              "      <td>0</td>\n",
              "      <td>8.036250</td>\n",
              "      <td>14.0</td>\n",
              "      <td>36.0</td>\n",
              "      <td>0.00</td>\n",
              "      <td>0.000</td>\n",
              "      <td>Apr-2020</td>\n",
              "      <td>764.0</td>\n",
              "      <td>0</td>\n",
              "      <td>0</td>\n",
              "      <td>0</td>\n",
              "      <td>50054.0</td>\n",
              "      <td>1.0</td>\n",
              "      <td>10.0</td>\n",
              "      <td>3.0</td>\n",
              "      <td>3.0</td>\n",
              "      <td>3.0</td>\n",
              "      <td>46964.0</td>\n",
              "      <td>83.0</td>\n",
              "      <td>1.0</td>\n",
              "      <td>1.0</td>\n",
              "      <td>8.036250</td>\n",
              "      <td>64.0</td>\n",
              "      <td>10.003378</td>\n",
              "      <td>2.0</td>\n",
              "      <td>4.0</td>\n",
              "      <td>8.256088</td>\n",
              "      <td>9.385218</td>\n",
              "      <td>20.6</td>\n",
              "      <td>0</td>\n",
              "      <td>0.0</td>\n",
              "      <td>147.0</td>\n",
              "      <td>135.0</td>\n",
              "      <td>12.0</td>\n",
              "      <td>3.0</td>\n",
              "      <td>1.0</td>\n",
              "      <td>56.0</td>\n",
              "      <td>3.0</td>\n",
              "      <td>0.0</td>\n",
              "      <td>0.0</td>\n",
              "      <td>1.0</td>\n",
              "      <td>1.0</td>\n",
              "      <td>4.0</td>\n",
              "      <td>28.0</td>\n",
              "      <td>4.0</td>\n",
              "      <td>7.0</td>\n",
              "      <td>1.0</td>\n",
              "      <td>14.0</td>\n",
              "      <td>0</td>\n",
              "      <td>0</td>\n",
              "      <td>0</td>\n",
              "      <td>4.0</td>\n",
              "      <td>97.1</td>\n",
              "      <td>0.0</td>\n",
              "      <td>0</td>\n",
              "      <td>0</td>\n",
              "      <td>11.272280</td>\n",
              "      <td>10.820878</td>\n",
              "      <td>9.615872</td>\n",
              "      <td>10.942208</td>\n",
              "      <td>0</td>\n",
              "      <td>0</td>\n",
              "      <td>0</td>\n",
              "      <td>0</td>\n",
              "      <td>0</td>\n",
              "      <td>0</td>\n",
              "      <td>0</td>\n",
              "      <td>0</td>\n",
              "      <td>0</td>\n",
              "      <td>0</td>\n",
              "      <td>0</td>\n",
              "      <td>0</td>\n",
              "      <td>0</td>\n",
              "      <td>0</td>\n",
              "      <td>0</td>\n",
              "      <td>0</td>\n",
              "      <td>0</td>\n",
              "      <td>0</td>\n",
              "      <td>0</td>\n",
              "      <td>0</td>\n",
              "      <td>0</td>\n",
              "      <td>0</td>\n",
              "      <td>0</td>\n",
              "      <td>0</td>\n",
              "      <td>1</td>\n",
              "      <td>0</td>\n",
              "      <td>0</td>\n",
              "      <td>0</td>\n",
              "      <td>0</td>\n",
              "      <td>0</td>\n",
              "      <td>0</td>\n",
              "      <td>0</td>\n",
              "      <td>0</td>\n",
              "      <td>0</td>\n",
              "      <td>0</td>\n",
              "      <td>0</td>\n",
              "      <td>0</td>\n",
              "      <td>0</td>\n",
              "      <td>0</td>\n",
              "      <td>0</td>\n",
              "      <td>0</td>\n",
              "      <td>0</td>\n",
              "      <td>0</td>\n",
              "      <td>0</td>\n",
              "      <td>0</td>\n",
              "      <td>0</td>\n",
              "      <td>0</td>\n",
              "      <td>0</td>\n",
              "      <td>0</td>\n",
              "      <td>0</td>\n",
              "      <td>0</td>\n",
              "      <td>0</td>\n",
              "      <td>0</td>\n",
              "      <td>0</td>\n",
              "      <td>1</td>\n",
              "      <td>0</td>\n",
              "      <td>0</td>\n",
              "      <td>0</td>\n",
              "      <td>0</td>\n",
              "      <td>0</td>\n",
              "      <td>0</td>\n",
              "      <td>0</td>\n",
              "      <td>1</td>\n",
              "      <td>0</td>\n",
              "      <td>0</td>\n",
              "      <td>0</td>\n",
              "      <td>0</td>\n",
              "      <td>0</td>\n",
              "      <td>0</td>\n",
              "      <td>0</td>\n",
              "      <td>0</td>\n",
              "      <td>0</td>\n",
              "      <td>0</td>\n",
              "      <td>0</td>\n",
              "      <td>0</td>\n",
              "      <td>0</td>\n",
              "      <td>0</td>\n",
              "      <td>0</td>\n",
              "      <td>0</td>\n",
              "      <td>0</td>\n",
              "      <td>0</td>\n",
              "      <td>0</td>\n",
              "      <td>0</td>\n",
              "      <td>0</td>\n",
              "      <td>0</td>\n",
              "      <td>0</td>\n",
              "      <td>0</td>\n",
              "      <td>0</td>\n",
              "      <td>0</td>\n",
              "      <td>0</td>\n",
              "      <td>0</td>\n",
              "      <td>0</td>\n",
              "      <td>0</td>\n",
              "      <td>0</td>\n",
              "      <td>0</td>\n",
              "      <td>0</td>\n",
              "      <td>0</td>\n",
              "      <td>0</td>\n",
              "      <td>0</td>\n",
              "      <td>0</td>\n",
              "      <td>0</td>\n",
              "      <td>0</td>\n",
              "      <td>0</td>\n",
              "      <td>0</td>\n",
              "      <td>0</td>\n",
              "      <td>0</td>\n",
              "      <td>0</td>\n",
              "      <td>1</td>\n",
              "    </tr>\n",
              "    <tr>\n",
              "      <th>1</th>\n",
              "      <td>23200.0</td>\n",
              "      <td>60</td>\n",
              "      <td>680.82</td>\n",
              "      <td>10.0</td>\n",
              "      <td>11.608245</td>\n",
              "      <td>2016-07-01</td>\n",
              "      <td>3.575151</td>\n",
              "      <td>1</td>\n",
              "      <td>670.0</td>\n",
              "      <td>674.0</td>\n",
              "      <td>1.0</td>\n",
              "      <td>10.0</td>\n",
              "      <td>24.0</td>\n",
              "      <td>0</td>\n",
              "      <td>9.735660</td>\n",
              "      <td>55.9</td>\n",
              "      <td>60.0</td>\n",
              "      <td>5260.00</td>\n",
              "      <td>946.800</td>\n",
              "      <td>Dec-2016</td>\n",
              "      <td>639.0</td>\n",
              "      <td>0</td>\n",
              "      <td>0</td>\n",
              "      <td>0</td>\n",
              "      <td>606327.0</td>\n",
              "      <td>1.0</td>\n",
              "      <td>10.0</td>\n",
              "      <td>1.0</td>\n",
              "      <td>2.0</td>\n",
              "      <td>10.0</td>\n",
              "      <td>277552.0</td>\n",
              "      <td>90.0</td>\n",
              "      <td>4.0</td>\n",
              "      <td>6.0</td>\n",
              "      <td>8.455105</td>\n",
              "      <td>85.0</td>\n",
              "      <td>10.317450</td>\n",
              "      <td>7.0</td>\n",
              "      <td>8.0</td>\n",
              "      <td>10.137175</td>\n",
              "      <td>8.702012</td>\n",
              "      <td>70.4</td>\n",
              "      <td>0</td>\n",
              "      <td>0.0</td>\n",
              "      <td>126.0</td>\n",
              "      <td>277.0</td>\n",
              "      <td>6.0</td>\n",
              "      <td>6.0</td>\n",
              "      <td>2.0</td>\n",
              "      <td>7.0</td>\n",
              "      <td>0.0</td>\n",
              "      <td>10.0</td>\n",
              "      <td>0.0</td>\n",
              "      <td>10.0</td>\n",
              "      <td>8.0</td>\n",
              "      <td>14.0</td>\n",
              "      <td>36.0</td>\n",
              "      <td>12.0</td>\n",
              "      <td>22.0</td>\n",
              "      <td>10.0</td>\n",
              "      <td>24.0</td>\n",
              "      <td>0</td>\n",
              "      <td>0</td>\n",
              "      <td>0</td>\n",
              "      <td>5.0</td>\n",
              "      <td>94.8</td>\n",
              "      <td>37.5</td>\n",
              "      <td>0</td>\n",
              "      <td>0</td>\n",
              "      <td>13.386134</td>\n",
              "      <td>12.592905</td>\n",
              "      <td>9.918425</td>\n",
              "      <td>12.582679</td>\n",
              "      <td>1</td>\n",
              "      <td>0</td>\n",
              "      <td>0</td>\n",
              "      <td>0</td>\n",
              "      <td>0</td>\n",
              "      <td>0</td>\n",
              "      <td>0</td>\n",
              "      <td>0</td>\n",
              "      <td>0</td>\n",
              "      <td>0</td>\n",
              "      <td>0</td>\n",
              "      <td>0</td>\n",
              "      <td>0</td>\n",
              "      <td>0</td>\n",
              "      <td>0</td>\n",
              "      <td>0</td>\n",
              "      <td>0</td>\n",
              "      <td>0</td>\n",
              "      <td>0</td>\n",
              "      <td>0</td>\n",
              "      <td>0</td>\n",
              "      <td>0</td>\n",
              "      <td>0</td>\n",
              "      <td>0</td>\n",
              "      <td>0</td>\n",
              "      <td>0</td>\n",
              "      <td>0</td>\n",
              "      <td>0</td>\n",
              "      <td>0</td>\n",
              "      <td>0</td>\n",
              "      <td>0</td>\n",
              "      <td>0</td>\n",
              "      <td>0</td>\n",
              "      <td>0</td>\n",
              "      <td>0</td>\n",
              "      <td>0</td>\n",
              "      <td>0</td>\n",
              "      <td>1</td>\n",
              "      <td>0</td>\n",
              "      <td>0</td>\n",
              "      <td>0</td>\n",
              "      <td>0</td>\n",
              "      <td>0</td>\n",
              "      <td>0</td>\n",
              "      <td>0</td>\n",
              "      <td>0</td>\n",
              "      <td>0</td>\n",
              "      <td>0</td>\n",
              "      <td>0</td>\n",
              "      <td>0</td>\n",
              "      <td>0</td>\n",
              "      <td>0</td>\n",
              "      <td>0</td>\n",
              "      <td>0</td>\n",
              "      <td>1</td>\n",
              "      <td>0</td>\n",
              "      <td>0</td>\n",
              "      <td>0</td>\n",
              "      <td>0</td>\n",
              "      <td>0</td>\n",
              "      <td>0</td>\n",
              "      <td>0</td>\n",
              "      <td>1</td>\n",
              "      <td>0</td>\n",
              "      <td>0</td>\n",
              "      <td>0</td>\n",
              "      <td>0</td>\n",
              "      <td>0</td>\n",
              "      <td>0</td>\n",
              "      <td>0</td>\n",
              "      <td>0</td>\n",
              "      <td>0</td>\n",
              "      <td>0</td>\n",
              "      <td>0</td>\n",
              "      <td>0</td>\n",
              "      <td>0</td>\n",
              "      <td>0</td>\n",
              "      <td>0</td>\n",
              "      <td>0</td>\n",
              "      <td>0</td>\n",
              "      <td>0</td>\n",
              "      <td>0</td>\n",
              "      <td>0</td>\n",
              "      <td>0</td>\n",
              "      <td>0</td>\n",
              "      <td>0</td>\n",
              "      <td>0</td>\n",
              "      <td>0</td>\n",
              "      <td>0</td>\n",
              "      <td>0</td>\n",
              "      <td>0</td>\n",
              "      <td>0</td>\n",
              "      <td>0</td>\n",
              "      <td>0</td>\n",
              "      <td>0</td>\n",
              "      <td>0</td>\n",
              "      <td>0</td>\n",
              "      <td>0</td>\n",
              "      <td>0</td>\n",
              "      <td>0</td>\n",
              "      <td>0</td>\n",
              "      <td>0</td>\n",
              "      <td>0</td>\n",
              "      <td>0</td>\n",
              "      <td>0</td>\n",
              "      <td>0</td>\n",
              "      <td>0</td>\n",
              "      <td>0</td>\n",
              "    </tr>\n",
              "    <tr>\n",
              "      <th>2</th>\n",
              "      <td>16000.0</td>\n",
              "      <td>36</td>\n",
              "      <td>494.55</td>\n",
              "      <td>0.0</td>\n",
              "      <td>11.082158</td>\n",
              "      <td>2017-10-01</td>\n",
              "      <td>2.930660</td>\n",
              "      <td>0</td>\n",
              "      <td>820.0</td>\n",
              "      <td>824.0</td>\n",
              "      <td>0.0</td>\n",
              "      <td>0.0</td>\n",
              "      <td>18.0</td>\n",
              "      <td>0</td>\n",
              "      <td>8.264106</td>\n",
              "      <td>5.5</td>\n",
              "      <td>28.0</td>\n",
              "      <td>936.75</td>\n",
              "      <td>168.615</td>\n",
              "      <td>Aug-2019</td>\n",
              "      <td>609.0</td>\n",
              "      <td>0</td>\n",
              "      <td>0</td>\n",
              "      <td>0</td>\n",
              "      <td>100922.0</td>\n",
              "      <td>1.0</td>\n",
              "      <td>2.0</td>\n",
              "      <td>0.0</td>\n",
              "      <td>2.0</td>\n",
              "      <td>15.0</td>\n",
              "      <td>28670.0</td>\n",
              "      <td>58.0</td>\n",
              "      <td>1.0</td>\n",
              "      <td>2.0</td>\n",
              "      <td>7.856320</td>\n",
              "      <td>27.0</td>\n",
              "      <td>11.157692</td>\n",
              "      <td>0.0</td>\n",
              "      <td>5.0</td>\n",
              "      <td>8.689128</td>\n",
              "      <td>10.919080</td>\n",
              "      <td>6.6</td>\n",
              "      <td>0</td>\n",
              "      <td>0.0</td>\n",
              "      <td>134.0</td>\n",
              "      <td>400.0</td>\n",
              "      <td>6.0</td>\n",
              "      <td>6.0</td>\n",
              "      <td>3.0</td>\n",
              "      <td>6.0</td>\n",
              "      <td>15.0</td>\n",
              "      <td>0.0</td>\n",
              "      <td>0.0</td>\n",
              "      <td>6.0</td>\n",
              "      <td>8.0</td>\n",
              "      <td>9.0</td>\n",
              "      <td>7.0</td>\n",
              "      <td>15.0</td>\n",
              "      <td>18.0</td>\n",
              "      <td>6.0</td>\n",
              "      <td>18.0</td>\n",
              "      <td>0</td>\n",
              "      <td>0</td>\n",
              "      <td>0</td>\n",
              "      <td>1.0</td>\n",
              "      <td>100.0</td>\n",
              "      <td>0.0</td>\n",
              "      <td>0</td>\n",
              "      <td>0</td>\n",
              "      <td>12.186584</td>\n",
              "      <td>10.390594</td>\n",
              "      <td>10.987003</td>\n",
              "      <td>10.806490</td>\n",
              "      <td>1</td>\n",
              "      <td>0</td>\n",
              "      <td>0</td>\n",
              "      <td>0</td>\n",
              "      <td>0</td>\n",
              "      <td>0</td>\n",
              "      <td>0</td>\n",
              "      <td>0</td>\n",
              "      <td>0</td>\n",
              "      <td>0</td>\n",
              "      <td>0</td>\n",
              "      <td>0</td>\n",
              "      <td>0</td>\n",
              "      <td>0</td>\n",
              "      <td>0</td>\n",
              "      <td>0</td>\n",
              "      <td>0</td>\n",
              "      <td>0</td>\n",
              "      <td>0</td>\n",
              "      <td>0</td>\n",
              "      <td>0</td>\n",
              "      <td>0</td>\n",
              "      <td>0</td>\n",
              "      <td>0</td>\n",
              "      <td>0</td>\n",
              "      <td>0</td>\n",
              "      <td>0</td>\n",
              "      <td>0</td>\n",
              "      <td>0</td>\n",
              "      <td>0</td>\n",
              "      <td>0</td>\n",
              "      <td>0</td>\n",
              "      <td>0</td>\n",
              "      <td>0</td>\n",
              "      <td>0</td>\n",
              "      <td>0</td>\n",
              "      <td>0</td>\n",
              "      <td>0</td>\n",
              "      <td>0</td>\n",
              "      <td>0</td>\n",
              "      <td>0</td>\n",
              "      <td>0</td>\n",
              "      <td>0</td>\n",
              "      <td>0</td>\n",
              "      <td>1</td>\n",
              "      <td>0</td>\n",
              "      <td>0</td>\n",
              "      <td>0</td>\n",
              "      <td>0</td>\n",
              "      <td>0</td>\n",
              "      <td>0</td>\n",
              "      <td>0</td>\n",
              "      <td>0</td>\n",
              "      <td>0</td>\n",
              "      <td>1</td>\n",
              "      <td>0</td>\n",
              "      <td>0</td>\n",
              "      <td>0</td>\n",
              "      <td>0</td>\n",
              "      <td>0</td>\n",
              "      <td>0</td>\n",
              "      <td>0</td>\n",
              "      <td>0</td>\n",
              "      <td>0</td>\n",
              "      <td>1</td>\n",
              "      <td>0</td>\n",
              "      <td>0</td>\n",
              "      <td>0</td>\n",
              "      <td>0</td>\n",
              "      <td>0</td>\n",
              "      <td>0</td>\n",
              "      <td>0</td>\n",
              "      <td>0</td>\n",
              "      <td>0</td>\n",
              "      <td>0</td>\n",
              "      <td>1</td>\n",
              "      <td>0</td>\n",
              "      <td>0</td>\n",
              "      <td>0</td>\n",
              "      <td>0</td>\n",
              "      <td>0</td>\n",
              "      <td>0</td>\n",
              "      <td>0</td>\n",
              "      <td>0</td>\n",
              "      <td>0</td>\n",
              "      <td>0</td>\n",
              "      <td>0</td>\n",
              "      <td>0</td>\n",
              "      <td>0</td>\n",
              "      <td>0</td>\n",
              "      <td>0</td>\n",
              "      <td>0</td>\n",
              "      <td>0</td>\n",
              "      <td>0</td>\n",
              "      <td>0</td>\n",
              "      <td>0</td>\n",
              "      <td>0</td>\n",
              "      <td>0</td>\n",
              "      <td>0</td>\n",
              "      <td>0</td>\n",
              "      <td>0</td>\n",
              "      <td>0</td>\n",
              "      <td>0</td>\n",
              "      <td>0</td>\n",
              "      <td>0</td>\n",
              "      <td>1</td>\n",
              "      <td>0</td>\n",
              "      <td>1</td>\n",
              "    </tr>\n",
              "    <tr>\n",
              "      <th>3</th>\n",
              "      <td>4500.0</td>\n",
              "      <td>36</td>\n",
              "      <td>146.10</td>\n",
              "      <td>5.0</td>\n",
              "      <td>10.819798</td>\n",
              "      <td>2017-05-01</td>\n",
              "      <td>2.078191</td>\n",
              "      <td>0</td>\n",
              "      <td>700.0</td>\n",
              "      <td>704.0</td>\n",
              "      <td>0.0</td>\n",
              "      <td>0.0</td>\n",
              "      <td>7.0</td>\n",
              "      <td>1</td>\n",
              "      <td>8.828348</td>\n",
              "      <td>49.4</td>\n",
              "      <td>9.0</td>\n",
              "      <td>0.00</td>\n",
              "      <td>0.000</td>\n",
              "      <td>Mar-2019</td>\n",
              "      <td>744.0</td>\n",
              "      <td>0</td>\n",
              "      <td>0</td>\n",
              "      <td>0</td>\n",
              "      <td>194586.0</td>\n",
              "      <td>1.0</td>\n",
              "      <td>2.0</td>\n",
              "      <td>0.0</td>\n",
              "      <td>0.0</td>\n",
              "      <td>226.0</td>\n",
              "      <td>2749.0</td>\n",
              "      <td>23.0</td>\n",
              "      <td>0.0</td>\n",
              "      <td>2.0</td>\n",
              "      <td>8.656433</td>\n",
              "      <td>37.0</td>\n",
              "      <td>9.532496</td>\n",
              "      <td>2.0</td>\n",
              "      <td>3.0</td>\n",
              "      <td>10.232755</td>\n",
              "      <td>7.814803</td>\n",
              "      <td>73.4</td>\n",
              "      <td>0</td>\n",
              "      <td>0.0</td>\n",
              "      <td>226.0</td>\n",
              "      <td>130.0</td>\n",
              "      <td>14.0</td>\n",
              "      <td>5.0</td>\n",
              "      <td>1.0</td>\n",
              "      <td>14.0</td>\n",
              "      <td>6.0</td>\n",
              "      <td>0.0</td>\n",
              "      <td>0.0</td>\n",
              "      <td>3.0</td>\n",
              "      <td>3.0</td>\n",
              "      <td>4.0</td>\n",
              "      <td>2.0</td>\n",
              "      <td>4.0</td>\n",
              "      <td>6.0</td>\n",
              "      <td>3.0</td>\n",
              "      <td>7.0</td>\n",
              "      <td>0</td>\n",
              "      <td>0</td>\n",
              "      <td>0</td>\n",
              "      <td>1.0</td>\n",
              "      <td>77.8</td>\n",
              "      <td>33.3</td>\n",
              "      <td>1</td>\n",
              "      <td>0</td>\n",
              "      <td>12.263577</td>\n",
              "      <td>9.166806</td>\n",
              "      <td>9.137877</td>\n",
              "      <td>9.390242</td>\n",
              "      <td>0</td>\n",
              "      <td>0</td>\n",
              "      <td>0</td>\n",
              "      <td>0</td>\n",
              "      <td>0</td>\n",
              "      <td>0</td>\n",
              "      <td>0</td>\n",
              "      <td>0</td>\n",
              "      <td>0</td>\n",
              "      <td>0</td>\n",
              "      <td>1</td>\n",
              "      <td>0</td>\n",
              "      <td>0</td>\n",
              "      <td>0</td>\n",
              "      <td>0</td>\n",
              "      <td>0</td>\n",
              "      <td>0</td>\n",
              "      <td>0</td>\n",
              "      <td>0</td>\n",
              "      <td>0</td>\n",
              "      <td>0</td>\n",
              "      <td>0</td>\n",
              "      <td>0</td>\n",
              "      <td>0</td>\n",
              "      <td>0</td>\n",
              "      <td>0</td>\n",
              "      <td>0</td>\n",
              "      <td>0</td>\n",
              "      <td>0</td>\n",
              "      <td>0</td>\n",
              "      <td>0</td>\n",
              "      <td>0</td>\n",
              "      <td>0</td>\n",
              "      <td>0</td>\n",
              "      <td>0</td>\n",
              "      <td>0</td>\n",
              "      <td>0</td>\n",
              "      <td>0</td>\n",
              "      <td>0</td>\n",
              "      <td>0</td>\n",
              "      <td>0</td>\n",
              "      <td>0</td>\n",
              "      <td>0</td>\n",
              "      <td>0</td>\n",
              "      <td>0</td>\n",
              "      <td>0</td>\n",
              "      <td>0</td>\n",
              "      <td>0</td>\n",
              "      <td>0</td>\n",
              "      <td>0</td>\n",
              "      <td>0</td>\n",
              "      <td>0</td>\n",
              "      <td>0</td>\n",
              "      <td>0</td>\n",
              "      <td>1</td>\n",
              "      <td>0</td>\n",
              "      <td>0</td>\n",
              "      <td>0</td>\n",
              "      <td>0</td>\n",
              "      <td>0</td>\n",
              "      <td>0</td>\n",
              "      <td>0</td>\n",
              "      <td>0</td>\n",
              "      <td>0</td>\n",
              "      <td>1</td>\n",
              "      <td>0</td>\n",
              "      <td>0</td>\n",
              "      <td>0</td>\n",
              "      <td>0</td>\n",
              "      <td>0</td>\n",
              "      <td>0</td>\n",
              "      <td>0</td>\n",
              "      <td>0</td>\n",
              "      <td>0</td>\n",
              "      <td>0</td>\n",
              "      <td>0</td>\n",
              "      <td>0</td>\n",
              "      <td>0</td>\n",
              "      <td>0</td>\n",
              "      <td>0</td>\n",
              "      <td>0</td>\n",
              "      <td>0</td>\n",
              "      <td>0</td>\n",
              "      <td>0</td>\n",
              "      <td>0</td>\n",
              "      <td>0</td>\n",
              "      <td>0</td>\n",
              "      <td>0</td>\n",
              "      <td>0</td>\n",
              "      <td>0</td>\n",
              "      <td>0</td>\n",
              "      <td>0</td>\n",
              "      <td>0</td>\n",
              "      <td>0</td>\n",
              "      <td>0</td>\n",
              "      <td>0</td>\n",
              "      <td>0</td>\n",
              "      <td>0</td>\n",
              "      <td>0</td>\n",
              "      <td>0</td>\n",
              "      <td>0</td>\n",
              "      <td>0</td>\n",
              "      <td>0</td>\n",
              "      <td>0</td>\n",
              "      <td>0</td>\n",
              "      <td>1</td>\n",
              "      <td>0</td>\n",
              "      <td>1</td>\n",
              "    </tr>\n",
              "    <tr>\n",
              "      <th>4</th>\n",
              "      <td>20000.0</td>\n",
              "      <td>36</td>\n",
              "      <td>645.25</td>\n",
              "      <td>10.0</td>\n",
              "      <td>11.002117</td>\n",
              "      <td>2015-09-01</td>\n",
              "      <td>3.399195</td>\n",
              "      <td>0</td>\n",
              "      <td>675.0</td>\n",
              "      <td>679.0</td>\n",
              "      <td>0.0</td>\n",
              "      <td>40.0</td>\n",
              "      <td>19.0</td>\n",
              "      <td>0</td>\n",
              "      <td>9.718783</td>\n",
              "      <td>60.0</td>\n",
              "      <td>40.0</td>\n",
              "      <td>0.00</td>\n",
              "      <td>0.000</td>\n",
              "      <td>Oct-2018</td>\n",
              "      <td>669.0</td>\n",
              "      <td>0</td>\n",
              "      <td>0</td>\n",
              "      <td>0</td>\n",
              "      <td>137528.0</td>\n",
              "      <td>0.0</td>\n",
              "      <td>0.0</td>\n",
              "      <td>0.0</td>\n",
              "      <td>0.0</td>\n",
              "      <td>0.0</td>\n",
              "      <td>0.0</td>\n",
              "      <td>0.0</td>\n",
              "      <td>0.0</td>\n",
              "      <td>0.0</td>\n",
              "      <td>0.000000</td>\n",
              "      <td>0.0</td>\n",
              "      <td>10.229224</td>\n",
              "      <td>0.0</td>\n",
              "      <td>6.0</td>\n",
              "      <td>8.941284</td>\n",
              "      <td>6.890609</td>\n",
              "      <td>91.1</td>\n",
              "      <td>0</td>\n",
              "      <td>0.0</td>\n",
              "      <td>149.0</td>\n",
              "      <td>190.0</td>\n",
              "      <td>13.0</td>\n",
              "      <td>9.0</td>\n",
              "      <td>1.0</td>\n",
              "      <td>20.0</td>\n",
              "      <td>5.0</td>\n",
              "      <td>43.0</td>\n",
              "      <td>5.0</td>\n",
              "      <td>10.0</td>\n",
              "      <td>5.0</td>\n",
              "      <td>11.0</td>\n",
              "      <td>13.0</td>\n",
              "      <td>14.0</td>\n",
              "      <td>26.0</td>\n",
              "      <td>10.0</td>\n",
              "      <td>19.0</td>\n",
              "      <td>0</td>\n",
              "      <td>0</td>\n",
              "      <td>0</td>\n",
              "      <td>2.0</td>\n",
              "      <td>77.5</td>\n",
              "      <td>100.0</td>\n",
              "      <td>0</td>\n",
              "      <td>0</td>\n",
              "      <td>12.137612</td>\n",
              "      <td>11.101704</td>\n",
              "      <td>9.305741</td>\n",
              "      <td>11.199461</td>\n",
              "      <td>0</td>\n",
              "      <td>0</td>\n",
              "      <td>0</td>\n",
              "      <td>0</td>\n",
              "      <td>0</td>\n",
              "      <td>0</td>\n",
              "      <td>0</td>\n",
              "      <td>0</td>\n",
              "      <td>0</td>\n",
              "      <td>0</td>\n",
              "      <td>0</td>\n",
              "      <td>0</td>\n",
              "      <td>0</td>\n",
              "      <td>0</td>\n",
              "      <td>0</td>\n",
              "      <td>1</td>\n",
              "      <td>0</td>\n",
              "      <td>0</td>\n",
              "      <td>0</td>\n",
              "      <td>0</td>\n",
              "      <td>0</td>\n",
              "      <td>0</td>\n",
              "      <td>0</td>\n",
              "      <td>0</td>\n",
              "      <td>0</td>\n",
              "      <td>0</td>\n",
              "      <td>0</td>\n",
              "      <td>0</td>\n",
              "      <td>0</td>\n",
              "      <td>0</td>\n",
              "      <td>0</td>\n",
              "      <td>0</td>\n",
              "      <td>0</td>\n",
              "      <td>0</td>\n",
              "      <td>0</td>\n",
              "      <td>0</td>\n",
              "      <td>0</td>\n",
              "      <td>0</td>\n",
              "      <td>0</td>\n",
              "      <td>0</td>\n",
              "      <td>0</td>\n",
              "      <td>0</td>\n",
              "      <td>0</td>\n",
              "      <td>0</td>\n",
              "      <td>0</td>\n",
              "      <td>0</td>\n",
              "      <td>0</td>\n",
              "      <td>0</td>\n",
              "      <td>0</td>\n",
              "      <td>0</td>\n",
              "      <td>0</td>\n",
              "      <td>0</td>\n",
              "      <td>0</td>\n",
              "      <td>0</td>\n",
              "      <td>1</td>\n",
              "      <td>0</td>\n",
              "      <td>0</td>\n",
              "      <td>0</td>\n",
              "      <td>0</td>\n",
              "      <td>0</td>\n",
              "      <td>0</td>\n",
              "      <td>1</td>\n",
              "      <td>0</td>\n",
              "      <td>0</td>\n",
              "      <td>0</td>\n",
              "      <td>0</td>\n",
              "      <td>0</td>\n",
              "      <td>0</td>\n",
              "      <td>0</td>\n",
              "      <td>0</td>\n",
              "      <td>0</td>\n",
              "      <td>0</td>\n",
              "      <td>0</td>\n",
              "      <td>0</td>\n",
              "      <td>0</td>\n",
              "      <td>0</td>\n",
              "      <td>0</td>\n",
              "      <td>0</td>\n",
              "      <td>0</td>\n",
              "      <td>1</td>\n",
              "      <td>0</td>\n",
              "      <td>0</td>\n",
              "      <td>1</td>\n",
              "      <td>0</td>\n",
              "      <td>1</td>\n",
              "      <td>1</td>\n",
              "      <td>0</td>\n",
              "      <td>1</td>\n",
              "      <td>0</td>\n",
              "      <td>0</td>\n",
              "      <td>0</td>\n",
              "      <td>1</td>\n",
              "      <td>0</td>\n",
              "      <td>0</td>\n",
              "      <td>1</td>\n",
              "      <td>1</td>\n",
              "      <td>0</td>\n",
              "      <td>1</td>\n",
              "      <td>0</td>\n",
              "      <td>0</td>\n",
              "      <td>0</td>\n",
              "      <td>1</td>\n",
              "      <td>0</td>\n",
              "      <td>1</td>\n",
              "      <td>1</td>\n",
              "      <td>0</td>\n",
              "      <td>0</td>\n",
              "      <td>0</td>\n",
              "    </tr>\n",
              "  </tbody>\n",
              "</table>\n",
              "</div>\n",
              "    <div class=\"colab-df-buttons\">\n",
              "\n",
              "  <div class=\"colab-df-container\">\n",
              "    <button class=\"colab-df-convert\" onclick=\"convertToInteractive('df-5bf2b257-2efb-4937-8447-bb4474577687')\"\n",
              "            title=\"Convert this dataframe to an interactive table.\"\n",
              "            style=\"display:none;\">\n",
              "\n",
              "  <svg xmlns=\"http://www.w3.org/2000/svg\" height=\"24px\" viewBox=\"0 -960 960 960\">\n",
              "    <path d=\"M120-120v-720h720v720H120Zm60-500h600v-160H180v160Zm220 220h160v-160H400v160Zm0 220h160v-160H400v160ZM180-400h160v-160H180v160Zm440 0h160v-160H620v160ZM180-180h160v-160H180v160Zm440 0h160v-160H620v160Z\"/>\n",
              "  </svg>\n",
              "    </button>\n",
              "\n",
              "  <style>\n",
              "    .colab-df-container {\n",
              "      display:flex;\n",
              "      gap: 12px;\n",
              "    }\n",
              "\n",
              "    .colab-df-convert {\n",
              "      background-color: #E8F0FE;\n",
              "      border: none;\n",
              "      border-radius: 50%;\n",
              "      cursor: pointer;\n",
              "      display: none;\n",
              "      fill: #1967D2;\n",
              "      height: 32px;\n",
              "      padding: 0 0 0 0;\n",
              "      width: 32px;\n",
              "    }\n",
              "\n",
              "    .colab-df-convert:hover {\n",
              "      background-color: #E2EBFA;\n",
              "      box-shadow: 0px 1px 2px rgba(60, 64, 67, 0.3), 0px 1px 3px 1px rgba(60, 64, 67, 0.15);\n",
              "      fill: #174EA6;\n",
              "    }\n",
              "\n",
              "    .colab-df-buttons div {\n",
              "      margin-bottom: 4px;\n",
              "    }\n",
              "\n",
              "    [theme=dark] .colab-df-convert {\n",
              "      background-color: #3B4455;\n",
              "      fill: #D2E3FC;\n",
              "    }\n",
              "\n",
              "    [theme=dark] .colab-df-convert:hover {\n",
              "      background-color: #434B5C;\n",
              "      box-shadow: 0px 1px 3px 1px rgba(0, 0, 0, 0.15);\n",
              "      filter: drop-shadow(0px 1px 2px rgba(0, 0, 0, 0.3));\n",
              "      fill: #FFFFFF;\n",
              "    }\n",
              "  </style>\n",
              "\n",
              "    <script>\n",
              "      const buttonEl =\n",
              "        document.querySelector('#df-5bf2b257-2efb-4937-8447-bb4474577687 button.colab-df-convert');\n",
              "      buttonEl.style.display =\n",
              "        google.colab.kernel.accessAllowed ? 'block' : 'none';\n",
              "\n",
              "      async function convertToInteractive(key) {\n",
              "        const element = document.querySelector('#df-5bf2b257-2efb-4937-8447-bb4474577687');\n",
              "        const dataTable =\n",
              "          await google.colab.kernel.invokeFunction('convertToInteractive',\n",
              "                                                    [key], {});\n",
              "        if (!dataTable) return;\n",
              "\n",
              "        const docLinkHtml = 'Like what you see? Visit the ' +\n",
              "          '<a target=\"_blank\" href=https://colab.research.google.com/notebooks/data_table.ipynb>data table notebook</a>'\n",
              "          + ' to learn more about interactive tables.';\n",
              "        element.innerHTML = '';\n",
              "        dataTable['output_type'] = 'display_data';\n",
              "        await google.colab.output.renderOutput(dataTable, element);\n",
              "        const docLink = document.createElement('div');\n",
              "        docLink.innerHTML = docLinkHtml;\n",
              "        element.appendChild(docLink);\n",
              "      }\n",
              "    </script>\n",
              "  </div>\n",
              "\n",
              "\n",
              "    <div id=\"df-3ef56406-468e-447a-b7da-b69e422cebc5\">\n",
              "      <button class=\"colab-df-quickchart\" onclick=\"quickchart('df-3ef56406-468e-447a-b7da-b69e422cebc5')\"\n",
              "                title=\"Suggest charts\"\n",
              "                style=\"display:none;\">\n",
              "\n",
              "<svg xmlns=\"http://www.w3.org/2000/svg\" height=\"24px\"viewBox=\"0 0 24 24\"\n",
              "     width=\"24px\">\n",
              "    <g>\n",
              "        <path d=\"M19 3H5c-1.1 0-2 .9-2 2v14c0 1.1.9 2 2 2h14c1.1 0 2-.9 2-2V5c0-1.1-.9-2-2-2zM9 17H7v-7h2v7zm4 0h-2V7h2v10zm4 0h-2v-4h2v4z\"/>\n",
              "    </g>\n",
              "</svg>\n",
              "      </button>\n",
              "\n",
              "<style>\n",
              "  .colab-df-quickchart {\n",
              "      --bg-color: #E8F0FE;\n",
              "      --fill-color: #1967D2;\n",
              "      --hover-bg-color: #E2EBFA;\n",
              "      --hover-fill-color: #174EA6;\n",
              "      --disabled-fill-color: #AAA;\n",
              "      --disabled-bg-color: #DDD;\n",
              "  }\n",
              "\n",
              "  [theme=dark] .colab-df-quickchart {\n",
              "      --bg-color: #3B4455;\n",
              "      --fill-color: #D2E3FC;\n",
              "      --hover-bg-color: #434B5C;\n",
              "      --hover-fill-color: #FFFFFF;\n",
              "      --disabled-bg-color: #3B4455;\n",
              "      --disabled-fill-color: #666;\n",
              "  }\n",
              "\n",
              "  .colab-df-quickchart {\n",
              "    background-color: var(--bg-color);\n",
              "    border: none;\n",
              "    border-radius: 50%;\n",
              "    cursor: pointer;\n",
              "    display: none;\n",
              "    fill: var(--fill-color);\n",
              "    height: 32px;\n",
              "    padding: 0;\n",
              "    width: 32px;\n",
              "  }\n",
              "\n",
              "  .colab-df-quickchart:hover {\n",
              "    background-color: var(--hover-bg-color);\n",
              "    box-shadow: 0 1px 2px rgba(60, 64, 67, 0.3), 0 1px 3px 1px rgba(60, 64, 67, 0.15);\n",
              "    fill: var(--button-hover-fill-color);\n",
              "  }\n",
              "\n",
              "  .colab-df-quickchart-complete:disabled,\n",
              "  .colab-df-quickchart-complete:disabled:hover {\n",
              "    background-color: var(--disabled-bg-color);\n",
              "    fill: var(--disabled-fill-color);\n",
              "    box-shadow: none;\n",
              "  }\n",
              "\n",
              "  .colab-df-spinner {\n",
              "    border: 2px solid var(--fill-color);\n",
              "    border-color: transparent;\n",
              "    border-bottom-color: var(--fill-color);\n",
              "    animation:\n",
              "      spin 1s steps(1) infinite;\n",
              "  }\n",
              "\n",
              "  @keyframes spin {\n",
              "    0% {\n",
              "      border-color: transparent;\n",
              "      border-bottom-color: var(--fill-color);\n",
              "      border-left-color: var(--fill-color);\n",
              "    }\n",
              "    20% {\n",
              "      border-color: transparent;\n",
              "      border-left-color: var(--fill-color);\n",
              "      border-top-color: var(--fill-color);\n",
              "    }\n",
              "    30% {\n",
              "      border-color: transparent;\n",
              "      border-left-color: var(--fill-color);\n",
              "      border-top-color: var(--fill-color);\n",
              "      border-right-color: var(--fill-color);\n",
              "    }\n",
              "    40% {\n",
              "      border-color: transparent;\n",
              "      border-right-color: var(--fill-color);\n",
              "      border-top-color: var(--fill-color);\n",
              "    }\n",
              "    60% {\n",
              "      border-color: transparent;\n",
              "      border-right-color: var(--fill-color);\n",
              "    }\n",
              "    80% {\n",
              "      border-color: transparent;\n",
              "      border-right-color: var(--fill-color);\n",
              "      border-bottom-color: var(--fill-color);\n",
              "    }\n",
              "    90% {\n",
              "      border-color: transparent;\n",
              "      border-bottom-color: var(--fill-color);\n",
              "    }\n",
              "  }\n",
              "</style>\n",
              "\n",
              "      <script>\n",
              "        async function quickchart(key) {\n",
              "          const quickchartButtonEl =\n",
              "            document.querySelector('#' + key + ' button');\n",
              "          quickchartButtonEl.disabled = true;  // To prevent multiple clicks.\n",
              "          quickchartButtonEl.classList.add('colab-df-spinner');\n",
              "          try {\n",
              "            const charts = await google.colab.kernel.invokeFunction(\n",
              "                'suggestCharts', [key], {});\n",
              "          } catch (error) {\n",
              "            console.error('Error during call to suggestCharts:', error);\n",
              "          }\n",
              "          quickchartButtonEl.classList.remove('colab-df-spinner');\n",
              "          quickchartButtonEl.classList.add('colab-df-quickchart-complete');\n",
              "        }\n",
              "        (() => {\n",
              "          let quickchartButtonEl =\n",
              "            document.querySelector('#df-3ef56406-468e-447a-b7da-b69e422cebc5 button');\n",
              "          quickchartButtonEl.style.display =\n",
              "            google.colab.kernel.accessAllowed ? 'block' : 'none';\n",
              "        })();\n",
              "      </script>\n",
              "    </div>\n",
              "\n",
              "    </div>\n",
              "  </div>\n"
            ],
            "application/vnd.google.colaboratory.intrinsic+json": {
              "type": "dataframe",
              "variable_name": "df"
            }
          },
          "metadata": {},
          "execution_count": 5
        }
      ],
      "source": [
        "df.head()"
      ]
    },
    {
      "cell_type": "code",
      "execution_count": 6,
      "metadata": {
        "id": "hozqjjyKv3py"
      },
      "outputs": [],
      "source": [
        "# 독립변수에서 제외할 변수 목록\n",
        "drop_cols = [\n",
        "    'term', 'last_pymnt_d', 'installment', 'funded_amnt',\n",
        "    'recoveries', 'collection_recovery_fee', 'default', 'issue_d'\n",
        "]\n",
        "\n",
        "X = df.drop(columns=drop_cols)\n",
        "y = df['default']"
      ]
    },
    {
      "cell_type": "code",
      "source": [
        "!pip install fredapi"
      ],
      "metadata": {
        "colab": {
          "base_uri": "https://localhost:8080/"
        },
        "id": "zKbOWFUJKW7D",
        "outputId": "9b149bef-1fcf-4c26-936a-52d247ed0b66"
      },
      "execution_count": 7,
      "outputs": [
        {
          "output_type": "stream",
          "name": "stdout",
          "text": [
            "Collecting fredapi\n",
            "  Downloading fredapi-0.5.2-py3-none-any.whl.metadata (5.0 kB)\n",
            "Requirement already satisfied: pandas in /usr/local/lib/python3.11/dist-packages (from fredapi) (2.2.2)\n",
            "Requirement already satisfied: numpy>=1.23.2 in /usr/local/lib/python3.11/dist-packages (from pandas->fredapi) (2.0.2)\n",
            "Requirement already satisfied: python-dateutil>=2.8.2 in /usr/local/lib/python3.11/dist-packages (from pandas->fredapi) (2.9.0.post0)\n",
            "Requirement already satisfied: pytz>=2020.1 in /usr/local/lib/python3.11/dist-packages (from pandas->fredapi) (2025.2)\n",
            "Requirement already satisfied: tzdata>=2022.7 in /usr/local/lib/python3.11/dist-packages (from pandas->fredapi) (2025.2)\n",
            "Requirement already satisfied: six>=1.5 in /usr/local/lib/python3.11/dist-packages (from python-dateutil>=2.8.2->pandas->fredapi) (1.17.0)\n",
            "Downloading fredapi-0.5.2-py3-none-any.whl (11 kB)\n",
            "Installing collected packages: fredapi\n",
            "Successfully installed fredapi-0.5.2\n"
          ]
        }
      ]
    },
    {
      "cell_type": "code",
      "execution_count": 8,
      "metadata": {
        "colab": {
          "base_uri": "https://localhost:8080/"
        },
        "id": "rgGQMAVYRrEp",
        "outputId": "7650a2f7-8cfb-4d32-db01-92b0fc21ecc4"
      },
      "outputs": [
        {
          "output_type": "stream",
          "name": "stdout",
          "text": [
            "1953-04-01    2.51\n",
            "1953-05-01    2.72\n",
            "1953-06-01    2.74\n",
            "1953-07-01    2.62\n",
            "1953-08-01    2.58\n",
            "dtype: float64\n"
          ]
        }
      ],
      "source": [
        "from fredapi import Fred\n",
        "\n",
        "# FRED API 연결\n",
        "fred = Fred(api_key=\"05ceea53cbc890aa3e4416729c89001b\")  # 실제 API 키로 대체해야 함\n",
        "\n",
        "# 미국 3년 만기 국채 수익률(GS3) 시계열 불러오기\n",
        "series = fred.get_series('GS3')  # pandas.Series 형식으로 반환됨\n",
        "\n",
        "\n",
        "print(series.head())"
      ]
    },
    {
      "cell_type": "code",
      "execution_count": 9,
      "metadata": {
        "id": "Wutwi56B3MnD"
      },
      "outputs": [],
      "source": [
        "def get_nearest_rate(issue_date, rate_series):\n",
        "    if pd.isnull(issue_date):\n",
        "        return np.nan\n",
        "    try:\n",
        "        idx = rate_series.index.get_indexer([issue_date], method='nearest')[0]\n",
        "        return rate_series.iloc[idx] / 100  # % 단위 → 소수로 변환\n",
        "    except Exception as e:\n",
        "        print(f\"Error: {issue_date} ▶ {e}\")\n",
        "        return np.nan\n",
        "\n",
        "\n",
        "df['risk_free_rate'] = df['issue_d'].apply(lambda x: get_nearest_rate(x, series))\n"
      ]
    },
    {
      "cell_type": "code",
      "execution_count": 10,
      "metadata": {
        "id": "HeuJizSsI90g",
        "colab": {
          "base_uri": "https://localhost:8080/"
        },
        "outputId": "1bf7e6ee-65aa-4f4a-bf29-43813db5ab51"
      },
      "outputs": [
        {
          "output_type": "stream",
          "name": "stderr",
          "text": [
            "/tmp/ipython-input-4242469769.py:1: UserWarning: Could not infer format, so each element will be parsed individually, falling back to `dateutil`. To ensure parsing is consistent and as-expected, please specify a format.\n",
            "  df['last_pymnt_d'] = pd.to_datetime(df['last_pymnt_d'])\n"
          ]
        }
      ],
      "source": [
        "df['last_pymnt_d'] = pd.to_datetime(df['last_pymnt_d'])\n",
        "df['issue_d'] = pd.to_datetime(df['issue_d'])  # 혹시 모르니 이것도"
      ]
    },
    {
      "cell_type": "code",
      "execution_count": 11,
      "metadata": {
        "id": "9Y74_yqiI90g",
        "outputId": "35c2b76f-733c-4599-c8a9-0d9b7aef419c",
        "colab": {
          "base_uri": "https://localhost:8080/"
        }
      },
      "outputs": [
        {
          "output_type": "stream",
          "name": "stdout",
          "text": [
            "     issue_d  risk_free_rate last_pymnt_d\n",
            "0 2017-12-01          0.0196   2020-04-01\n",
            "1 2016-07-01          0.0079   2016-12-01\n",
            "2 2017-10-01          0.0168   2019-08-01\n",
            "3 2017-05-01          0.0148   2019-03-01\n",
            "4 2015-09-01          0.0101   2018-10-01\n"
          ]
        }
      ],
      "source": [
        "print(df[['issue_d', 'risk_free_rate', 'last_pymnt_d']].head())"
      ]
    },
    {
      "cell_type": "code",
      "execution_count": 12,
      "metadata": {
        "id": "tdIEJjqB4uZF"
      },
      "outputs": [],
      "source": [
        "from dateutil.relativedelta import relativedelta\n",
        "\n",
        "def create_cash_flow_from_dates(row):\n",
        "    try:\n",
        "        term = int(row['term'])\n",
        "        default = int(row['default'])\n",
        "        issue_d = row['issue_d']  # 이미 datetime 형식\n",
        "        last_pymnt_d = pd.to_datetime(row['last_pymnt_d'])  # 이건 문자열일 수도 있으니 변환\n",
        "        installment = float(row['installment'])\n",
        "        funded_amnt = float(row['funded_amnt'])\n",
        "        recoveries = float(row['recoveries'])\n",
        "        collection_fee = float(row['collection_recovery_fee'])\n",
        "\n",
        "        # 첫 현금흐름: 대출 실행\n",
        "        cash_flow = [-funded_amnt]\n",
        "\n",
        "        if pd.isnull(issue_d) or pd.isnull(last_pymnt_d):\n",
        "            return np.nan\n",
        "\n",
        "        # 몇 회차까지 납입했는지 계산\n",
        "        delta = relativedelta(last_pymnt_d, issue_d)\n",
        "        last_pymnt_num = delta.years * 12 + delta.months\n",
        "\n",
        "        for month in range(1, term + 1):\n",
        "            if default == 1:\n",
        "                if month <= last_pymnt_num:\n",
        "                    cash_flow.append(installment)\n",
        "                elif month == last_pymnt_num + 1:\n",
        "                    cash_flow.append(recoveries - collection_fee)\n",
        "                else:\n",
        "                    cash_flow.append(0)\n",
        "            else:\n",
        "                cash_flow.append(installment)\n",
        "\n",
        "        return cash_flow\n",
        "\n",
        "    except Exception as e:\n",
        "        print(f\"[오류] index={row.name}, error={e}\")\n",
        "        return np.nan\n"
      ]
    },
    {
      "cell_type": "code",
      "execution_count": 13,
      "metadata": {
        "id": "cNS1Bp8jw3yL"
      },
      "outputs": [],
      "source": [
        "df['cash_flow'] = df.apply(create_cash_flow_from_dates, axis=1)"
      ]
    },
    {
      "cell_type": "code",
      "execution_count": 14,
      "metadata": {
        "id": "inCwlhEZ47ME",
        "colab": {
          "base_uri": "https://localhost:8080/"
        },
        "outputId": "fe7ba9d7-a36b-486b-a0a5-f8e20445304a"
      },
      "outputs": [
        {
          "output_type": "stream",
          "name": "stdout",
          "text": [
            "Collecting numpy-financial\n",
            "  Downloading numpy_financial-1.0.0-py3-none-any.whl.metadata (2.2 kB)\n",
            "Requirement already satisfied: numpy>=1.15 in /usr/local/lib/python3.11/dist-packages (from numpy-financial) (2.0.2)\n",
            "Downloading numpy_financial-1.0.0-py3-none-any.whl (14 kB)\n",
            "Installing collected packages: numpy-financial\n",
            "Successfully installed numpy-financial-1.0.0\n"
          ]
        }
      ],
      "source": [
        "!pip install numpy-financial"
      ]
    },
    {
      "cell_type": "code",
      "execution_count": 15,
      "metadata": {
        "id": "iJLp1YqD4uJs"
      },
      "outputs": [],
      "source": [
        "import numpy_financial as npf\n",
        "\n",
        "def get_irr(cash_flow):\n",
        "    if not isinstance(cash_flow, list) or len(cash_flow) == 0:\n",
        "        return np.nan\n",
        "    irr_monthly = npf.irr(cash_flow)\n",
        "    if irr_monthly is None or np.isnan(irr_monthly):\n",
        "        return np.nan\n",
        "    return (1 + irr_monthly) ** 12 - 1  # 연환산"
      ]
    },
    {
      "cell_type": "code",
      "execution_count": 16,
      "metadata": {
        "id": "eYHKlA02I90h"
      },
      "outputs": [],
      "source": [
        "df['irr'] = df['cash_flow'].apply(get_irr)"
      ]
    },
    {
      "cell_type": "code",
      "execution_count": 17,
      "metadata": {
        "id": "DyEEX7Z0I90h"
      },
      "outputs": [],
      "source": [
        "df['irr'] = df['irr'].fillna(df['risk_free_rate'])"
      ]
    },
    {
      "cell_type": "code",
      "execution_count": 19,
      "metadata": {
        "id": "79WIAF9sI90h"
      },
      "outputs": [],
      "source": [
        "# 결과 저장용 리스트\n",
        "best_models = []\n",
        "best_thresholds = []\n",
        "validation_sharpes = []\n",
        "test_sharpes = []\n",
        "test_approval_rates = []\n",
        "test_irr_means = []\n",
        "test_irr_positive_rates = []\n",
        "\n",
        "\n",
        "# Sharpe 계산 함수\n",
        "def calculate_sharpe(returns, risk_free_rates):\n",
        "    excess = returns - risk_free_rates\n",
        "    if excess.std(ddof=1) == 0:\n",
        "        return -np.inf\n",
        "    return excess.mean() / excess.std(ddof=1)"
      ]
    },
    {
      "cell_type": "code",
      "source": [
        "import lightgbm as lgb\n",
        "from sklearn.model_selection import train_test_split, RandomizedSearchCV\n",
        "from sklearn.metrics import roc_auc_score\n",
        "import numpy as np\n",
        "import pandas as pd\n",
        "import joblib\n",
        "import json\n",
        "import os\n",
        "\n",
        "# 저장 경로 설정\n",
        "SAVE_DIR = \"/content/drive/MyDrive/통계데이터사이언스/lending_club\"\n",
        "os.makedirs(SAVE_DIR, exist_ok=True)\n",
        "\n",
        "# LightGBM 하이퍼파라미터 공간 정의\n",
        "param_dist = {\n",
        "    'n_estimators': [100, 200, 300],\n",
        "    'max_depth': [3, 5, 7, 10],\n",
        "    'num_leaves': [15, 31, 63],\n",
        "    'learning_rate': [0.01, 0.05, 0.1],\n",
        "    'min_child_samples': [10, 20, 30],\n",
        "    'subsample': [0.6, 0.8, 1.0],\n",
        "    'colsample_bytree': [0.6, 0.8, 1.0]\n",
        "}\n",
        "\n",
        "# 전체 데이터를 그대로 사용\n",
        "# X, y는 이미 정의되어 있다고 가정\n",
        "\n",
        "model_base = lgb.LGBMClassifier(random_state=42)\n",
        "\n",
        "search = RandomizedSearchCV(\n",
        "    model_base,\n",
        "    param_distributions=param_dist,\n",
        "    n_iter=5,        # 필요에 따라 늘려도 됩니다\n",
        "    scoring='roc_auc',\n",
        "    cv=2,\n",
        "    verbose=2,\n",
        "    n_jobs=-1\n",
        ")\n",
        "\n",
        "search.fit(X, y)\n",
        "\n",
        "# 최적 하이퍼파라미터 저장\n",
        "best_params = search.best_params_\n",
        "print(\"✅ Best hyperparameters (from tuning):\", best_params)\n"
      ],
      "metadata": {
        "colab": {
          "base_uri": "https://localhost:8080/",
          "height": 400
        },
        "id": "y5iIjQurnPwU",
        "outputId": "47359256-10bc-44ad-a15c-2092c300d74b"
      },
      "execution_count": 24,
      "outputs": [
        {
          "output_type": "stream",
          "name": "stdout",
          "text": [
            "Fitting 2 folds for each of 5 candidates, totalling 10 fits\n",
            "✅ Best hyperparameters (from tuning): {'subsample': 1.0, 'num_leaves': 63, 'n_estimators': 200, 'min_child_samples': 10, 'max_depth': 10, 'learning_rate': 0.05, 'colsample_bytree': 1.0}\n"
          ]
        }
      ]
    },
    {
      "cell_type": "code",
      "source": [
        "best_params = {\n",
        "    'subsample': 1.0,\n",
        "    'num_leaves': 63,\n",
        "    'n_estimators': 200,\n",
        "    'min_child_samples': 10,\n",
        "    'max_depth': 10,\n",
        "    'learning_rate': 0.05,\n",
        "    'colsample_bytree': 1.0\n",
        "}\n"
      ],
      "metadata": {
        "id": "1_3CqCGDzlno"
      },
      "execution_count": 22,
      "outputs": []
    },
    {
      "cell_type": "code",
      "source": [
        "import lightgbm as lgb\n",
        "from sklearn.model_selection import train_test_split\n",
        "import numpy as np\n",
        "from tqdm import tqdm\n",
        "import joblib\n",
        "import json\n",
        "\n",
        "# 결과 저장용 리스트\n",
        "best_models = []\n",
        "best_thresholds = []\n",
        "validation_sharpes = []\n",
        "test_sharpes = []\n",
        "test_approval_rates = []\n",
        "test_irr_means = []\n",
        "test_irr_positive_rates = []\n",
        "\n",
        "# 베스트 모델 저장 변수\n",
        "best_model = None\n",
        "best_sharpe_overall = -np.inf\n",
        "best_model_index = None\n",
        "best_threshold_overall = None\n",
        "best_params_overall = None\n",
        "\n",
        "for i in tqdm(range(100)):\n",
        "    # 데이터 분할\n",
        "    X_temp, X_test, y_temp, y_test = train_test_split(\n",
        "        X, y, test_size=0.2, random_state=i, stratify=y\n",
        "    )\n",
        "    X_train, X_val, y_train, y_val = train_test_split(\n",
        "        X_temp, y_temp, test_size=0.25, random_state=i, stratify=y_temp\n",
        "    )\n",
        "\n",
        "    # LightGBM 모델 학습\n",
        "    model = lgb.LGBMClassifier(**best_params, random_state=i, n_jobs=-1)\n",
        "    model.fit(X_train, y_train)\n",
        "\n",
        "    # 검증셋 예측 확률\n",
        "    y_pred_proba = model.predict_proba(X_val)[:, 1]\n",
        "    thresholds = np.arange(0.0, 1.0, 0.05)\n",
        "\n",
        "    best_sharpe = -np.inf\n",
        "    best_threshold = None\n",
        "    df_val = df.loc[X_val.index]\n",
        "\n",
        "    for threshold in thresholds:\n",
        "        approved_mask = y_pred_proba <= threshold\n",
        "        denied_mask = ~approved_mask\n",
        "\n",
        "        selected = df_val.copy()\n",
        "        selected.loc[approved_mask, 'irr_adj'] = selected.loc[approved_mask, 'irr']\n",
        "        selected.loc[denied_mask, 'irr_adj'] = selected.loc[denied_mask, 'risk_free_rate']\n",
        "\n",
        "        returns = selected['irr_adj']\n",
        "        risk_free = selected['risk_free_rate']\n",
        "        valid = returns.notnull() & risk_free.notnull()\n",
        "\n",
        "        if valid.sum() < 2:\n",
        "            continue\n",
        "\n",
        "        sharpe = calculate_sharpe(returns[valid], risk_free[valid])\n",
        "\n",
        "        if sharpe > best_sharpe:\n",
        "            best_sharpe = sharpe\n",
        "            best_threshold = threshold\n",
        "\n",
        "    best_models.append(model)\n",
        "    best_thresholds.append(best_threshold)\n",
        "    validation_sharpes.append(best_sharpe)\n",
        "\n",
        "    # 테스트셋 평가\n",
        "    y_test_proba = model.predict_proba(X_test)[:, 1]\n",
        "    test_approved_mask = y_test_proba <= best_threshold\n",
        "    df_test = df.loc[X_test.index]\n",
        "    test_selected = df_test[test_approved_mask]\n",
        "\n",
        "    returns_test = test_selected['irr']\n",
        "    risk_free_test = test_selected['risk_free_rate']\n",
        "    valid = returns_test.notnull() & risk_free_test.notnull()\n",
        "    returns_test = returns_test[valid]\n",
        "    risk_free_test = risk_free_test[valid]\n",
        "\n",
        "    sharpe_test = calculate_sharpe(returns_test, risk_free_test)\n",
        "    test_sharpes.append(sharpe_test)\n",
        "    test_approval_rates.append(len(returns_test) / len(df_test))\n",
        "    test_irr_means.append(returns_test.mean())\n",
        "    test_irr_positive_rates.append((returns_test > 0).mean())\n",
        "\n",
        "    # Best 모델 업데이트\n",
        "    if sharpe_test > best_sharpe_overall:\n",
        "        best_sharpe_overall = sharpe_test\n",
        "        best_model = model\n",
        "        best_model_index = i\n",
        "        best_threshold_overall = best_threshold\n",
        "        best_params_overall = model.get_params()\n",
        "\n",
        "# Best 모델 저장\n",
        "joblib.dump(best_model, f\"{SAVE_DIR}/best_model_lgb.pkl\")\n",
        "with open(f\"{SAVE_DIR}/best_model_threshold_lgb.json\", \"w\") as f:\n",
        "    json.dump({\"threshold\": best_threshold_overall}, f)\n",
        "with open(f\"{SAVE_DIR}/best_model_params_lgb.json\", \"w\") as f:\n",
        "    json.dump(best_params_overall, f)\n",
        "\n",
        "# 최종 결과 출력\n",
        "print(\"\\n최종 결과 요약\")\n",
        "print(\"✅ Best model index:\", best_model_index)\n",
        "print(\"✅ Best validation Sharpe ratio:\", validation_sharpes[best_model_index])\n",
        "print(\"✅ Best test Sharpe ratio:\", test_sharpes[best_model_index])\n",
        "print(\"✅ Best approval rate:\", test_approval_rates[best_model_index])\n",
        "print(\"✅ Mean IRR:\", test_irr_means[best_model_index])\n",
        "print(\"✅ Positive IRR ratio:\", test_irr_positive_rates[best_model_index])\n",
        "print(\"✅ Best threshold:\", best_thresholds[best_model_index])\n",
        "print(\"✅ Best model params:\", best_model.get_params())\n"
      ],
      "metadata": {
        "colab": {
          "base_uri": "https://localhost:8080/"
        },
        "id": "VW8K904anL_a",
        "outputId": "e31b8b4a-182c-457e-8601-7f04e37b0036"
      },
      "execution_count": 23,
      "outputs": [
        {
          "output_type": "stream",
          "name": "stderr",
          "text": [
            "\r  0%|          | 0/100 [00:00<?, ?it/s]"
          ]
        },
        {
          "output_type": "stream",
          "name": "stdout",
          "text": [
            "[LightGBM] [Info] Number of positive: 130580, number of negative: 539113\n",
            "[LightGBM] [Info] Auto-choosing row-wise multi-threading, the overhead of testing was 0.069659 seconds.\n",
            "You can set `force_row_wise=true` to remove the overhead.\n",
            "And if memory is not enough, you can set `force_col_wise=true`.\n",
            "[LightGBM] [Info] Total Bins 7558\n",
            "[LightGBM] [Info] Number of data points in the train set: 669693, number of used features: 153\n",
            "[LightGBM] [Info] [binary:BoostFromScore]: pavg=0.194985 -> initscore=-1.417939\n",
            "[LightGBM] [Info] Start training from score -1.417939\n"
          ]
        },
        {
          "output_type": "stream",
          "name": "stderr",
          "text": [
            "\r  1%|          | 1/100 [00:30<50:38, 30.70s/it]"
          ]
        },
        {
          "output_type": "stream",
          "name": "stdout",
          "text": [
            "[LightGBM] [Info] Number of positive: 130580, number of negative: 539113\n",
            "[LightGBM] [Info] Auto-choosing row-wise multi-threading, the overhead of testing was 0.066283 seconds.\n",
            "You can set `force_row_wise=true` to remove the overhead.\n",
            "And if memory is not enough, you can set `force_col_wise=true`.\n",
            "[LightGBM] [Info] Total Bins 7515\n",
            "[LightGBM] [Info] Number of data points in the train set: 669693, number of used features: 153\n",
            "[LightGBM] [Info] [binary:BoostFromScore]: pavg=0.194985 -> initscore=-1.417939\n",
            "[LightGBM] [Info] Start training from score -1.417939\n"
          ]
        },
        {
          "output_type": "stream",
          "name": "stderr",
          "text": [
            "\r  2%|▏         | 2/100 [00:56<45:22, 27.78s/it]"
          ]
        },
        {
          "output_type": "stream",
          "name": "stdout",
          "text": [
            "[LightGBM] [Info] Number of positive: 130580, number of negative: 539113\n",
            "[LightGBM] [Info] Auto-choosing row-wise multi-threading, the overhead of testing was 0.063476 seconds.\n",
            "You can set `force_row_wise=true` to remove the overhead.\n",
            "And if memory is not enough, you can set `force_col_wise=true`.\n",
            "[LightGBM] [Info] Total Bins 7522\n",
            "[LightGBM] [Info] Number of data points in the train set: 669693, number of used features: 153\n",
            "[LightGBM] [Info] [binary:BoostFromScore]: pavg=0.194985 -> initscore=-1.417939\n",
            "[LightGBM] [Info] Start training from score -1.417939\n"
          ]
        },
        {
          "output_type": "stream",
          "name": "stderr",
          "text": [
            "\r  3%|▎         | 3/100 [01:22<43:21, 26.81s/it]"
          ]
        },
        {
          "output_type": "stream",
          "name": "stdout",
          "text": [
            "[LightGBM] [Info] Number of positive: 130580, number of negative: 539113\n",
            "[LightGBM] [Info] Auto-choosing row-wise multi-threading, the overhead of testing was 0.065058 seconds.\n",
            "You can set `force_row_wise=true` to remove the overhead.\n",
            "And if memory is not enough, you can set `force_col_wise=true`.\n",
            "[LightGBM] [Info] Total Bins 7519\n",
            "[LightGBM] [Info] Number of data points in the train set: 669693, number of used features: 153\n",
            "[LightGBM] [Info] [binary:BoostFromScore]: pavg=0.194985 -> initscore=-1.417939\n",
            "[LightGBM] [Info] Start training from score -1.417939\n"
          ]
        },
        {
          "output_type": "stream",
          "name": "stderr",
          "text": [
            "\r  4%|▍         | 4/100 [01:46<41:32, 25.97s/it]"
          ]
        },
        {
          "output_type": "stream",
          "name": "stdout",
          "text": [
            "[LightGBM] [Info] Number of positive: 130580, number of negative: 539113\n",
            "[LightGBM] [Info] Auto-choosing row-wise multi-threading, the overhead of testing was 0.070484 seconds.\n",
            "You can set `force_row_wise=true` to remove the overhead.\n",
            "And if memory is not enough, you can set `force_col_wise=true`.\n",
            "[LightGBM] [Info] Total Bins 7512\n",
            "[LightGBM] [Info] Number of data points in the train set: 669693, number of used features: 154\n",
            "[LightGBM] [Info] [binary:BoostFromScore]: pavg=0.194985 -> initscore=-1.417939\n",
            "[LightGBM] [Info] Start training from score -1.417939\n"
          ]
        },
        {
          "output_type": "stream",
          "name": "stderr",
          "text": [
            "\r  5%|▌         | 5/100 [02:11<40:41, 25.70s/it]"
          ]
        },
        {
          "output_type": "stream",
          "name": "stdout",
          "text": [
            "[LightGBM] [Info] Number of positive: 130580, number of negative: 539113\n",
            "[LightGBM] [Info] Auto-choosing row-wise multi-threading, the overhead of testing was 0.069680 seconds.\n",
            "You can set `force_row_wise=true` to remove the overhead.\n",
            "And if memory is not enough, you can set `force_col_wise=true`.\n",
            "[LightGBM] [Info] Total Bins 7522\n",
            "[LightGBM] [Info] Number of data points in the train set: 669693, number of used features: 153\n",
            "[LightGBM] [Info] [binary:BoostFromScore]: pavg=0.194985 -> initscore=-1.417939\n",
            "[LightGBM] [Info] Start training from score -1.417939\n"
          ]
        },
        {
          "output_type": "stream",
          "name": "stderr",
          "text": [
            "\r  6%|▌         | 6/100 [02:36<39:38, 25.30s/it]"
          ]
        },
        {
          "output_type": "stream",
          "name": "stdout",
          "text": [
            "[LightGBM] [Info] Number of positive: 130580, number of negative: 539113\n",
            "[LightGBM] [Info] Auto-choosing row-wise multi-threading, the overhead of testing was 0.075782 seconds.\n",
            "You can set `force_row_wise=true` to remove the overhead.\n",
            "And if memory is not enough, you can set `force_col_wise=true`.\n",
            "[LightGBM] [Info] Total Bins 7510\n",
            "[LightGBM] [Info] Number of data points in the train set: 669693, number of used features: 153\n",
            "[LightGBM] [Info] [binary:BoostFromScore]: pavg=0.194985 -> initscore=-1.417939\n",
            "[LightGBM] [Info] Start training from score -1.417939\n"
          ]
        },
        {
          "output_type": "stream",
          "name": "stderr",
          "text": [
            "\r  7%|▋         | 7/100 [03:03<40:03, 25.84s/it]"
          ]
        },
        {
          "output_type": "stream",
          "name": "stdout",
          "text": [
            "[LightGBM] [Info] Number of positive: 130580, number of negative: 539113\n",
            "[LightGBM] [Info] Auto-choosing row-wise multi-threading, the overhead of testing was 0.061325 seconds.\n",
            "You can set `force_row_wise=true` to remove the overhead.\n",
            "And if memory is not enough, you can set `force_col_wise=true`.\n",
            "[LightGBM] [Info] Total Bins 7498\n",
            "[LightGBM] [Info] Number of data points in the train set: 669693, number of used features: 153\n",
            "[LightGBM] [Info] [binary:BoostFromScore]: pavg=0.194985 -> initscore=-1.417939\n",
            "[LightGBM] [Info] Start training from score -1.417939\n"
          ]
        },
        {
          "output_type": "stream",
          "name": "stderr",
          "text": [
            "\r  8%|▊         | 8/100 [03:28<39:14, 25.60s/it]"
          ]
        },
        {
          "output_type": "stream",
          "name": "stdout",
          "text": [
            "[LightGBM] [Info] Number of positive: 130580, number of negative: 539113\n",
            "[LightGBM] [Info] Auto-choosing row-wise multi-threading, the overhead of testing was 0.062400 seconds.\n",
            "You can set `force_row_wise=true` to remove the overhead.\n",
            "And if memory is not enough, you can set `force_col_wise=true`.\n",
            "[LightGBM] [Info] Total Bins 7540\n",
            "[LightGBM] [Info] Number of data points in the train set: 669693, number of used features: 153\n",
            "[LightGBM] [Info] [binary:BoostFromScore]: pavg=0.194985 -> initscore=-1.417939\n",
            "[LightGBM] [Info] Start training from score -1.417939\n"
          ]
        },
        {
          "output_type": "stream",
          "name": "stderr",
          "text": [
            "\r  9%|▉         | 9/100 [03:54<39:07, 25.80s/it]"
          ]
        },
        {
          "output_type": "stream",
          "name": "stdout",
          "text": [
            "[LightGBM] [Info] Number of positive: 130580, number of negative: 539113\n",
            "[LightGBM] [Info] Auto-choosing row-wise multi-threading, the overhead of testing was 0.074247 seconds.\n",
            "You can set `force_row_wise=true` to remove the overhead.\n",
            "And if memory is not enough, you can set `force_col_wise=true`.\n",
            "[LightGBM] [Info] Total Bins 7510\n",
            "[LightGBM] [Info] Number of data points in the train set: 669693, number of used features: 153\n",
            "[LightGBM] [Info] [binary:BoostFromScore]: pavg=0.194985 -> initscore=-1.417939\n",
            "[LightGBM] [Info] Start training from score -1.417939\n"
          ]
        },
        {
          "output_type": "stream",
          "name": "stderr",
          "text": [
            "\r 10%|█         | 10/100 [04:22<39:34, 26.38s/it]"
          ]
        },
        {
          "output_type": "stream",
          "name": "stdout",
          "text": [
            "[LightGBM] [Info] Number of positive: 130580, number of negative: 539113\n",
            "[LightGBM] [Info] Auto-choosing row-wise multi-threading, the overhead of testing was 0.249878 seconds.\n",
            "You can set `force_row_wise=true` to remove the overhead.\n",
            "And if memory is not enough, you can set `force_col_wise=true`.\n",
            "[LightGBM] [Info] Total Bins 7532\n",
            "[LightGBM] [Info] Number of data points in the train set: 669693, number of used features: 153\n",
            "[LightGBM] [Info] [binary:BoostFromScore]: pavg=0.194985 -> initscore=-1.417939\n",
            "[LightGBM] [Info] Start training from score -1.417939\n"
          ]
        },
        {
          "output_type": "stream",
          "name": "stderr",
          "text": [
            "\r 11%|█         | 11/100 [04:48<39:09, 26.40s/it]"
          ]
        },
        {
          "output_type": "stream",
          "name": "stdout",
          "text": [
            "[LightGBM] [Info] Number of positive: 130580, number of negative: 539113\n",
            "[LightGBM] [Info] Auto-choosing row-wise multi-threading, the overhead of testing was 0.131885 seconds.\n",
            "You can set `force_row_wise=true` to remove the overhead.\n",
            "And if memory is not enough, you can set `force_col_wise=true`.\n",
            "[LightGBM] [Info] Total Bins 7524\n",
            "[LightGBM] [Info] Number of data points in the train set: 669693, number of used features: 154\n",
            "[LightGBM] [Info] [binary:BoostFromScore]: pavg=0.194985 -> initscore=-1.417939\n",
            "[LightGBM] [Info] Start training from score -1.417939\n"
          ]
        },
        {
          "output_type": "stream",
          "name": "stderr",
          "text": [
            "\r 12%|█▏        | 12/100 [05:14<38:26, 26.21s/it]"
          ]
        },
        {
          "output_type": "stream",
          "name": "stdout",
          "text": [
            "[LightGBM] [Info] Number of positive: 130580, number of negative: 539113\n",
            "[LightGBM] [Info] Auto-choosing row-wise multi-threading, the overhead of testing was 0.076982 seconds.\n",
            "You can set `force_row_wise=true` to remove the overhead.\n",
            "And if memory is not enough, you can set `force_col_wise=true`.\n",
            "[LightGBM] [Info] Total Bins 7503\n",
            "[LightGBM] [Info] Number of data points in the train set: 669693, number of used features: 153\n",
            "[LightGBM] [Info] [binary:BoostFromScore]: pavg=0.194985 -> initscore=-1.417939\n",
            "[LightGBM] [Info] Start training from score -1.417939\n"
          ]
        },
        {
          "output_type": "stream",
          "name": "stderr",
          "text": [
            "\r 13%|█▎        | 13/100 [05:41<38:18, 26.42s/it]"
          ]
        },
        {
          "output_type": "stream",
          "name": "stdout",
          "text": [
            "[LightGBM] [Info] Number of positive: 130580, number of negative: 539113\n",
            "[LightGBM] [Info] Auto-choosing row-wise multi-threading, the overhead of testing was 0.067708 seconds.\n",
            "You can set `force_row_wise=true` to remove the overhead.\n",
            "And if memory is not enough, you can set `force_col_wise=true`.\n",
            "[LightGBM] [Info] Total Bins 7514\n",
            "[LightGBM] [Info] Number of data points in the train set: 669693, number of used features: 153\n",
            "[LightGBM] [Info] [binary:BoostFromScore]: pavg=0.194985 -> initscore=-1.417939\n",
            "[LightGBM] [Info] Start training from score -1.417939\n"
          ]
        },
        {
          "output_type": "stream",
          "name": "stderr",
          "text": [
            "\r 14%|█▍        | 14/100 [06:06<37:14, 25.99s/it]"
          ]
        },
        {
          "output_type": "stream",
          "name": "stdout",
          "text": [
            "[LightGBM] [Info] Number of positive: 130580, number of negative: 539113\n",
            "[LightGBM] [Info] Auto-choosing row-wise multi-threading, the overhead of testing was 0.083028 seconds.\n",
            "You can set `force_row_wise=true` to remove the overhead.\n",
            "And if memory is not enough, you can set `force_col_wise=true`.\n",
            "[LightGBM] [Info] Total Bins 7515\n",
            "[LightGBM] [Info] Number of data points in the train set: 669693, number of used features: 153\n",
            "[LightGBM] [Info] [binary:BoostFromScore]: pavg=0.194985 -> initscore=-1.417939\n",
            "[LightGBM] [Info] Start training from score -1.417939\n"
          ]
        },
        {
          "output_type": "stream",
          "name": "stderr",
          "text": [
            "\r 15%|█▌        | 15/100 [06:31<36:09, 25.52s/it]"
          ]
        },
        {
          "output_type": "stream",
          "name": "stdout",
          "text": [
            "[LightGBM] [Info] Number of positive: 130580, number of negative: 539113\n",
            "[LightGBM] [Info] Auto-choosing col-wise multi-threading, the overhead of testing was 0.175550 seconds.\n",
            "You can set `force_col_wise=true` to remove the overhead.\n",
            "[LightGBM] [Info] Total Bins 7524\n",
            "[LightGBM] [Info] Number of data points in the train set: 669693, number of used features: 154\n",
            "[LightGBM] [Info] [binary:BoostFromScore]: pavg=0.194985 -> initscore=-1.417939\n",
            "[LightGBM] [Info] Start training from score -1.417939\n"
          ]
        },
        {
          "output_type": "stream",
          "name": "stderr",
          "text": [
            "\r 16%|█▌        | 16/100 [06:56<35:38, 25.46s/it]"
          ]
        },
        {
          "output_type": "stream",
          "name": "stdout",
          "text": [
            "[LightGBM] [Info] Number of positive: 130580, number of negative: 539113\n",
            "[LightGBM] [Info] Auto-choosing row-wise multi-threading, the overhead of testing was 0.079094 seconds.\n",
            "You can set `force_row_wise=true` to remove the overhead.\n",
            "And if memory is not enough, you can set `force_col_wise=true`.\n",
            "[LightGBM] [Info] Total Bins 7523\n",
            "[LightGBM] [Info] Number of data points in the train set: 669693, number of used features: 153\n",
            "[LightGBM] [Info] [binary:BoostFromScore]: pavg=0.194985 -> initscore=-1.417939\n",
            "[LightGBM] [Info] Start training from score -1.417939\n"
          ]
        },
        {
          "output_type": "stream",
          "name": "stderr",
          "text": [
            "\r 17%|█▋        | 17/100 [07:20<34:45, 25.13s/it]"
          ]
        },
        {
          "output_type": "stream",
          "name": "stdout",
          "text": [
            "[LightGBM] [Info] Number of positive: 130580, number of negative: 539113\n",
            "[LightGBM] [Info] Auto-choosing row-wise multi-threading, the overhead of testing was 0.069919 seconds.\n",
            "You can set `force_row_wise=true` to remove the overhead.\n",
            "And if memory is not enough, you can set `force_col_wise=true`.\n",
            "[LightGBM] [Info] Total Bins 7525\n",
            "[LightGBM] [Info] Number of data points in the train set: 669693, number of used features: 153\n",
            "[LightGBM] [Info] [binary:BoostFromScore]: pavg=0.194985 -> initscore=-1.417939\n",
            "[LightGBM] [Info] Start training from score -1.417939\n"
          ]
        },
        {
          "output_type": "stream",
          "name": "stderr",
          "text": [
            "\r 18%|█▊        | 18/100 [07:44<33:47, 24.72s/it]"
          ]
        },
        {
          "output_type": "stream",
          "name": "stdout",
          "text": [
            "[LightGBM] [Info] Number of positive: 130580, number of negative: 539113\n",
            "[LightGBM] [Info] Auto-choosing row-wise multi-threading, the overhead of testing was 0.092605 seconds.\n",
            "You can set `force_row_wise=true` to remove the overhead.\n",
            "And if memory is not enough, you can set `force_col_wise=true`.\n",
            "[LightGBM] [Info] Total Bins 7545\n",
            "[LightGBM] [Info] Number of data points in the train set: 669693, number of used features: 153\n",
            "[LightGBM] [Info] [binary:BoostFromScore]: pavg=0.194985 -> initscore=-1.417939\n",
            "[LightGBM] [Info] Start training from score -1.417939\n"
          ]
        },
        {
          "output_type": "stream",
          "name": "stderr",
          "text": [
            "\r 19%|█▉        | 19/100 [08:09<33:25, 24.76s/it]"
          ]
        },
        {
          "output_type": "stream",
          "name": "stdout",
          "text": [
            "[LightGBM] [Info] Number of positive: 130580, number of negative: 539113\n",
            "[LightGBM] [Info] Auto-choosing row-wise multi-threading, the overhead of testing was 0.251606 seconds.\n",
            "You can set `force_row_wise=true` to remove the overhead.\n",
            "And if memory is not enough, you can set `force_col_wise=true`.\n",
            "[LightGBM] [Info] Total Bins 7505\n",
            "[LightGBM] [Info] Number of data points in the train set: 669693, number of used features: 153\n",
            "[LightGBM] [Info] [binary:BoostFromScore]: pavg=0.194985 -> initscore=-1.417939\n",
            "[LightGBM] [Info] Start training from score -1.417939\n"
          ]
        },
        {
          "output_type": "stream",
          "name": "stderr",
          "text": [
            "\r 20%|██        | 20/100 [08:33<32:47, 24.60s/it]"
          ]
        },
        {
          "output_type": "stream",
          "name": "stdout",
          "text": [
            "[LightGBM] [Info] Number of positive: 130580, number of negative: 539113\n",
            "[LightGBM] [Info] Auto-choosing row-wise multi-threading, the overhead of testing was 0.114841 seconds.\n",
            "You can set `force_row_wise=true` to remove the overhead.\n",
            "And if memory is not enough, you can set `force_col_wise=true`.\n",
            "[LightGBM] [Info] Total Bins 7535\n",
            "[LightGBM] [Info] Number of data points in the train set: 669693, number of used features: 153\n",
            "[LightGBM] [Info] [binary:BoostFromScore]: pavg=0.194985 -> initscore=-1.417939\n",
            "[LightGBM] [Info] Start training from score -1.417939\n"
          ]
        },
        {
          "output_type": "stream",
          "name": "stderr",
          "text": [
            "\r 21%|██        | 21/100 [08:56<31:55, 24.25s/it]"
          ]
        },
        {
          "output_type": "stream",
          "name": "stdout",
          "text": [
            "[LightGBM] [Info] Number of positive: 130580, number of negative: 539113\n",
            "[LightGBM] [Info] Auto-choosing row-wise multi-threading, the overhead of testing was 0.068491 seconds.\n",
            "You can set `force_row_wise=true` to remove the overhead.\n",
            "And if memory is not enough, you can set `force_col_wise=true`.\n",
            "[LightGBM] [Info] Total Bins 7527\n",
            "[LightGBM] [Info] Number of data points in the train set: 669693, number of used features: 153\n",
            "[LightGBM] [Info] [binary:BoostFromScore]: pavg=0.194985 -> initscore=-1.417939\n",
            "[LightGBM] [Info] Start training from score -1.417939\n"
          ]
        },
        {
          "output_type": "stream",
          "name": "stderr",
          "text": [
            "\r 22%|██▏       | 22/100 [09:20<31:08, 23.96s/it]"
          ]
        },
        {
          "output_type": "stream",
          "name": "stdout",
          "text": [
            "[LightGBM] [Info] Number of positive: 130580, number of negative: 539113\n",
            "[LightGBM] [Info] Auto-choosing row-wise multi-threading, the overhead of testing was 0.101621 seconds.\n",
            "You can set `force_row_wise=true` to remove the overhead.\n",
            "And if memory is not enough, you can set `force_col_wise=true`.\n",
            "[LightGBM] [Info] Total Bins 7534\n",
            "[LightGBM] [Info] Number of data points in the train set: 669693, number of used features: 153\n",
            "[LightGBM] [Info] [binary:BoostFromScore]: pavg=0.194985 -> initscore=-1.417939\n",
            "[LightGBM] [Info] Start training from score -1.417939\n"
          ]
        },
        {
          "output_type": "stream",
          "name": "stderr",
          "text": [
            "\r 23%|██▎       | 23/100 [09:45<31:16, 24.38s/it]"
          ]
        },
        {
          "output_type": "stream",
          "name": "stdout",
          "text": [
            "[LightGBM] [Info] Number of positive: 130580, number of negative: 539113\n",
            "[LightGBM] [Info] Auto-choosing row-wise multi-threading, the overhead of testing was 0.089731 seconds.\n",
            "You can set `force_row_wise=true` to remove the overhead.\n",
            "And if memory is not enough, you can set `force_col_wise=true`.\n",
            "[LightGBM] [Info] Total Bins 7504\n",
            "[LightGBM] [Info] Number of data points in the train set: 669693, number of used features: 153\n",
            "[LightGBM] [Info] [binary:BoostFromScore]: pavg=0.194985 -> initscore=-1.417939\n",
            "[LightGBM] [Info] Start training from score -1.417939\n"
          ]
        },
        {
          "output_type": "stream",
          "name": "stderr",
          "text": [
            "\r 24%|██▍       | 24/100 [10:10<31:04, 24.53s/it]"
          ]
        },
        {
          "output_type": "stream",
          "name": "stdout",
          "text": [
            "[LightGBM] [Info] Number of positive: 130580, number of negative: 539113\n",
            "[LightGBM] [Info] Auto-choosing row-wise multi-threading, the overhead of testing was 0.063934 seconds.\n",
            "You can set `force_row_wise=true` to remove the overhead.\n",
            "And if memory is not enough, you can set `force_col_wise=true`.\n",
            "[LightGBM] [Info] Total Bins 7529\n",
            "[LightGBM] [Info] Number of data points in the train set: 669693, number of used features: 154\n",
            "[LightGBM] [Info] [binary:BoostFromScore]: pavg=0.194985 -> initscore=-1.417939\n",
            "[LightGBM] [Info] Start training from score -1.417939\n"
          ]
        },
        {
          "output_type": "stream",
          "name": "stderr",
          "text": [
            "\r 25%|██▌       | 25/100 [10:34<30:27, 24.36s/it]"
          ]
        },
        {
          "output_type": "stream",
          "name": "stdout",
          "text": [
            "[LightGBM] [Info] Number of positive: 130580, number of negative: 539113\n",
            "[LightGBM] [Info] Auto-choosing row-wise multi-threading, the overhead of testing was 0.065643 seconds.\n",
            "You can set `force_row_wise=true` to remove the overhead.\n",
            "And if memory is not enough, you can set `force_col_wise=true`.\n",
            "[LightGBM] [Info] Total Bins 7534\n",
            "[LightGBM] [Info] Number of data points in the train set: 669693, number of used features: 153\n",
            "[LightGBM] [Info] [binary:BoostFromScore]: pavg=0.194985 -> initscore=-1.417939\n",
            "[LightGBM] [Info] Start training from score -1.417939\n"
          ]
        },
        {
          "output_type": "stream",
          "name": "stderr",
          "text": [
            "\r 26%|██▌       | 26/100 [11:00<30:42, 24.90s/it]"
          ]
        },
        {
          "output_type": "stream",
          "name": "stdout",
          "text": [
            "[LightGBM] [Info] Number of positive: 130580, number of negative: 539113\n",
            "[LightGBM] [Info] Auto-choosing row-wise multi-threading, the overhead of testing was 0.069661 seconds.\n",
            "You can set `force_row_wise=true` to remove the overhead.\n",
            "And if memory is not enough, you can set `force_col_wise=true`.\n",
            "[LightGBM] [Info] Total Bins 7521\n",
            "[LightGBM] [Info] Number of data points in the train set: 669693, number of used features: 153\n",
            "[LightGBM] [Info] [binary:BoostFromScore]: pavg=0.194985 -> initscore=-1.417939\n",
            "[LightGBM] [Info] Start training from score -1.417939\n"
          ]
        },
        {
          "output_type": "stream",
          "name": "stderr",
          "text": [
            "\r 27%|██▋       | 27/100 [11:25<30:22, 24.97s/it]"
          ]
        },
        {
          "output_type": "stream",
          "name": "stdout",
          "text": [
            "[LightGBM] [Info] Number of positive: 130580, number of negative: 539113\n",
            "[LightGBM] [Info] Auto-choosing row-wise multi-threading, the overhead of testing was 0.072040 seconds.\n",
            "You can set `force_row_wise=true` to remove the overhead.\n",
            "And if memory is not enough, you can set `force_col_wise=true`.\n",
            "[LightGBM] [Info] Total Bins 7531\n",
            "[LightGBM] [Info] Number of data points in the train set: 669693, number of used features: 153\n",
            "[LightGBM] [Info] [binary:BoostFromScore]: pavg=0.194985 -> initscore=-1.417939\n",
            "[LightGBM] [Info] Start training from score -1.417939\n"
          ]
        },
        {
          "output_type": "stream",
          "name": "stderr",
          "text": [
            "\r 28%|██▊       | 28/100 [11:50<29:54, 24.93s/it]"
          ]
        },
        {
          "output_type": "stream",
          "name": "stdout",
          "text": [
            "[LightGBM] [Info] Number of positive: 130580, number of negative: 539113\n",
            "[LightGBM] [Info] Auto-choosing row-wise multi-threading, the overhead of testing was 0.074759 seconds.\n",
            "You can set `force_row_wise=true` to remove the overhead.\n",
            "And if memory is not enough, you can set `force_col_wise=true`.\n",
            "[LightGBM] [Info] Total Bins 7511\n",
            "[LightGBM] [Info] Number of data points in the train set: 669693, number of used features: 154\n",
            "[LightGBM] [Info] [binary:BoostFromScore]: pavg=0.194985 -> initscore=-1.417939\n",
            "[LightGBM] [Info] Start training from score -1.417939\n"
          ]
        },
        {
          "output_type": "stream",
          "name": "stderr",
          "text": [
            "\r 29%|██▉       | 29/100 [12:14<29:17, 24.75s/it]"
          ]
        },
        {
          "output_type": "stream",
          "name": "stdout",
          "text": [
            "[LightGBM] [Info] Number of positive: 130580, number of negative: 539113\n",
            "[LightGBM] [Info] Auto-choosing row-wise multi-threading, the overhead of testing was 0.063583 seconds.\n",
            "You can set `force_row_wise=true` to remove the overhead.\n",
            "And if memory is not enough, you can set `force_col_wise=true`.\n",
            "[LightGBM] [Info] Total Bins 7521\n",
            "[LightGBM] [Info] Number of data points in the train set: 669693, number of used features: 153\n",
            "[LightGBM] [Info] [binary:BoostFromScore]: pavg=0.194985 -> initscore=-1.417939\n",
            "[LightGBM] [Info] Start training from score -1.417939\n"
          ]
        },
        {
          "output_type": "stream",
          "name": "stderr",
          "text": [
            "\r 30%|███       | 30/100 [12:38<28:29, 24.42s/it]"
          ]
        },
        {
          "output_type": "stream",
          "name": "stdout",
          "text": [
            "[LightGBM] [Info] Number of positive: 130580, number of negative: 539113\n",
            "[LightGBM] [Info] Auto-choosing row-wise multi-threading, the overhead of testing was 0.064986 seconds.\n",
            "You can set `force_row_wise=true` to remove the overhead.\n",
            "And if memory is not enough, you can set `force_col_wise=true`.\n",
            "[LightGBM] [Info] Total Bins 7521\n",
            "[LightGBM] [Info] Number of data points in the train set: 669693, number of used features: 153\n",
            "[LightGBM] [Info] [binary:BoostFromScore]: pavg=0.194985 -> initscore=-1.417939\n",
            "[LightGBM] [Info] Start training from score -1.417939\n"
          ]
        },
        {
          "output_type": "stream",
          "name": "stderr",
          "text": [
            "\r 31%|███       | 31/100 [13:02<28:01, 24.37s/it]"
          ]
        },
        {
          "output_type": "stream",
          "name": "stdout",
          "text": [
            "[LightGBM] [Info] Number of positive: 130580, number of negative: 539113\n",
            "[LightGBM] [Info] Auto-choosing row-wise multi-threading, the overhead of testing was 0.072322 seconds.\n",
            "You can set `force_row_wise=true` to remove the overhead.\n",
            "And if memory is not enough, you can set `force_col_wise=true`.\n",
            "[LightGBM] [Info] Total Bins 7507\n",
            "[LightGBM] [Info] Number of data points in the train set: 669693, number of used features: 153\n",
            "[LightGBM] [Info] [binary:BoostFromScore]: pavg=0.194985 -> initscore=-1.417939\n",
            "[LightGBM] [Info] Start training from score -1.417939\n"
          ]
        },
        {
          "output_type": "stream",
          "name": "stderr",
          "text": [
            "\r 32%|███▏      | 32/100 [13:29<28:16, 24.95s/it]"
          ]
        },
        {
          "output_type": "stream",
          "name": "stdout",
          "text": [
            "[LightGBM] [Info] Number of positive: 130580, number of negative: 539113\n",
            "[LightGBM] [Info] Auto-choosing row-wise multi-threading, the overhead of testing was 0.062671 seconds.\n",
            "You can set `force_row_wise=true` to remove the overhead.\n",
            "And if memory is not enough, you can set `force_col_wise=true`.\n",
            "[LightGBM] [Info] Total Bins 7537\n",
            "[LightGBM] [Info] Number of data points in the train set: 669693, number of used features: 153\n",
            "[LightGBM] [Info] [binary:BoostFromScore]: pavg=0.194985 -> initscore=-1.417939\n",
            "[LightGBM] [Info] Start training from score -1.417939\n"
          ]
        },
        {
          "output_type": "stream",
          "name": "stderr",
          "text": [
            "\r 33%|███▎      | 33/100 [13:52<27:25, 24.56s/it]"
          ]
        },
        {
          "output_type": "stream",
          "name": "stdout",
          "text": [
            "[LightGBM] [Info] Number of positive: 130580, number of negative: 539113\n",
            "[LightGBM] [Info] Auto-choosing row-wise multi-threading, the overhead of testing was 0.058382 seconds.\n",
            "You can set `force_row_wise=true` to remove the overhead.\n",
            "And if memory is not enough, you can set `force_col_wise=true`.\n",
            "[LightGBM] [Info] Total Bins 7531\n",
            "[LightGBM] [Info] Number of data points in the train set: 669693, number of used features: 153\n",
            "[LightGBM] [Info] [binary:BoostFromScore]: pavg=0.194985 -> initscore=-1.417939\n",
            "[LightGBM] [Info] Start training from score -1.417939\n"
          ]
        },
        {
          "output_type": "stream",
          "name": "stderr",
          "text": [
            "\r 34%|███▍      | 34/100 [14:18<27:14, 24.77s/it]"
          ]
        },
        {
          "output_type": "stream",
          "name": "stdout",
          "text": [
            "[LightGBM] [Info] Number of positive: 130580, number of negative: 539113\n",
            "[LightGBM] [Info] Auto-choosing row-wise multi-threading, the overhead of testing was 0.069701 seconds.\n",
            "You can set `force_row_wise=true` to remove the overhead.\n",
            "And if memory is not enough, you can set `force_col_wise=true`.\n",
            "[LightGBM] [Info] Total Bins 7535\n",
            "[LightGBM] [Info] Number of data points in the train set: 669693, number of used features: 154\n",
            "[LightGBM] [Info] [binary:BoostFromScore]: pavg=0.194985 -> initscore=-1.417939\n",
            "[LightGBM] [Info] Start training from score -1.417939\n"
          ]
        },
        {
          "output_type": "stream",
          "name": "stderr",
          "text": [
            "\r 35%|███▌      | 35/100 [14:41<26:20, 24.31s/it]"
          ]
        },
        {
          "output_type": "stream",
          "name": "stdout",
          "text": [
            "[LightGBM] [Info] Number of positive: 130580, number of negative: 539113\n",
            "[LightGBM] [Info] Auto-choosing row-wise multi-threading, the overhead of testing was 0.062035 seconds.\n",
            "You can set `force_row_wise=true` to remove the overhead.\n",
            "And if memory is not enough, you can set `force_col_wise=true`.\n",
            "[LightGBM] [Info] Total Bins 7499\n",
            "[LightGBM] [Info] Number of data points in the train set: 669693, number of used features: 153\n",
            "[LightGBM] [Info] [binary:BoostFromScore]: pavg=0.194985 -> initscore=-1.417939\n",
            "[LightGBM] [Info] Start training from score -1.417939\n"
          ]
        },
        {
          "output_type": "stream",
          "name": "stderr",
          "text": [
            "\r 36%|███▌      | 36/100 [15:03<25:10, 23.61s/it]"
          ]
        },
        {
          "output_type": "stream",
          "name": "stdout",
          "text": [
            "[LightGBM] [Info] Number of positive: 130580, number of negative: 539113\n",
            "[LightGBM] [Info] Auto-choosing row-wise multi-threading, the overhead of testing was 0.090260 seconds.\n",
            "You can set `force_row_wise=true` to remove the overhead.\n",
            "And if memory is not enough, you can set `force_col_wise=true`.\n",
            "[LightGBM] [Info] Total Bins 7498\n",
            "[LightGBM] [Info] Number of data points in the train set: 669693, number of used features: 153\n",
            "[LightGBM] [Info] [binary:BoostFromScore]: pavg=0.194985 -> initscore=-1.417939\n",
            "[LightGBM] [Info] Start training from score -1.417939\n"
          ]
        },
        {
          "output_type": "stream",
          "name": "stderr",
          "text": [
            "\r 37%|███▋      | 37/100 [15:27<25:03, 23.87s/it]"
          ]
        },
        {
          "output_type": "stream",
          "name": "stdout",
          "text": [
            "[LightGBM] [Info] Number of positive: 130580, number of negative: 539113\n",
            "[LightGBM] [Info] Auto-choosing row-wise multi-threading, the overhead of testing was 0.132390 seconds.\n",
            "You can set `force_row_wise=true` to remove the overhead.\n",
            "And if memory is not enough, you can set `force_col_wise=true`.\n",
            "[LightGBM] [Info] Total Bins 7546\n",
            "[LightGBM] [Info] Number of data points in the train set: 669693, number of used features: 152\n",
            "[LightGBM] [Info] [binary:BoostFromScore]: pavg=0.194985 -> initscore=-1.417939\n",
            "[LightGBM] [Info] Start training from score -1.417939\n"
          ]
        },
        {
          "output_type": "stream",
          "name": "stderr",
          "text": [
            "\r 38%|███▊      | 38/100 [15:52<25:05, 24.28s/it]"
          ]
        },
        {
          "output_type": "stream",
          "name": "stdout",
          "text": [
            "[LightGBM] [Info] Number of positive: 130580, number of negative: 539113\n",
            "[LightGBM] [Info] Auto-choosing row-wise multi-threading, the overhead of testing was 0.059907 seconds.\n",
            "You can set `force_row_wise=true` to remove the overhead.\n",
            "And if memory is not enough, you can set `force_col_wise=true`.\n",
            "[LightGBM] [Info] Total Bins 7540\n",
            "[LightGBM] [Info] Number of data points in the train set: 669693, number of used features: 153\n",
            "[LightGBM] [Info] [binary:BoostFromScore]: pavg=0.194985 -> initscore=-1.417939\n",
            "[LightGBM] [Info] Start training from score -1.417939\n"
          ]
        },
        {
          "output_type": "stream",
          "name": "stderr",
          "text": [
            "\r 39%|███▉      | 39/100 [16:15<24:16, 23.88s/it]"
          ]
        },
        {
          "output_type": "stream",
          "name": "stdout",
          "text": [
            "[LightGBM] [Info] Number of positive: 130580, number of negative: 539113\n",
            "[LightGBM] [Info] Auto-choosing row-wise multi-threading, the overhead of testing was 0.057708 seconds.\n",
            "You can set `force_row_wise=true` to remove the overhead.\n",
            "And if memory is not enough, you can set `force_col_wise=true`.\n",
            "[LightGBM] [Info] Total Bins 7520\n",
            "[LightGBM] [Info] Number of data points in the train set: 669693, number of used features: 153\n",
            "[LightGBM] [Info] [binary:BoostFromScore]: pavg=0.194985 -> initscore=-1.417939\n",
            "[LightGBM] [Info] Start training from score -1.417939\n"
          ]
        },
        {
          "output_type": "stream",
          "name": "stderr",
          "text": [
            "\r 40%|████      | 40/100 [16:37<23:15, 23.25s/it]"
          ]
        },
        {
          "output_type": "stream",
          "name": "stdout",
          "text": [
            "[LightGBM] [Info] Number of positive: 130580, number of negative: 539113\n",
            "[LightGBM] [Info] Auto-choosing row-wise multi-threading, the overhead of testing was 0.058618 seconds.\n",
            "You can set `force_row_wise=true` to remove the overhead.\n",
            "And if memory is not enough, you can set `force_col_wise=true`.\n",
            "[LightGBM] [Info] Total Bins 7549\n",
            "[LightGBM] [Info] Number of data points in the train set: 669693, number of used features: 153\n",
            "[LightGBM] [Info] [binary:BoostFromScore]: pavg=0.194985 -> initscore=-1.417939\n",
            "[LightGBM] [Info] Start training from score -1.417939\n"
          ]
        },
        {
          "output_type": "stream",
          "name": "stderr",
          "text": [
            "\r 41%|████      | 41/100 [17:01<22:58, 23.36s/it]"
          ]
        },
        {
          "output_type": "stream",
          "name": "stdout",
          "text": [
            "[LightGBM] [Info] Number of positive: 130580, number of negative: 539113\n",
            "[LightGBM] [Info] Auto-choosing row-wise multi-threading, the overhead of testing was 0.077481 seconds.\n",
            "You can set `force_row_wise=true` to remove the overhead.\n",
            "And if memory is not enough, you can set `force_col_wise=true`.\n",
            "[LightGBM] [Info] Total Bins 7535\n",
            "[LightGBM] [Info] Number of data points in the train set: 669693, number of used features: 154\n",
            "[LightGBM] [Info] [binary:BoostFromScore]: pavg=0.194985 -> initscore=-1.417939\n",
            "[LightGBM] [Info] Start training from score -1.417939\n"
          ]
        },
        {
          "output_type": "stream",
          "name": "stderr",
          "text": [
            "\r 42%|████▏     | 42/100 [17:22<21:49, 22.57s/it]"
          ]
        },
        {
          "output_type": "stream",
          "name": "stdout",
          "text": [
            "[LightGBM] [Info] Number of positive: 130580, number of negative: 539113\n",
            "[LightGBM] [Info] Auto-choosing col-wise multi-threading, the overhead of testing was 0.412740 seconds.\n",
            "You can set `force_col_wise=true` to remove the overhead.\n",
            "[LightGBM] [Info] Total Bins 7541\n",
            "[LightGBM] [Info] Number of data points in the train set: 669693, number of used features: 153\n",
            "[LightGBM] [Info] [binary:BoostFromScore]: pavg=0.194985 -> initscore=-1.417939\n",
            "[LightGBM] [Info] Start training from score -1.417939\n"
          ]
        },
        {
          "output_type": "stream",
          "name": "stderr",
          "text": [
            "\r 43%|████▎     | 43/100 [17:43<21:11, 22.31s/it]"
          ]
        },
        {
          "output_type": "stream",
          "name": "stdout",
          "text": [
            "[LightGBM] [Info] Number of positive: 130580, number of negative: 539113\n",
            "[LightGBM] [Info] Auto-choosing row-wise multi-threading, the overhead of testing was 0.059899 seconds.\n",
            "You can set `force_row_wise=true` to remove the overhead.\n",
            "And if memory is not enough, you can set `force_col_wise=true`.\n",
            "[LightGBM] [Info] Total Bins 7520\n",
            "[LightGBM] [Info] Number of data points in the train set: 669693, number of used features: 154\n",
            "[LightGBM] [Info] [binary:BoostFromScore]: pavg=0.194985 -> initscore=-1.417939\n",
            "[LightGBM] [Info] Start training from score -1.417939\n"
          ]
        },
        {
          "output_type": "stream",
          "name": "stderr",
          "text": [
            "\r 44%|████▍     | 44/100 [18:04<20:22, 21.83s/it]"
          ]
        },
        {
          "output_type": "stream",
          "name": "stdout",
          "text": [
            "[LightGBM] [Info] Number of positive: 130580, number of negative: 539113\n",
            "[LightGBM] [Info] Auto-choosing row-wise multi-threading, the overhead of testing was 0.061612 seconds.\n",
            "You can set `force_row_wise=true` to remove the overhead.\n",
            "And if memory is not enough, you can set `force_col_wise=true`.\n",
            "[LightGBM] [Info] Total Bins 7543\n",
            "[LightGBM] [Info] Number of data points in the train set: 669693, number of used features: 153\n",
            "[LightGBM] [Info] [binary:BoostFromScore]: pavg=0.194985 -> initscore=-1.417939\n",
            "[LightGBM] [Info] Start training from score -1.417939\n"
          ]
        },
        {
          "output_type": "stream",
          "name": "stderr",
          "text": [
            "\r 45%|████▌     | 45/100 [18:24<19:33, 21.34s/it]"
          ]
        },
        {
          "output_type": "stream",
          "name": "stdout",
          "text": [
            "[LightGBM] [Info] Number of positive: 130580, number of negative: 539113\n",
            "[LightGBM] [Info] Auto-choosing row-wise multi-threading, the overhead of testing was 0.278257 seconds.\n",
            "You can set `force_row_wise=true` to remove the overhead.\n",
            "And if memory is not enough, you can set `force_col_wise=true`.\n",
            "[LightGBM] [Info] Total Bins 7525\n",
            "[LightGBM] [Info] Number of data points in the train set: 669693, number of used features: 153\n",
            "[LightGBM] [Info] [binary:BoostFromScore]: pavg=0.194985 -> initscore=-1.417939\n",
            "[LightGBM] [Info] Start training from score -1.417939\n"
          ]
        },
        {
          "output_type": "stream",
          "name": "stderr",
          "text": [
            "\r 46%|████▌     | 46/100 [18:45<18:58, 21.08s/it]"
          ]
        },
        {
          "output_type": "stream",
          "name": "stdout",
          "text": [
            "[LightGBM] [Info] Number of positive: 130580, number of negative: 539113\n",
            "[LightGBM] [Info] Auto-choosing row-wise multi-threading, the overhead of testing was 0.060701 seconds.\n",
            "You can set `force_row_wise=true` to remove the overhead.\n",
            "And if memory is not enough, you can set `force_col_wise=true`.\n",
            "[LightGBM] [Info] Total Bins 7500\n",
            "[LightGBM] [Info] Number of data points in the train set: 669693, number of used features: 153\n",
            "[LightGBM] [Info] [binary:BoostFromScore]: pavg=0.194985 -> initscore=-1.417939\n",
            "[LightGBM] [Info] Start training from score -1.417939\n"
          ]
        },
        {
          "output_type": "stream",
          "name": "stderr",
          "text": [
            "\r 47%|████▋     | 47/100 [19:05<18:26, 20.87s/it]"
          ]
        },
        {
          "output_type": "stream",
          "name": "stdout",
          "text": [
            "[LightGBM] [Info] Number of positive: 130580, number of negative: 539113\n",
            "[LightGBM] [Info] Auto-choosing row-wise multi-threading, the overhead of testing was 0.095481 seconds.\n",
            "You can set `force_row_wise=true` to remove the overhead.\n",
            "And if memory is not enough, you can set `force_col_wise=true`.\n",
            "[LightGBM] [Info] Total Bins 7536\n",
            "[LightGBM] [Info] Number of data points in the train set: 669693, number of used features: 153\n",
            "[LightGBM] [Info] [binary:BoostFromScore]: pavg=0.194985 -> initscore=-1.417939\n",
            "[LightGBM] [Info] Start training from score -1.417939\n"
          ]
        },
        {
          "output_type": "stream",
          "name": "stderr",
          "text": [
            "\r 48%|████▊     | 48/100 [19:26<18:10, 20.98s/it]"
          ]
        },
        {
          "output_type": "stream",
          "name": "stdout",
          "text": [
            "[LightGBM] [Info] Number of positive: 130580, number of negative: 539113\n",
            "[LightGBM] [Info] Auto-choosing row-wise multi-threading, the overhead of testing was 0.085979 seconds.\n",
            "You can set `force_row_wise=true` to remove the overhead.\n",
            "And if memory is not enough, you can set `force_col_wise=true`.\n",
            "[LightGBM] [Info] Total Bins 7537\n",
            "[LightGBM] [Info] Number of data points in the train set: 669693, number of used features: 153\n",
            "[LightGBM] [Info] [binary:BoostFromScore]: pavg=0.194985 -> initscore=-1.417939\n",
            "[LightGBM] [Info] Start training from score -1.417939\n"
          ]
        },
        {
          "output_type": "stream",
          "name": "stderr",
          "text": [
            "\r 49%|████▉     | 49/100 [19:52<19:06, 22.47s/it]"
          ]
        },
        {
          "output_type": "stream",
          "name": "stdout",
          "text": [
            "[LightGBM] [Info] Number of positive: 130580, number of negative: 539113\n",
            "[LightGBM] [Info] Auto-choosing row-wise multi-threading, the overhead of testing was 0.107559 seconds.\n",
            "You can set `force_row_wise=true` to remove the overhead.\n",
            "And if memory is not enough, you can set `force_col_wise=true`.\n",
            "[LightGBM] [Info] Total Bins 7552\n",
            "[LightGBM] [Info] Number of data points in the train set: 669693, number of used features: 153\n",
            "[LightGBM] [Info] [binary:BoostFromScore]: pavg=0.194985 -> initscore=-1.417939\n",
            "[LightGBM] [Info] Start training from score -1.417939\n"
          ]
        },
        {
          "output_type": "stream",
          "name": "stderr",
          "text": [
            "\r 50%|█████     | 50/100 [20:19<19:52, 23.85s/it]"
          ]
        },
        {
          "output_type": "stream",
          "name": "stdout",
          "text": [
            "[LightGBM] [Info] Number of positive: 130580, number of negative: 539113\n",
            "[LightGBM] [Info] Auto-choosing row-wise multi-threading, the overhead of testing was 0.081150 seconds.\n",
            "You can set `force_row_wise=true` to remove the overhead.\n",
            "And if memory is not enough, you can set `force_col_wise=true`.\n",
            "[LightGBM] [Info] Total Bins 7530\n",
            "[LightGBM] [Info] Number of data points in the train set: 669693, number of used features: 153\n",
            "[LightGBM] [Info] [binary:BoostFromScore]: pavg=0.194985 -> initscore=-1.417939\n",
            "[LightGBM] [Info] Start training from score -1.417939\n"
          ]
        },
        {
          "output_type": "stream",
          "name": "stderr",
          "text": [
            "\r 51%|█████     | 51/100 [20:45<19:58, 24.46s/it]"
          ]
        },
        {
          "output_type": "stream",
          "name": "stdout",
          "text": [
            "[LightGBM] [Info] Number of positive: 130580, number of negative: 539113\n",
            "[LightGBM] [Info] Auto-choosing row-wise multi-threading, the overhead of testing was 0.094968 seconds.\n",
            "You can set `force_row_wise=true` to remove the overhead.\n",
            "And if memory is not enough, you can set `force_col_wise=true`.\n",
            "[LightGBM] [Info] Total Bins 7515\n",
            "[LightGBM] [Info] Number of data points in the train set: 669693, number of used features: 153\n",
            "[LightGBM] [Info] [binary:BoostFromScore]: pavg=0.194985 -> initscore=-1.417939\n",
            "[LightGBM] [Info] Start training from score -1.417939\n"
          ]
        },
        {
          "output_type": "stream",
          "name": "stderr",
          "text": [
            "\r 52%|█████▏    | 52/100 [21:09<19:31, 24.40s/it]"
          ]
        },
        {
          "output_type": "stream",
          "name": "stdout",
          "text": [
            "[LightGBM] [Info] Number of positive: 130580, number of negative: 539113\n",
            "[LightGBM] [Info] Auto-choosing row-wise multi-threading, the overhead of testing was 0.071125 seconds.\n",
            "You can set `force_row_wise=true` to remove the overhead.\n",
            "And if memory is not enough, you can set `force_col_wise=true`.\n",
            "[LightGBM] [Info] Total Bins 7518\n",
            "[LightGBM] [Info] Number of data points in the train set: 669693, number of used features: 152\n",
            "[LightGBM] [Info] [binary:BoostFromScore]: pavg=0.194985 -> initscore=-1.417939\n",
            "[LightGBM] [Info] Start training from score -1.417939\n"
          ]
        },
        {
          "output_type": "stream",
          "name": "stderr",
          "text": [
            "\r 53%|█████▎    | 53/100 [21:36<19:39, 25.11s/it]"
          ]
        },
        {
          "output_type": "stream",
          "name": "stdout",
          "text": [
            "[LightGBM] [Info] Number of positive: 130580, number of negative: 539113\n",
            "[LightGBM] [Info] Auto-choosing row-wise multi-threading, the overhead of testing was 0.091061 seconds.\n",
            "You can set `force_row_wise=true` to remove the overhead.\n",
            "And if memory is not enough, you can set `force_col_wise=true`.\n",
            "[LightGBM] [Info] Total Bins 7532\n",
            "[LightGBM] [Info] Number of data points in the train set: 669693, number of used features: 153\n",
            "[LightGBM] [Info] [binary:BoostFromScore]: pavg=0.194985 -> initscore=-1.417939\n",
            "[LightGBM] [Info] Start training from score -1.417939\n"
          ]
        },
        {
          "output_type": "stream",
          "name": "stderr",
          "text": [
            "\r 54%|█████▍    | 54/100 [21:58<18:30, 24.13s/it]"
          ]
        },
        {
          "output_type": "stream",
          "name": "stdout",
          "text": [
            "[LightGBM] [Info] Number of positive: 130580, number of negative: 539113\n",
            "[LightGBM] [Info] Auto-choosing row-wise multi-threading, the overhead of testing was 0.295097 seconds.\n",
            "You can set `force_row_wise=true` to remove the overhead.\n",
            "And if memory is not enough, you can set `force_col_wise=true`.\n",
            "[LightGBM] [Info] Total Bins 7534\n",
            "[LightGBM] [Info] Number of data points in the train set: 669693, number of used features: 153\n",
            "[LightGBM] [Info] [binary:BoostFromScore]: pavg=0.194985 -> initscore=-1.417939\n",
            "[LightGBM] [Info] Start training from score -1.417939\n"
          ]
        },
        {
          "output_type": "stream",
          "name": "stderr",
          "text": [
            "\r 55%|█████▌    | 55/100 [22:18<17:13, 22.96s/it]"
          ]
        },
        {
          "output_type": "stream",
          "name": "stdout",
          "text": [
            "[LightGBM] [Info] Number of positive: 130580, number of negative: 539113\n",
            "[LightGBM] [Info] Auto-choosing row-wise multi-threading, the overhead of testing was 0.063159 seconds.\n",
            "You can set `force_row_wise=true` to remove the overhead.\n",
            "And if memory is not enough, you can set `force_col_wise=true`.\n",
            "[LightGBM] [Info] Total Bins 7536\n",
            "[LightGBM] [Info] Number of data points in the train set: 669693, number of used features: 154\n",
            "[LightGBM] [Info] [binary:BoostFromScore]: pavg=0.194985 -> initscore=-1.417939\n",
            "[LightGBM] [Info] Start training from score -1.417939\n"
          ]
        },
        {
          "output_type": "stream",
          "name": "stderr",
          "text": [
            "\r 56%|█████▌    | 56/100 [22:39<16:21, 22.31s/it]"
          ]
        },
        {
          "output_type": "stream",
          "name": "stdout",
          "text": [
            "[LightGBM] [Info] Number of positive: 130580, number of negative: 539113\n",
            "[LightGBM] [Info] Auto-choosing row-wise multi-threading, the overhead of testing was 0.061618 seconds.\n",
            "You can set `force_row_wise=true` to remove the overhead.\n",
            "And if memory is not enough, you can set `force_col_wise=true`.\n",
            "[LightGBM] [Info] Total Bins 7525\n",
            "[LightGBM] [Info] Number of data points in the train set: 669693, number of used features: 153\n",
            "[LightGBM] [Info] [binary:BoostFromScore]: pavg=0.194985 -> initscore=-1.417939\n",
            "[LightGBM] [Info] Start training from score -1.417939\n"
          ]
        },
        {
          "output_type": "stream",
          "name": "stderr",
          "text": [
            "\r 57%|█████▋    | 57/100 [22:59<15:33, 21.71s/it]"
          ]
        },
        {
          "output_type": "stream",
          "name": "stdout",
          "text": [
            "[LightGBM] [Info] Number of positive: 130580, number of negative: 539113\n",
            "[LightGBM] [Info] Auto-choosing row-wise multi-threading, the overhead of testing was 0.119410 seconds.\n",
            "You can set `force_row_wise=true` to remove the overhead.\n",
            "And if memory is not enough, you can set `force_col_wise=true`.\n",
            "[LightGBM] [Info] Total Bins 7536\n",
            "[LightGBM] [Info] Number of data points in the train set: 669693, number of used features: 153\n",
            "[LightGBM] [Info] [binary:BoostFromScore]: pavg=0.194985 -> initscore=-1.417939\n",
            "[LightGBM] [Info] Start training from score -1.417939\n"
          ]
        },
        {
          "output_type": "stream",
          "name": "stderr",
          "text": [
            "\r 58%|█████▊    | 58/100 [23:20<14:52, 21.25s/it]"
          ]
        },
        {
          "output_type": "stream",
          "name": "stdout",
          "text": [
            "[LightGBM] [Info] Number of positive: 130580, number of negative: 539113\n",
            "[LightGBM] [Info] Auto-choosing row-wise multi-threading, the overhead of testing was 0.067553 seconds.\n",
            "You can set `force_row_wise=true` to remove the overhead.\n",
            "And if memory is not enough, you can set `force_col_wise=true`.\n",
            "[LightGBM] [Info] Total Bins 7511\n",
            "[LightGBM] [Info] Number of data points in the train set: 669693, number of used features: 153\n",
            "[LightGBM] [Info] [binary:BoostFromScore]: pavg=0.194985 -> initscore=-1.417939\n",
            "[LightGBM] [Info] Start training from score -1.417939\n"
          ]
        },
        {
          "output_type": "stream",
          "name": "stderr",
          "text": [
            "\r 59%|█████▉    | 59/100 [23:41<14:32, 21.27s/it]"
          ]
        },
        {
          "output_type": "stream",
          "name": "stdout",
          "text": [
            "[LightGBM] [Info] Number of positive: 130580, number of negative: 539113\n",
            "[LightGBM] [Info] Auto-choosing row-wise multi-threading, the overhead of testing was 0.078833 seconds.\n",
            "You can set `force_row_wise=true` to remove the overhead.\n",
            "And if memory is not enough, you can set `force_col_wise=true`.\n",
            "[LightGBM] [Info] Total Bins 7527\n",
            "[LightGBM] [Info] Number of data points in the train set: 669693, number of used features: 153\n",
            "[LightGBM] [Info] [binary:BoostFromScore]: pavg=0.194985 -> initscore=-1.417939\n",
            "[LightGBM] [Info] Start training from score -1.417939\n"
          ]
        },
        {
          "output_type": "stream",
          "name": "stderr",
          "text": [
            "\r 60%|██████    | 60/100 [24:04<14:34, 21.86s/it]"
          ]
        },
        {
          "output_type": "stream",
          "name": "stdout",
          "text": [
            "[LightGBM] [Info] Number of positive: 130580, number of negative: 539113\n",
            "[LightGBM] [Info] Auto-choosing col-wise multi-threading, the overhead of testing was 0.228577 seconds.\n",
            "You can set `force_col_wise=true` to remove the overhead.\n",
            "[LightGBM] [Info] Total Bins 7545\n",
            "[LightGBM] [Info] Number of data points in the train set: 669693, number of used features: 154\n",
            "[LightGBM] [Info] [binary:BoostFromScore]: pavg=0.194985 -> initscore=-1.417939\n",
            "[LightGBM] [Info] Start training from score -1.417939\n"
          ]
        },
        {
          "output_type": "stream",
          "name": "stderr",
          "text": [
            "\r 61%|██████    | 61/100 [24:28<14:39, 22.55s/it]"
          ]
        },
        {
          "output_type": "stream",
          "name": "stdout",
          "text": [
            "[LightGBM] [Info] Number of positive: 130580, number of negative: 539113\n",
            "[LightGBM] [Info] Auto-choosing row-wise multi-threading, the overhead of testing was 0.060046 seconds.\n",
            "You can set `force_row_wise=true` to remove the overhead.\n",
            "And if memory is not enough, you can set `force_col_wise=true`.\n",
            "[LightGBM] [Info] Total Bins 7514\n",
            "[LightGBM] [Info] Number of data points in the train set: 669693, number of used features: 153\n",
            "[LightGBM] [Info] [binary:BoostFromScore]: pavg=0.194985 -> initscore=-1.417939\n",
            "[LightGBM] [Info] Start training from score -1.417939\n"
          ]
        },
        {
          "output_type": "stream",
          "name": "stderr",
          "text": [
            "\r 62%|██████▏   | 62/100 [24:50<14:02, 22.17s/it]"
          ]
        },
        {
          "output_type": "stream",
          "name": "stdout",
          "text": [
            "[LightGBM] [Info] Number of positive: 130580, number of negative: 539113\n",
            "[LightGBM] [Info] Auto-choosing row-wise multi-threading, the overhead of testing was 0.077140 seconds.\n",
            "You can set `force_row_wise=true` to remove the overhead.\n",
            "And if memory is not enough, you can set `force_col_wise=true`.\n",
            "[LightGBM] [Info] Total Bins 7542\n",
            "[LightGBM] [Info] Number of data points in the train set: 669693, number of used features: 154\n",
            "[LightGBM] [Info] [binary:BoostFromScore]: pavg=0.194985 -> initscore=-1.417939\n",
            "[LightGBM] [Info] Start training from score -1.417939\n"
          ]
        },
        {
          "output_type": "stream",
          "name": "stderr",
          "text": [
            "\r 63%|██████▎   | 63/100 [25:11<13:33, 21.98s/it]"
          ]
        },
        {
          "output_type": "stream",
          "name": "stdout",
          "text": [
            "[LightGBM] [Info] Number of positive: 130580, number of negative: 539113\n",
            "[LightGBM] [Info] Auto-choosing col-wise multi-threading, the overhead of testing was 0.242908 seconds.\n",
            "You can set `force_col_wise=true` to remove the overhead.\n",
            "[LightGBM] [Info] Total Bins 7523\n",
            "[LightGBM] [Info] Number of data points in the train set: 669693, number of used features: 153\n",
            "[LightGBM] [Info] [binary:BoostFromScore]: pavg=0.194985 -> initscore=-1.417939\n",
            "[LightGBM] [Info] Start training from score -1.417939\n"
          ]
        },
        {
          "output_type": "stream",
          "name": "stderr",
          "text": [
            "\r 64%|██████▍   | 64/100 [25:35<13:33, 22.60s/it]"
          ]
        },
        {
          "output_type": "stream",
          "name": "stdout",
          "text": [
            "[LightGBM] [Info] Number of positive: 130580, number of negative: 539113\n",
            "[LightGBM] [Info] Auto-choosing row-wise multi-threading, the overhead of testing was 0.057452 seconds.\n",
            "You can set `force_row_wise=true` to remove the overhead.\n",
            "And if memory is not enough, you can set `force_col_wise=true`.\n",
            "[LightGBM] [Info] Total Bins 7513\n",
            "[LightGBM] [Info] Number of data points in the train set: 669693, number of used features: 154\n",
            "[LightGBM] [Info] [binary:BoostFromScore]: pavg=0.194985 -> initscore=-1.417939\n",
            "[LightGBM] [Info] Start training from score -1.417939\n"
          ]
        },
        {
          "output_type": "stream",
          "name": "stderr",
          "text": [
            "\r 65%|██████▌   | 65/100 [25:55<12:46, 21.91s/it]"
          ]
        },
        {
          "output_type": "stream",
          "name": "stdout",
          "text": [
            "[LightGBM] [Info] Number of positive: 130580, number of negative: 539113\n",
            "[LightGBM] [Info] Auto-choosing row-wise multi-threading, the overhead of testing was 0.065674 seconds.\n",
            "You can set `force_row_wise=true` to remove the overhead.\n",
            "And if memory is not enough, you can set `force_col_wise=true`.\n",
            "[LightGBM] [Info] Total Bins 7547\n",
            "[LightGBM] [Info] Number of data points in the train set: 669693, number of used features: 153\n",
            "[LightGBM] [Info] [binary:BoostFromScore]: pavg=0.194985 -> initscore=-1.417939\n",
            "[LightGBM] [Info] Start training from score -1.417939\n"
          ]
        },
        {
          "output_type": "stream",
          "name": "stderr",
          "text": [
            "\r 66%|██████▌   | 66/100 [26:16<12:08, 21.43s/it]"
          ]
        },
        {
          "output_type": "stream",
          "name": "stdout",
          "text": [
            "[LightGBM] [Info] Number of positive: 130580, number of negative: 539113\n",
            "[LightGBM] [Info] Auto-choosing row-wise multi-threading, the overhead of testing was 0.078413 seconds.\n",
            "You can set `force_row_wise=true` to remove the overhead.\n",
            "And if memory is not enough, you can set `force_col_wise=true`.\n",
            "[LightGBM] [Info] Total Bins 7521\n",
            "[LightGBM] [Info] Number of data points in the train set: 669693, number of used features: 153\n",
            "[LightGBM] [Info] [binary:BoostFromScore]: pavg=0.194985 -> initscore=-1.417939\n",
            "[LightGBM] [Info] Start training from score -1.417939\n"
          ]
        },
        {
          "output_type": "stream",
          "name": "stderr",
          "text": [
            "\r 67%|██████▋   | 67/100 [26:37<11:42, 21.30s/it]"
          ]
        },
        {
          "output_type": "stream",
          "name": "stdout",
          "text": [
            "[LightGBM] [Info] Number of positive: 130580, number of negative: 539113\n",
            "[LightGBM] [Info] Auto-choosing row-wise multi-threading, the overhead of testing was 0.061856 seconds.\n",
            "You can set `force_row_wise=true` to remove the overhead.\n",
            "And if memory is not enough, you can set `force_col_wise=true`.\n",
            "[LightGBM] [Info] Total Bins 7549\n",
            "[LightGBM] [Info] Number of data points in the train set: 669693, number of used features: 154\n",
            "[LightGBM] [Info] [binary:BoostFromScore]: pavg=0.194985 -> initscore=-1.417939\n",
            "[LightGBM] [Info] Start training from score -1.417939\n"
          ]
        },
        {
          "output_type": "stream",
          "name": "stderr",
          "text": [
            "\r 68%|██████▊   | 68/100 [26:58<11:21, 21.31s/it]"
          ]
        },
        {
          "output_type": "stream",
          "name": "stdout",
          "text": [
            "[LightGBM] [Info] Number of positive: 130580, number of negative: 539113\n",
            "[LightGBM] [Info] Auto-choosing row-wise multi-threading, the overhead of testing was 0.084428 seconds.\n",
            "You can set `force_row_wise=true` to remove the overhead.\n",
            "And if memory is not enough, you can set `force_col_wise=true`.\n",
            "[LightGBM] [Info] Total Bins 7481\n",
            "[LightGBM] [Info] Number of data points in the train set: 669693, number of used features: 153\n",
            "[LightGBM] [Info] [binary:BoostFromScore]: pavg=0.194985 -> initscore=-1.417939\n",
            "[LightGBM] [Info] Start training from score -1.417939\n"
          ]
        },
        {
          "output_type": "stream",
          "name": "stderr",
          "text": [
            "\r 69%|██████▉   | 69/100 [27:20<11:03, 21.41s/it]"
          ]
        },
        {
          "output_type": "stream",
          "name": "stdout",
          "text": [
            "[LightGBM] [Info] Number of positive: 130580, number of negative: 539113\n",
            "[LightGBM] [Info] Auto-choosing row-wise multi-threading, the overhead of testing was 0.097212 seconds.\n",
            "You can set `force_row_wise=true` to remove the overhead.\n",
            "And if memory is not enough, you can set `force_col_wise=true`.\n",
            "[LightGBM] [Info] Total Bins 7516\n",
            "[LightGBM] [Info] Number of data points in the train set: 669693, number of used features: 154\n",
            "[LightGBM] [Info] [binary:BoostFromScore]: pavg=0.194985 -> initscore=-1.417939\n",
            "[LightGBM] [Info] Start training from score -1.417939\n"
          ]
        },
        {
          "output_type": "stream",
          "name": "stderr",
          "text": [
            "\r 70%|███████   | 70/100 [27:40<10:36, 21.22s/it]"
          ]
        },
        {
          "output_type": "stream",
          "name": "stdout",
          "text": [
            "[LightGBM] [Info] Number of positive: 130580, number of negative: 539113\n",
            "[LightGBM] [Info] Auto-choosing row-wise multi-threading, the overhead of testing was 0.060572 seconds.\n",
            "You can set `force_row_wise=true` to remove the overhead.\n",
            "And if memory is not enough, you can set `force_col_wise=true`.\n",
            "[LightGBM] [Info] Total Bins 7529\n",
            "[LightGBM] [Info] Number of data points in the train set: 669693, number of used features: 153\n",
            "[LightGBM] [Info] [binary:BoostFromScore]: pavg=0.194985 -> initscore=-1.417939\n",
            "[LightGBM] [Info] Start training from score -1.417939\n"
          ]
        },
        {
          "output_type": "stream",
          "name": "stderr",
          "text": [
            "\r 71%|███████   | 71/100 [28:01<10:12, 21.12s/it]"
          ]
        },
        {
          "output_type": "stream",
          "name": "stdout",
          "text": [
            "[LightGBM] [Info] Number of positive: 130580, number of negative: 539113\n",
            "[LightGBM] [Info] Auto-choosing row-wise multi-threading, the overhead of testing was 0.065733 seconds.\n",
            "You can set `force_row_wise=true` to remove the overhead.\n",
            "And if memory is not enough, you can set `force_col_wise=true`.\n",
            "[LightGBM] [Info] Total Bins 7530\n",
            "[LightGBM] [Info] Number of data points in the train set: 669693, number of used features: 153\n",
            "[LightGBM] [Info] [binary:BoostFromScore]: pavg=0.194985 -> initscore=-1.417939\n",
            "[LightGBM] [Info] Start training from score -1.417939\n"
          ]
        },
        {
          "output_type": "stream",
          "name": "stderr",
          "text": [
            "\r 72%|███████▏  | 72/100 [28:23<09:54, 21.24s/it]"
          ]
        },
        {
          "output_type": "stream",
          "name": "stdout",
          "text": [
            "[LightGBM] [Info] Number of positive: 130580, number of negative: 539113\n",
            "[LightGBM] [Info] Auto-choosing row-wise multi-threading, the overhead of testing was 0.088358 seconds.\n",
            "You can set `force_row_wise=true` to remove the overhead.\n",
            "And if memory is not enough, you can set `force_col_wise=true`.\n",
            "[LightGBM] [Info] Total Bins 7526\n",
            "[LightGBM] [Info] Number of data points in the train set: 669693, number of used features: 153\n",
            "[LightGBM] [Info] [binary:BoostFromScore]: pavg=0.194985 -> initscore=-1.417939\n",
            "[LightGBM] [Info] Start training from score -1.417939\n"
          ]
        },
        {
          "output_type": "stream",
          "name": "stderr",
          "text": [
            "\r 73%|███████▎  | 73/100 [28:43<09:27, 21.03s/it]"
          ]
        },
        {
          "output_type": "stream",
          "name": "stdout",
          "text": [
            "[LightGBM] [Info] Number of positive: 130580, number of negative: 539113\n",
            "[LightGBM] [Info] Auto-choosing row-wise multi-threading, the overhead of testing was 0.063303 seconds.\n",
            "You can set `force_row_wise=true` to remove the overhead.\n",
            "And if memory is not enough, you can set `force_col_wise=true`.\n",
            "[LightGBM] [Info] Total Bins 7517\n",
            "[LightGBM] [Info] Number of data points in the train set: 669693, number of used features: 153\n",
            "[LightGBM] [Info] [binary:BoostFromScore]: pavg=0.194985 -> initscore=-1.417939\n",
            "[LightGBM] [Info] Start training from score -1.417939\n"
          ]
        },
        {
          "output_type": "stream",
          "name": "stderr",
          "text": [
            "\r 74%|███████▍  | 74/100 [29:08<09:31, 22.00s/it]"
          ]
        },
        {
          "output_type": "stream",
          "name": "stdout",
          "text": [
            "[LightGBM] [Info] Number of positive: 130580, number of negative: 539113\n",
            "[LightGBM] [Info] Auto-choosing row-wise multi-threading, the overhead of testing was 0.070631 seconds.\n",
            "You can set `force_row_wise=true` to remove the overhead.\n",
            "And if memory is not enough, you can set `force_col_wise=true`.\n",
            "[LightGBM] [Info] Total Bins 7530\n",
            "[LightGBM] [Info] Number of data points in the train set: 669693, number of used features: 153\n",
            "[LightGBM] [Info] [binary:BoostFromScore]: pavg=0.194985 -> initscore=-1.417939\n",
            "[LightGBM] [Info] Start training from score -1.417939\n"
          ]
        },
        {
          "output_type": "stream",
          "name": "stderr",
          "text": [
            "\r 75%|███████▌  | 75/100 [29:37<10:06, 24.26s/it]"
          ]
        },
        {
          "output_type": "stream",
          "name": "stdout",
          "text": [
            "[LightGBM] [Info] Number of positive: 130580, number of negative: 539113\n",
            "[LightGBM] [Info] Auto-choosing row-wise multi-threading, the overhead of testing was 0.154372 seconds.\n",
            "You can set `force_row_wise=true` to remove the overhead.\n",
            "And if memory is not enough, you can set `force_col_wise=true`.\n",
            "[LightGBM] [Info] Total Bins 7534\n",
            "[LightGBM] [Info] Number of data points in the train set: 669693, number of used features: 153\n",
            "[LightGBM] [Info] [binary:BoostFromScore]: pavg=0.194985 -> initscore=-1.417939\n",
            "[LightGBM] [Info] Start training from score -1.417939\n"
          ]
        },
        {
          "output_type": "stream",
          "name": "stderr",
          "text": [
            "\r 76%|███████▌  | 76/100 [30:05<10:05, 25.24s/it]"
          ]
        },
        {
          "output_type": "stream",
          "name": "stdout",
          "text": [
            "[LightGBM] [Info] Number of positive: 130580, number of negative: 539113\n",
            "[LightGBM] [Info] Auto-choosing row-wise multi-threading, the overhead of testing was 0.064786 seconds.\n",
            "You can set `force_row_wise=true` to remove the overhead.\n",
            "And if memory is not enough, you can set `force_col_wise=true`.\n",
            "[LightGBM] [Info] Total Bins 7503\n",
            "[LightGBM] [Info] Number of data points in the train set: 669693, number of used features: 153\n",
            "[LightGBM] [Info] [binary:BoostFromScore]: pavg=0.194985 -> initscore=-1.417939\n",
            "[LightGBM] [Info] Start training from score -1.417939\n"
          ]
        },
        {
          "output_type": "stream",
          "name": "stderr",
          "text": [
            "\r 77%|███████▋  | 77/100 [30:30<09:37, 25.10s/it]"
          ]
        },
        {
          "output_type": "stream",
          "name": "stdout",
          "text": [
            "[LightGBM] [Info] Number of positive: 130580, number of negative: 539113\n",
            "[LightGBM] [Info] Auto-choosing row-wise multi-threading, the overhead of testing was 0.115151 seconds.\n",
            "You can set `force_row_wise=true` to remove the overhead.\n",
            "And if memory is not enough, you can set `force_col_wise=true`.\n",
            "[LightGBM] [Info] Total Bins 7539\n",
            "[LightGBM] [Info] Number of data points in the train set: 669693, number of used features: 154\n",
            "[LightGBM] [Info] [binary:BoostFromScore]: pavg=0.194985 -> initscore=-1.417939\n",
            "[LightGBM] [Info] Start training from score -1.417939\n"
          ]
        },
        {
          "output_type": "stream",
          "name": "stderr",
          "text": [
            "\r 78%|███████▊  | 78/100 [30:52<08:53, 24.25s/it]"
          ]
        },
        {
          "output_type": "stream",
          "name": "stdout",
          "text": [
            "[LightGBM] [Info] Number of positive: 130580, number of negative: 539113\n",
            "[LightGBM] [Info] Auto-choosing row-wise multi-threading, the overhead of testing was 0.072085 seconds.\n",
            "You can set `force_row_wise=true` to remove the overhead.\n",
            "And if memory is not enough, you can set `force_col_wise=true`.\n",
            "[LightGBM] [Info] Total Bins 7526\n",
            "[LightGBM] [Info] Number of data points in the train set: 669693, number of used features: 154\n",
            "[LightGBM] [Info] [binary:BoostFromScore]: pavg=0.194985 -> initscore=-1.417939\n",
            "[LightGBM] [Info] Start training from score -1.417939\n"
          ]
        },
        {
          "output_type": "stream",
          "name": "stderr",
          "text": [
            "\r 79%|███████▉  | 79/100 [31:20<08:55, 25.49s/it]"
          ]
        },
        {
          "output_type": "stream",
          "name": "stdout",
          "text": [
            "[LightGBM] [Info] Number of positive: 130580, number of negative: 539113\n",
            "[LightGBM] [Info] Auto-choosing row-wise multi-threading, the overhead of testing was 0.072564 seconds.\n",
            "You can set `force_row_wise=true` to remove the overhead.\n",
            "And if memory is not enough, you can set `force_col_wise=true`.\n",
            "[LightGBM] [Info] Total Bins 7537\n",
            "[LightGBM] [Info] Number of data points in the train set: 669693, number of used features: 153\n",
            "[LightGBM] [Info] [binary:BoostFromScore]: pavg=0.194985 -> initscore=-1.417939\n",
            "[LightGBM] [Info] Start training from score -1.417939\n"
          ]
        },
        {
          "output_type": "stream",
          "name": "stderr",
          "text": [
            "\r 80%|████████  | 80/100 [31:48<08:42, 26.13s/it]"
          ]
        },
        {
          "output_type": "stream",
          "name": "stdout",
          "text": [
            "[LightGBM] [Info] Number of positive: 130580, number of negative: 539113\n",
            "[LightGBM] [Info] Auto-choosing row-wise multi-threading, the overhead of testing was 0.087187 seconds.\n",
            "You can set `force_row_wise=true` to remove the overhead.\n",
            "And if memory is not enough, you can set `force_col_wise=true`.\n",
            "[LightGBM] [Info] Total Bins 7522\n",
            "[LightGBM] [Info] Number of data points in the train set: 669693, number of used features: 154\n",
            "[LightGBM] [Info] [binary:BoostFromScore]: pavg=0.194985 -> initscore=-1.417939\n",
            "[LightGBM] [Info] Start training from score -1.417939\n"
          ]
        },
        {
          "output_type": "stream",
          "name": "stderr",
          "text": [
            "\r 81%|████████  | 81/100 [32:16<08:28, 26.75s/it]"
          ]
        },
        {
          "output_type": "stream",
          "name": "stdout",
          "text": [
            "[LightGBM] [Info] Number of positive: 130580, number of negative: 539113\n",
            "[LightGBM] [Info] Auto-choosing row-wise multi-threading, the overhead of testing was 0.073137 seconds.\n",
            "You can set `force_row_wise=true` to remove the overhead.\n",
            "And if memory is not enough, you can set `force_col_wise=true`.\n",
            "[LightGBM] [Info] Total Bins 7528\n",
            "[LightGBM] [Info] Number of data points in the train set: 669693, number of used features: 154\n",
            "[LightGBM] [Info] [binary:BoostFromScore]: pavg=0.194985 -> initscore=-1.417939\n",
            "[LightGBM] [Info] Start training from score -1.417939\n"
          ]
        },
        {
          "output_type": "stream",
          "name": "stderr",
          "text": [
            "\r 82%|████████▏ | 82/100 [32:44<08:09, 27.19s/it]"
          ]
        },
        {
          "output_type": "stream",
          "name": "stdout",
          "text": [
            "[LightGBM] [Info] Number of positive: 130580, number of negative: 539113\n",
            "[LightGBM] [Info] Auto-choosing row-wise multi-threading, the overhead of testing was 0.067730 seconds.\n",
            "You can set `force_row_wise=true` to remove the overhead.\n",
            "And if memory is not enough, you can set `force_col_wise=true`.\n",
            "[LightGBM] [Info] Total Bins 7523\n",
            "[LightGBM] [Info] Number of data points in the train set: 669693, number of used features: 153\n",
            "[LightGBM] [Info] [binary:BoostFromScore]: pavg=0.194985 -> initscore=-1.417939\n",
            "[LightGBM] [Info] Start training from score -1.417939\n"
          ]
        },
        {
          "output_type": "stream",
          "name": "stderr",
          "text": [
            "\r 83%|████████▎ | 83/100 [33:12<07:43, 27.28s/it]"
          ]
        },
        {
          "output_type": "stream",
          "name": "stdout",
          "text": [
            "[LightGBM] [Info] Number of positive: 130580, number of negative: 539113\n",
            "[LightGBM] [Info] Auto-choosing row-wise multi-threading, the overhead of testing was 0.136487 seconds.\n",
            "You can set `force_row_wise=true` to remove the overhead.\n",
            "And if memory is not enough, you can set `force_col_wise=true`.\n",
            "[LightGBM] [Info] Total Bins 7521\n",
            "[LightGBM] [Info] Number of data points in the train set: 669693, number of used features: 153\n",
            "[LightGBM] [Info] [binary:BoostFromScore]: pavg=0.194985 -> initscore=-1.417939\n",
            "[LightGBM] [Info] Start training from score -1.417939\n"
          ]
        },
        {
          "output_type": "stream",
          "name": "stderr",
          "text": [
            "\r 84%|████████▍ | 84/100 [33:40<07:21, 27.60s/it]"
          ]
        },
        {
          "output_type": "stream",
          "name": "stdout",
          "text": [
            "[LightGBM] [Info] Number of positive: 130580, number of negative: 539113\n",
            "[LightGBM] [Info] Auto-choosing row-wise multi-threading, the overhead of testing was 0.085474 seconds.\n",
            "You can set `force_row_wise=true` to remove the overhead.\n",
            "And if memory is not enough, you can set `force_col_wise=true`.\n",
            "[LightGBM] [Info] Total Bins 7524\n",
            "[LightGBM] [Info] Number of data points in the train set: 669693, number of used features: 153\n",
            "[LightGBM] [Info] [binary:BoostFromScore]: pavg=0.194985 -> initscore=-1.417939\n",
            "[LightGBM] [Info] Start training from score -1.417939\n"
          ]
        },
        {
          "output_type": "stream",
          "name": "stderr",
          "text": [
            "\r 85%|████████▌ | 85/100 [34:08<06:53, 27.57s/it]"
          ]
        },
        {
          "output_type": "stream",
          "name": "stdout",
          "text": [
            "[LightGBM] [Info] Number of positive: 130580, number of negative: 539113\n",
            "[LightGBM] [Info] Auto-choosing row-wise multi-threading, the overhead of testing was 0.067068 seconds.\n",
            "You can set `force_row_wise=true` to remove the overhead.\n",
            "And if memory is not enough, you can set `force_col_wise=true`.\n",
            "[LightGBM] [Info] Total Bins 7513\n",
            "[LightGBM] [Info] Number of data points in the train set: 669693, number of used features: 153\n",
            "[LightGBM] [Info] [binary:BoostFromScore]: pavg=0.194985 -> initscore=-1.417939\n",
            "[LightGBM] [Info] Start training from score -1.417939\n"
          ]
        },
        {
          "output_type": "stream",
          "name": "stderr",
          "text": [
            "\r 86%|████████▌ | 86/100 [34:36<06:27, 27.71s/it]"
          ]
        },
        {
          "output_type": "stream",
          "name": "stdout",
          "text": [
            "[LightGBM] [Info] Number of positive: 130580, number of negative: 539113\n",
            "[LightGBM] [Info] Auto-choosing row-wise multi-threading, the overhead of testing was 0.112832 seconds.\n",
            "You can set `force_row_wise=true` to remove the overhead.\n",
            "And if memory is not enough, you can set `force_col_wise=true`.\n",
            "[LightGBM] [Info] Total Bins 7532\n",
            "[LightGBM] [Info] Number of data points in the train set: 669693, number of used features: 153\n",
            "[LightGBM] [Info] [binary:BoostFromScore]: pavg=0.194985 -> initscore=-1.417939\n",
            "[LightGBM] [Info] Start training from score -1.417939\n"
          ]
        },
        {
          "output_type": "stream",
          "name": "stderr",
          "text": [
            "\r 87%|████████▋ | 87/100 [35:04<06:03, 27.98s/it]"
          ]
        },
        {
          "output_type": "stream",
          "name": "stdout",
          "text": [
            "[LightGBM] [Info] Number of positive: 130580, number of negative: 539113\n",
            "[LightGBM] [Info] Auto-choosing row-wise multi-threading, the overhead of testing was 0.085349 seconds.\n",
            "You can set `force_row_wise=true` to remove the overhead.\n",
            "And if memory is not enough, you can set `force_col_wise=true`.\n",
            "[LightGBM] [Info] Total Bins 7526\n",
            "[LightGBM] [Info] Number of data points in the train set: 669693, number of used features: 153\n",
            "[LightGBM] [Info] [binary:BoostFromScore]: pavg=0.194985 -> initscore=-1.417939\n",
            "[LightGBM] [Info] Start training from score -1.417939\n"
          ]
        },
        {
          "output_type": "stream",
          "name": "stderr",
          "text": [
            "\r 88%|████████▊ | 88/100 [35:34<05:41, 28.43s/it]"
          ]
        },
        {
          "output_type": "stream",
          "name": "stdout",
          "text": [
            "[LightGBM] [Info] Number of positive: 130580, number of negative: 539113\n",
            "[LightGBM] [Info] Auto-choosing row-wise multi-threading, the overhead of testing was 0.076694 seconds.\n",
            "You can set `force_row_wise=true` to remove the overhead.\n",
            "And if memory is not enough, you can set `force_col_wise=true`.\n",
            "[LightGBM] [Info] Total Bins 7548\n",
            "[LightGBM] [Info] Number of data points in the train set: 669693, number of used features: 153\n",
            "[LightGBM] [Info] [binary:BoostFromScore]: pavg=0.194985 -> initscore=-1.417939\n",
            "[LightGBM] [Info] Start training from score -1.417939\n"
          ]
        },
        {
          "output_type": "stream",
          "name": "stderr",
          "text": [
            "\r 89%|████████▉ | 89/100 [36:00<05:06, 27.87s/it]"
          ]
        },
        {
          "output_type": "stream",
          "name": "stdout",
          "text": [
            "[LightGBM] [Info] Number of positive: 130580, number of negative: 539113\n",
            "[LightGBM] [Info] Auto-choosing row-wise multi-threading, the overhead of testing was 0.075523 seconds.\n",
            "You can set `force_row_wise=true` to remove the overhead.\n",
            "And if memory is not enough, you can set `force_col_wise=true`.\n",
            "[LightGBM] [Info] Total Bins 7518\n",
            "[LightGBM] [Info] Number of data points in the train set: 669693, number of used features: 154\n",
            "[LightGBM] [Info] [binary:BoostFromScore]: pavg=0.194985 -> initscore=-1.417939\n",
            "[LightGBM] [Info] Start training from score -1.417939\n"
          ]
        },
        {
          "output_type": "stream",
          "name": "stderr",
          "text": [
            "\r 90%|█████████ | 90/100 [36:27<04:34, 27.45s/it]"
          ]
        },
        {
          "output_type": "stream",
          "name": "stdout",
          "text": [
            "[LightGBM] [Info] Number of positive: 130580, number of negative: 539113\n",
            "[LightGBM] [Info] Auto-choosing row-wise multi-threading, the overhead of testing was 0.078335 seconds.\n",
            "You can set `force_row_wise=true` to remove the overhead.\n",
            "And if memory is not enough, you can set `force_col_wise=true`.\n",
            "[LightGBM] [Info] Total Bins 7531\n",
            "[LightGBM] [Info] Number of data points in the train set: 669693, number of used features: 153\n",
            "[LightGBM] [Info] [binary:BoostFromScore]: pavg=0.194985 -> initscore=-1.417939\n",
            "[LightGBM] [Info] Start training from score -1.417939\n"
          ]
        },
        {
          "output_type": "stream",
          "name": "stderr",
          "text": [
            "\r 91%|█████████ | 91/100 [36:54<04:07, 27.47s/it]"
          ]
        },
        {
          "output_type": "stream",
          "name": "stdout",
          "text": [
            "[LightGBM] [Info] Number of positive: 130580, number of negative: 539113\n",
            "[LightGBM] [Info] Auto-choosing row-wise multi-threading, the overhead of testing was 0.073657 seconds.\n",
            "You can set `force_row_wise=true` to remove the overhead.\n",
            "And if memory is not enough, you can set `force_col_wise=true`.\n",
            "[LightGBM] [Info] Total Bins 7522\n",
            "[LightGBM] [Info] Number of data points in the train set: 669693, number of used features: 154\n",
            "[LightGBM] [Info] [binary:BoostFromScore]: pavg=0.194985 -> initscore=-1.417939\n",
            "[LightGBM] [Info] Start training from score -1.417939\n"
          ]
        },
        {
          "output_type": "stream",
          "name": "stderr",
          "text": [
            "\r 92%|█████████▏| 92/100 [37:21<03:38, 27.29s/it]"
          ]
        },
        {
          "output_type": "stream",
          "name": "stdout",
          "text": [
            "[LightGBM] [Info] Number of positive: 130580, number of negative: 539113\n",
            "[LightGBM] [Info] Auto-choosing row-wise multi-threading, the overhead of testing was 0.064771 seconds.\n",
            "You can set `force_row_wise=true` to remove the overhead.\n",
            "And if memory is not enough, you can set `force_col_wise=true`.\n",
            "[LightGBM] [Info] Total Bins 7518\n",
            "[LightGBM] [Info] Number of data points in the train set: 669693, number of used features: 153\n",
            "[LightGBM] [Info] [binary:BoostFromScore]: pavg=0.194985 -> initscore=-1.417939\n",
            "[LightGBM] [Info] Start training from score -1.417939\n"
          ]
        },
        {
          "output_type": "stream",
          "name": "stderr",
          "text": [
            "\r 93%|█████████▎| 93/100 [37:49<03:12, 27.53s/it]"
          ]
        },
        {
          "output_type": "stream",
          "name": "stdout",
          "text": [
            "[LightGBM] [Info] Number of positive: 130580, number of negative: 539113\n",
            "[LightGBM] [Info] Auto-choosing row-wise multi-threading, the overhead of testing was 0.065009 seconds.\n",
            "You can set `force_row_wise=true` to remove the overhead.\n",
            "And if memory is not enough, you can set `force_col_wise=true`.\n",
            "[LightGBM] [Info] Total Bins 7513\n",
            "[LightGBM] [Info] Number of data points in the train set: 669693, number of used features: 153\n",
            "[LightGBM] [Info] [binary:BoostFromScore]: pavg=0.194985 -> initscore=-1.417939\n",
            "[LightGBM] [Info] Start training from score -1.417939\n"
          ]
        },
        {
          "output_type": "stream",
          "name": "stderr",
          "text": [
            "\r 94%|█████████▍| 94/100 [38:15<02:42, 27.03s/it]"
          ]
        },
        {
          "output_type": "stream",
          "name": "stdout",
          "text": [
            "[LightGBM] [Info] Number of positive: 130580, number of negative: 539113\n",
            "[LightGBM] [Info] Auto-choosing row-wise multi-threading, the overhead of testing was 0.070720 seconds.\n",
            "You can set `force_row_wise=true` to remove the overhead.\n",
            "And if memory is not enough, you can set `force_col_wise=true`.\n",
            "[LightGBM] [Info] Total Bins 7531\n",
            "[LightGBM] [Info] Number of data points in the train set: 669693, number of used features: 154\n",
            "[LightGBM] [Info] [binary:BoostFromScore]: pavg=0.194985 -> initscore=-1.417939\n",
            "[LightGBM] [Info] Start training from score -1.417939\n"
          ]
        },
        {
          "output_type": "stream",
          "name": "stderr",
          "text": [
            "\r 95%|█████████▌| 95/100 [38:40<02:12, 26.53s/it]"
          ]
        },
        {
          "output_type": "stream",
          "name": "stdout",
          "text": [
            "[LightGBM] [Info] Number of positive: 130580, number of negative: 539113\n",
            "[LightGBM] [Info] Auto-choosing row-wise multi-threading, the overhead of testing was 0.057343 seconds.\n",
            "You can set `force_row_wise=true` to remove the overhead.\n",
            "And if memory is not enough, you can set `force_col_wise=true`.\n",
            "[LightGBM] [Info] Total Bins 7523\n",
            "[LightGBM] [Info] Number of data points in the train set: 669693, number of used features: 153\n",
            "[LightGBM] [Info] [binary:BoostFromScore]: pavg=0.194985 -> initscore=-1.417939\n",
            "[LightGBM] [Info] Start training from score -1.417939\n"
          ]
        },
        {
          "output_type": "stream",
          "name": "stderr",
          "text": [
            "\r 96%|█████████▌| 96/100 [39:06<01:44, 26.25s/it]"
          ]
        },
        {
          "output_type": "stream",
          "name": "stdout",
          "text": [
            "[LightGBM] [Info] Number of positive: 130580, number of negative: 539113\n",
            "[LightGBM] [Info] Auto-choosing row-wise multi-threading, the overhead of testing was 0.068621 seconds.\n",
            "You can set `force_row_wise=true` to remove the overhead.\n",
            "And if memory is not enough, you can set `force_col_wise=true`.\n",
            "[LightGBM] [Info] Total Bins 7522\n",
            "[LightGBM] [Info] Number of data points in the train set: 669693, number of used features: 153\n",
            "[LightGBM] [Info] [binary:BoostFromScore]: pavg=0.194985 -> initscore=-1.417939\n",
            "[LightGBM] [Info] Start training from score -1.417939\n"
          ]
        },
        {
          "output_type": "stream",
          "name": "stderr",
          "text": [
            "\r 97%|█████████▋| 97/100 [39:33<01:19, 26.62s/it]"
          ]
        },
        {
          "output_type": "stream",
          "name": "stdout",
          "text": [
            "[LightGBM] [Info] Number of positive: 130580, number of negative: 539113\n",
            "[LightGBM] [Info] Auto-choosing row-wise multi-threading, the overhead of testing was 0.149236 seconds.\n",
            "You can set `force_row_wise=true` to remove the overhead.\n",
            "And if memory is not enough, you can set `force_col_wise=true`.\n",
            "[LightGBM] [Info] Total Bins 7522\n",
            "[LightGBM] [Info] Number of data points in the train set: 669693, number of used features: 153\n",
            "[LightGBM] [Info] [binary:BoostFromScore]: pavg=0.194985 -> initscore=-1.417939\n",
            "[LightGBM] [Info] Start training from score -1.417939\n"
          ]
        },
        {
          "output_type": "stream",
          "name": "stderr",
          "text": [
            "\r 98%|█████████▊| 98/100 [40:00<00:53, 26.54s/it]"
          ]
        },
        {
          "output_type": "stream",
          "name": "stdout",
          "text": [
            "[LightGBM] [Info] Number of positive: 130580, number of negative: 539113\n",
            "[LightGBM] [Info] Auto-choosing row-wise multi-threading, the overhead of testing was 0.284889 seconds.\n",
            "You can set `force_row_wise=true` to remove the overhead.\n",
            "And if memory is not enough, you can set `force_col_wise=true`.\n",
            "[LightGBM] [Info] Total Bins 7507\n",
            "[LightGBM] [Info] Number of data points in the train set: 669693, number of used features: 153\n",
            "[LightGBM] [Info] [binary:BoostFromScore]: pavg=0.194985 -> initscore=-1.417939\n",
            "[LightGBM] [Info] Start training from score -1.417939\n"
          ]
        },
        {
          "output_type": "stream",
          "name": "stderr",
          "text": [
            "\r 99%|█████████▉| 99/100 [40:26<00:26, 26.40s/it]"
          ]
        },
        {
          "output_type": "stream",
          "name": "stdout",
          "text": [
            "[LightGBM] [Info] Number of positive: 130580, number of negative: 539113\n",
            "[LightGBM] [Info] Auto-choosing row-wise multi-threading, the overhead of testing was 0.305828 seconds.\n",
            "You can set `force_row_wise=true` to remove the overhead.\n",
            "And if memory is not enough, you can set `force_col_wise=true`.\n",
            "[LightGBM] [Info] Total Bins 7549\n",
            "[LightGBM] [Info] Number of data points in the train set: 669693, number of used features: 153\n",
            "[LightGBM] [Info] [binary:BoostFromScore]: pavg=0.194985 -> initscore=-1.417939\n",
            "[LightGBM] [Info] Start training from score -1.417939\n"
          ]
        },
        {
          "output_type": "stream",
          "name": "stderr",
          "text": [
            "100%|██████████| 100/100 [40:52<00:00, 24.52s/it]"
          ]
        },
        {
          "output_type": "stream",
          "name": "stdout",
          "text": [
            "\n",
            "최종 결과 요약\n",
            "✅ Best model index: 11\n",
            "✅ Best validation Sharpe ratio: 0.694343037856779\n",
            "✅ Best test Sharpe ratio: 1.1298778609299924\n",
            "✅ Best approval rate: 0.5972665209288991\n",
            "✅ Mean IRR: 0.1213800395897723\n",
            "✅ Positive IRR ratio: 0.9904821906711968\n",
            "✅ Best threshold: 0.05\n",
            "✅ Best model params: {'boosting_type': 'gbdt', 'class_weight': None, 'colsample_bytree': 1.0, 'importance_type': 'split', 'learning_rate': 0.05, 'max_depth': 10, 'min_child_samples': 10, 'min_child_weight': 0.001, 'min_split_gain': 0.0, 'n_estimators': 200, 'n_jobs': -1, 'num_leaves': 63, 'objective': None, 'random_state': 11, 'reg_alpha': 0.0, 'reg_lambda': 0.0, 'subsample': 1.0, 'subsample_for_bin': 200000, 'subsample_freq': 0}\n"
          ]
        },
        {
          "output_type": "stream",
          "name": "stderr",
          "text": [
            "\n"
          ]
        }
      ]
    },
    {
      "cell_type": "code",
      "source": [
        "print(\"Best thresholds from 100 runs:\")\n",
        "print(best_thresholds)\n",
        "\n",
        "print(\"\\nValidation Sharpe Ratios from 100 runs:\")\n",
        "print(validation_sharpes)\n",
        "\n",
        "print(\"\\nTest Sharpe Ratios from 100 runs:\")\n",
        "print(test_sharpes)\n",
        "\n",
        "print(\"\\nTest Approval Rates:\")\n",
        "print(test_approval_rates)\n",
        "\n",
        "print(\"\\nTest IRR Means:\")\n",
        "print(test_irr_means)\n",
        "\n",
        "print(\"\\nTest IRR Positive Rates:\")\n",
        "print(test_irr_positive_rates)\n"
      ],
      "metadata": {
        "colab": {
          "base_uri": "https://localhost:8080/"
        },
        "id": "6Bk_ft12PmmI",
        "outputId": "51ac68fc-7ec7-4493-a8fe-55b942057ff6"
      },
      "execution_count": 25,
      "outputs": [
        {
          "output_type": "stream",
          "name": "stdout",
          "text": [
            "Best thresholds from 100 runs:\n",
            "[np.float64(0.05), np.float64(0.05), np.float64(0.05), np.float64(0.05), np.float64(0.05), np.float64(0.05), np.float64(0.05), np.float64(0.05), np.float64(0.05), np.float64(0.05), np.float64(0.05), np.float64(0.05), np.float64(0.05), np.float64(0.05), np.float64(0.05), np.float64(0.05), np.float64(0.05), np.float64(0.05), np.float64(0.05), np.float64(0.05), np.float64(0.05), np.float64(0.05), np.float64(0.05), np.float64(0.05), np.float64(0.05), np.float64(0.05), np.float64(0.05), np.float64(0.05), np.float64(0.05), np.float64(0.05), np.float64(0.05), np.float64(0.05), np.float64(0.05), np.float64(0.05), np.float64(0.05), np.float64(0.05), np.float64(0.05), np.float64(0.05), np.float64(0.05), np.float64(0.05), np.float64(0.05), np.float64(0.05), np.float64(0.05), np.float64(0.05), np.float64(0.05), np.float64(0.05), np.float64(0.05), np.float64(0.05), np.float64(0.05), np.float64(0.05), np.float64(0.05), np.float64(0.05), np.float64(0.05), np.float64(0.05), np.float64(0.05), np.float64(0.05), np.float64(0.05), np.float64(0.05), np.float64(0.05), np.float64(0.05), np.float64(0.05), np.float64(0.05), np.float64(0.05), np.float64(0.05), np.float64(0.05), np.float64(0.05), np.float64(0.05), np.float64(0.05), np.float64(0.05), np.float64(0.05), np.float64(0.05), np.float64(0.05), np.float64(0.05), np.float64(0.05), np.float64(0.05), np.float64(0.05), np.float64(0.05), np.float64(0.05), np.float64(0.05), np.float64(0.05), np.float64(0.05), np.float64(0.05), np.float64(0.05), np.float64(0.05), np.float64(0.05), np.float64(0.05), np.float64(0.05), np.float64(0.05), np.float64(0.05), np.float64(0.05), np.float64(0.05), np.float64(0.05), np.float64(0.05), np.float64(0.05), np.float64(0.05), np.float64(0.05), np.float64(0.05), np.float64(0.05), np.float64(0.05), np.float64(0.05)]\n",
            "\n",
            "Validation Sharpe Ratios from 100 runs:\n",
            "[np.float64(0.6851412780950827), np.float64(0.6933865345903737), np.float64(0.6951215720430591), np.float64(0.6896244026441021), np.float64(0.7009993842330345), np.float64(0.6956847455650818), np.float64(0.7006371378915243), np.float64(0.6925406863159183), np.float64(0.6945318220966475), np.float64(0.6883959994343569), np.float64(0.6991256408032719), np.float64(0.694343037856779), np.float64(0.6966626343818394), np.float64(0.6924102049907737), np.float64(0.6838358761389004), np.float64(0.6938616208775938), np.float64(0.6892086553232625), np.float64(0.6940807085745917), np.float64(0.6892585342903216), np.float64(0.698534723335026), np.float64(0.693830965318911), np.float64(0.6976794445899754), np.float64(0.6850710023201324), np.float64(0.7039550326997803), np.float64(0.6957741482930038), np.float64(0.68798525259664), np.float64(0.6903777519996588), np.float64(0.6963988081740978), np.float64(0.6974656278358593), np.float64(0.6838773430216477), np.float64(0.6813335988258504), np.float64(0.6975382814218851), np.float64(0.6930978042316644), np.float64(0.6976454703074385), np.float64(0.6995062724697017), np.float64(0.6872707168227145), np.float64(0.6928626038295927), np.float64(0.6957638306976648), np.float64(0.6956850025384352), np.float64(0.69379948441891), np.float64(0.6956666754755795), np.float64(0.7006936114231227), np.float64(0.6894416637955647), np.float64(0.7035193241721106), np.float64(0.6967811574157743), np.float64(0.6895790948600897), np.float64(0.7043716828752579), np.float64(0.6871786721563028), np.float64(0.6905663633027949), np.float64(0.6870554035736816), np.float64(0.6882964181495219), np.float64(0.6954000786828165), np.float64(0.7024965724452749), np.float64(0.6992458043589921), np.float64(0.6870532413729781), np.float64(0.6867642670793845), np.float64(0.7008844429311695), np.float64(0.6873255689890094), np.float64(0.6938536343545236), np.float64(0.6923023870982286), np.float64(0.6983740503321779), np.float64(0.6902784496793236), np.float64(0.6919719272501519), np.float64(0.6896787713165501), np.float64(0.7002864462323859), np.float64(0.6998213413493193), np.float64(0.6855554153870878), np.float64(0.682888186601057), np.float64(0.6956416998666255), np.float64(0.6960952869443564), np.float64(0.6878975957059418), np.float64(0.7059403200034984), np.float64(0.6888842697516346), np.float64(0.689709967546296), np.float64(0.6956591228756485), np.float64(0.7070622156806473), np.float64(0.7108327936913177), np.float64(0.6951851285609555), np.float64(0.6950027695090597), np.float64(0.6886624732712494), np.float64(0.6939721303229784), np.float64(0.6983797036265378), np.float64(0.6960867158619416), np.float64(0.6914837245127696), np.float64(0.6910654066764192), np.float64(0.6994113115512531), np.float64(0.6999948769910321), np.float64(0.7041992998881058), np.float64(0.6952148231695238), np.float64(0.7040624937533307), np.float64(0.6884388068292788), np.float64(0.6929377493727726), np.float64(0.6950950452763484), np.float64(0.6899557508091174), np.float64(0.6822500898283534), np.float64(0.6937836461213411), np.float64(0.6851468159805553), np.float64(0.6980385994190799), np.float64(0.684958632400157), np.float64(0.6964498225883374)]\n",
            "\n",
            "Test Sharpe Ratios from 100 runs:\n",
            "[np.float64(1.085740727891296), np.float64(1.1039778781042222), np.float64(1.082214209041297), np.float64(1.083090412028387), np.float64(1.0773496625912933), np.float64(1.1208268968230217), np.float64(1.1071733320936132), np.float64(1.0690956341860678), np.float64(1.0918557146712422), np.float64(1.095813802551771), np.float64(1.0817993197803668), np.float64(1.1298778609299924), np.float64(1.0819447937619833), np.float64(1.0925459685656258), np.float64(1.1002806571797177), np.float64(1.0699675198043168), np.float64(1.0664243415304766), np.float64(1.1057359200245958), np.float64(1.0857099467248557), np.float64(1.0798081880044663), np.float64(1.0987308534705045), np.float64(1.085044021803303), np.float64(1.1010508124223617), np.float64(1.1095263332203955), np.float64(1.0910054081667637), np.float64(1.094229481760874), np.float64(1.0948019146363568), np.float64(1.1104661571190955), np.float64(1.0983653027063063), np.float64(1.105204027025874), np.float64(1.1224961156367297), np.float64(1.1038804284391002), np.float64(1.0907394896658802), np.float64(1.098190369021617), np.float64(1.0838560068935932), np.float64(1.1020462003015197), np.float64(1.0919762978131848), np.float64(1.0828313682904318), np.float64(1.0771730135054065), np.float64(1.085022186783922), np.float64(1.0830751804484104), np.float64(1.0800040138528018), np.float64(1.0673091080923), np.float64(1.0772059430280898), np.float64(1.1006501225285206), np.float64(1.118908397743849), np.float64(1.1029967754608354), np.float64(1.093034210369087), np.float64(1.0467499383106273), np.float64(1.101161225450866), np.float64(1.0925283096167344), np.float64(1.1105296335599293), np.float64(1.0623925424960983), np.float64(1.070208494049068), np.float64(1.0954265009765904), np.float64(1.074374495467591), np.float64(1.0702357117143058), np.float64(1.093847185986923), np.float64(1.078431785625824), np.float64(1.0886738959448041), np.float64(1.0860021903859913), np.float64(1.0821671527309955), np.float64(1.0965973047672075), np.float64(1.0955947419786223), np.float64(1.0701563390590827), np.float64(1.06516862959924), np.float64(1.1275570778255748), np.float64(1.0893322412867683), np.float64(1.0837571493107723), np.float64(1.1057227357511121), np.float64(1.0768146558471103), np.float64(1.0825470054348807), np.float64(1.079867599864028), np.float64(1.1030757780682805), np.float64(1.1103120098402852), np.float64(1.0971152939042184), np.float64(1.069296249578211), np.float64(1.1022991303276817), np.float64(1.0831758845678492), np.float64(1.091982355773878), np.float64(1.097678000583925), np.float64(1.0741505230607278), np.float64(1.0918772284723244), np.float64(1.112675081773063), np.float64(1.105095630365964), np.float64(1.1026638642507147), np.float64(1.0881090714251342), np.float64(1.0746234935009604), np.float64(1.1083516637759607), np.float64(1.0844707827846873), np.float64(1.1122540803202672), np.float64(1.1118935310868727), np.float64(1.0718213010358262), np.float64(1.0914239969577402), np.float64(1.0953516645226267), np.float64(1.1021733253264423), np.float64(1.0849509983833536), np.float64(1.0910999135070087), np.float64(1.0917808292207418), np.float64(1.0720207519467944)]\n",
            "\n",
            "Test Approval Rates:\n",
            "[0.5989867044151376, 0.5965318592316514, 0.5966348910550459, 0.5990538990825688, 0.5968409547018348, 0.5969708643922018, 0.5986776089449541, 0.5997168864678899, 0.5988209575688074, 0.5979474268922018, 0.5987985593463303, 0.5972665209288991, 0.5969753440366973, 0.5974725845756881, 0.5988075186353211, 0.5996720900229358, 0.5967871989678899, 0.5967513618119266, 0.5958195957568807, 0.5981355719610092, 0.5976607296444955, 0.5965945742545872, 0.5973247563073395, 0.5967200043004587, 0.5981714091169725, 0.5963168362958715, 0.5984446674311926, 0.5977234446674312, 0.5970470183486238, 0.5982923595183486, 0.5970828555045872, 0.5983057984518348, 0.5997258457568807, 0.596473623853211, 0.5960659762041285, 0.5963481938073395, 0.5962272434059633, 0.5954074684633027, 0.5982699612958715, 0.5954522649082569, 0.5962093248279816, 0.597992223337156, 0.5971858873279816, 0.5958688718463303, 0.5942293219610092, 0.5986686496559633, 0.5985208213876146, 0.5982117259174312, 0.5975173810206422, 0.5976517703555045, 0.5989956637041285, 0.5979519065366973, 0.6003126791857798, 0.5975352995986238, 0.5974681049311926, 0.5978578340022935, 0.595703125, 0.5975084217316514, 0.598090775516055, 0.5972710005733946, 0.5974636252866973, 0.5983281966743119, 0.5970201404816514, 0.5976831278669725, 0.596961905103211, 0.5986910478784404, 0.5980459790711009, 0.5987044868119266, 0.5984894638761468, 0.5971993262614679, 0.5975173810206422, 0.5965408185206422, 0.5972486023509175, 0.5977413632454128, 0.5972799598623854, 0.5962899584288991, 0.5986910478784404, 0.5981400516055045, 0.5967513618119266, 0.597710005733945, 0.5953133959288991, 0.5976786482224771, 0.5982923595183486, 0.5949953411697247, 0.5981266126720184, 0.5977458428899083, 0.5969708643922018, 0.5977906393348624, 0.5978309561353211, 0.5976517703555045, 0.5970201404816514, 0.5976920871559633, 0.6005590596330275, 0.5991793291284404, 0.5962093248279816, 0.5952058844610092, 0.5977816800458715, 0.5973964306192661, 0.5965900946100917, 0.596961905103211]\n",
            "\n",
            "Test IRR Means:\n",
            "[np.float64(0.12030314161815249), np.float64(0.12072271704736245), np.float64(0.12032562590075045), np.float64(0.1204521348273722), np.float64(0.12030384201887595), np.float64(0.12100036065909711), np.float64(0.12076332733335113), np.float64(0.11997636864254682), np.float64(0.12038160779091668), np.float64(0.12059232004386049), np.float64(0.12043364806347744), np.float64(0.1213800395897723), np.float64(0.12027856808429678), np.float64(0.12053638063926546), np.float64(0.1205422911840663), np.float64(0.12004415754802818), np.float64(0.11994616538556703), np.float64(0.12077197756833681), np.float64(0.12059430917751585), np.float64(0.12031508330051145), np.float64(0.12061812809878), np.float64(0.12032948063884476), np.float64(0.12074020811746858), np.float64(0.12076433356174791), np.float64(0.12065776127384334), np.float64(0.1205077960577929), np.float64(0.12022385536648231), np.float64(0.12085184801878023), np.float64(0.12068905184773504), np.float64(0.12072763868888438), np.float64(0.12090075850200531), np.float64(0.12075787849070392), np.float64(0.12037113873766812), np.float64(0.12061248300479348), np.float64(0.12050039623955609), np.float64(0.12070399592301496), np.float64(0.12059926314775878), np.float64(0.12033278681780288), np.float64(0.12041377144216814), np.float64(0.12058165354389959), np.float64(0.12050808670550384), np.float64(0.12016872472866807), np.float64(0.12013775470584996), np.float64(0.12045354195298345), np.float64(0.12052716673112443), np.float64(0.12109273342863598), np.float64(0.12054284943182242), np.float64(0.12058059997009041), np.float64(0.11962410337705041), np.float64(0.12064807462604203), np.float64(0.12046034732460024), np.float64(0.12064953851568817), np.float64(0.12033576711727471), np.float64(0.11993576481941283), np.float64(0.12059964222263672), np.float64(0.12014911083312661), np.float64(0.1200776625062053), np.float64(0.12072552261448659), np.float64(0.12041016952111988), np.float64(0.12048972762327552), np.float64(0.12063701088270708), np.float64(0.12045146362705587), np.float64(0.12077247873922138), np.float64(0.12083092891176653), np.float64(0.12009917134106536), np.float64(0.12000875400300808), np.float64(0.12118843724291312), np.float64(0.1207328660630105), np.float64(0.12032112366378798), np.float64(0.12061490931567373), np.float64(0.12005865226904867), np.float64(0.1201951204179231), np.float64(0.12036483358941429), np.float64(0.12064815448829073), np.float64(0.12094642709238507), np.float64(0.12057900884572312), np.float64(0.1203294537861689), np.float64(0.1208721548656613), np.float64(0.12042445782605878), np.float64(0.12059533308818847), np.float64(0.12054598705726949), np.float64(0.12039014108085984), np.float64(0.12051638221212595), np.float64(0.12071857277956988), np.float64(0.12085500758134123), np.float64(0.12049634721657365), np.float64(0.12055978379671663), np.float64(0.12031826787500503), np.float64(0.12079265317492408), np.float64(0.12044115278787933), np.float64(0.12084998287849405), np.float64(0.12073138027475937), np.float64(0.12030855770765324), np.float64(0.1205404140457451), np.float64(0.12056596549209854), np.float64(0.12076113724424556), np.float64(0.12046679096404918), np.float64(0.12060821362890646), np.float64(0.12041471868255472), np.float64(0.12023116225341857)]\n",
            "\n",
            "Test IRR Positive Rates:\n",
            "[np.float64(0.9897093027603898), np.float64(0.9899823527203094), np.float64(0.9896837552932697), np.float64(0.9896207226609237), np.float64(0.9894696548928952), np.float64(0.9901473027021754), np.float64(0.9898461584508096), np.float64(0.9892064298305895), np.float64(0.9895867620216044), np.float64(0.9897588420823937), np.float64(0.9897958420300589), np.float64(0.9904821906711968), np.float64(0.9894645215512067), np.float64(0.9895932521087161), np.float64(0.9898034756457923), np.float64(0.9893550266684595), np.float64(0.9892585308732792), np.float64(0.990023571096131), np.float64(0.9896846758792837), np.float64(0.9896647019614598), np.float64(0.9898588635631141), np.float64(0.9897731624355192), np.float64(0.9901231419957702), np.float64(0.9900380610628571), np.float64(0.9899723659674533), np.float64(0.9897233260965917), np.float64(0.9897898077729206), np.float64(0.9899123891749294), np.float64(0.989953481392557), np.float64(0.9900417796013717), np.float64(0.9900441149990997), np.float64(0.9897050785783275), np.float64(0.9897294551756076), np.float64(0.9898386806056236), np.float64(0.9896588782588437), np.float64(0.9900318500045071), np.float64(0.989766861762474), np.float64(0.989346494725913), np.float64(0.9895696839456994), np.float64(0.9897986819535975), np.float64(0.9895636885486089), np.float64(0.9894674547347762), np.float64(0.9892431982357045), np.float64(0.9897231180976868), np.float64(0.990026460411154), np.float64(0.9902949671510454), np.float64(0.9899632509786017), np.float64(0.9897633667814887), np.float64(0.9892491659481951), np.float64(0.9897762620395008), np.float64(0.9898814643084172), np.float64(0.9900660763248977), np.float64(0.9892171421322449), np.float64(0.9892794758188457), np.float64(0.9899005803230014), np.float64(0.9895100441327429), np.float64(0.9894721010678298), np.float64(0.9899162561945676), np.float64(0.9894841700808161), np.float64(0.9896722418060452), np.float64(0.9897730425198503), np.float64(0.9896979770300826), np.float64(0.9899380224199769), np.float64(0.9899566788085923), np.float64(0.9893667314518126), np.float64(0.989487231288394), np.float64(0.9903298053227269), np.float64(0.9897119341563786), np.float64(0.9895510546249308), np.float64(0.9902335838696611), np.float64(0.9896015294073547), np.float64(0.9898248064460414), np.float64(0.9894318394899682), np.float64(0.9898602315734253), np.float64(0.9902649026490264), np.float64(0.9898205257266491), np.float64(0.9895171608790321), np.float64(0.9902040082681766), np.float64(0.9895581545483207), np.float64(0.9898297208981623), np.float64(0.9901273957243798), np.float64(0.9893644928459537), np.float64(0.9897123347160035), np.float64(0.990152233816687), np.float64(0.9900689779135866), np.float64(0.989942744087053), np.float64(0.9897946166602883), np.float64(0.989493877673366), np.float64(0.9900116144018583), np.float64(0.9895663905857662), np.float64(0.990133109233609), np.float64(0.9899493344525723), np.float64(0.9895273899033298), np.float64(0.989727563623314), np.float64(0.9898867709045555), np.float64(0.9900578765551031), np.float64(0.9895761517940109), np.float64(0.9898843713912926), np.float64(0.9897956118878494), np.float64(0.9897194227868619)]\n"
          ]
        }
      ]
    },
    {
      "cell_type": "code",
      "source": [
        "import matplotlib.pyplot as plt\n",
        "from sklearn.metrics import roc_curve, auc\n",
        "\n",
        "# 예: test set\n",
        "fpr, tpr, thresholds = roc_curve(y_test, y_test_proba)\n",
        "roc_auc = auc(fpr, tpr)\n",
        "\n",
        "plt.figure(figsize=(6, 6))\n",
        "plt.plot(fpr, tpr, label=f'ROC curve (AUC = {roc_auc:.4f})')\n",
        "plt.plot([0, 1], [0, 1], 'k--', label='Random Classifier')\n",
        "plt.xlabel('False Positive Rate')\n",
        "plt.ylabel('True Positive Rate')\n",
        "plt.title('Receiver Operating Characteristic (ROC)')\n",
        "plt.legend(loc=\"lower right\")\n",
        "plt.grid(True)\n",
        "plt.show()\n"
      ],
      "metadata": {
        "colab": {
          "base_uri": "https://localhost:8080/",
          "height": 564
        },
        "id": "qzTp6iOjFvRE",
        "outputId": "8d932f14-7739-46cd-a495-8af586476d65"
      },
      "execution_count": 26,
      "outputs": [
        {
          "output_type": "display_data",
          "data": {
            "text/plain": [
              "<Figure size 600x600 with 1 Axes>"
            ],
            "image/png": "[encoded data removed]"
          },
          "metadata": {}
        }
      ]
    },
    {
      "cell_type": "code",
      "source": [
        "from sklearn.metrics import precision_recall_curve, average_precision_score\n",
        "\n",
        "precision, recall, _ = precision_recall_curve(y_test, y_test_proba)\n",
        "ap_score = average_precision_score(y_test, y_test_proba)\n",
        "\n",
        "plt.figure(figsize=(6, 6))\n",
        "plt.plot(recall, precision, label=f'PR Curve (AP = {ap_score:.4f})')\n",
        "plt.xlabel('Recall')\n",
        "plt.ylabel('Precision')\n",
        "plt.title('Precision-Recall Curve')\n",
        "plt.grid(True)\n",
        "plt.legend()\n",
        "plt.show()\n"
      ],
      "metadata": {
        "colab": {
          "base_uri": "https://localhost:8080/",
          "height": 564
        },
        "id": "dtQfU5wiF1KI",
        "outputId": "160d9149-be91-4e0a-a435-32dcdfffadc3"
      },
      "execution_count": 27,
      "outputs": [
        {
          "output_type": "display_data",
          "data": {
            "text/plain": [
              "<Figure size 600x600 with 1 Axes>"
            ],
            "image/png": "[encoded data removed]"
          },
          "metadata": {}
        }
      ]
    },
    {
      "cell_type": "code",
      "source": [
        "plt.figure(figsize=(8, 5))\n",
        "plt.scatter(best_thresholds, validation_sharpes, alpha=0.7)\n",
        "plt.title(\"Validation Sharpe Ratio vs Best Threshold\")\n",
        "plt.xlabel(\"Best Threshold (per iteration)\")\n",
        "plt.ylabel(\"Validation Sharpe Ratio\")\n",
        "plt.grid(True)\n",
        "plt.show()\n"
      ],
      "metadata": {
        "colab": {
          "base_uri": "https://localhost:8080/",
          "height": 487
        },
        "id": "YRNor6BZGJL_",
        "outputId": "6b9cf36a-5f82-4f71-d233-98848f7cab93"
      },
      "execution_count": 28,
      "outputs": [
        {
          "output_type": "display_data",
          "data": {
            "text/plain": [
              "<Figure size 800x500 with 1 Axes>"
            ],
            "image/png": "[encoded data removed]"
          },
          "metadata": {}
        }
      ]
    },
    {
      "cell_type": "code",
      "source": [
        "thresholds = np.arange(0.0, 1.0, 0.05)\n",
        "sharpe_by_threshold = []\n",
        "\n",
        "# df_val은 X_val의 인덱스를 기반으로 만듦\n",
        "df_val = df.loc[X_val.index]\n",
        "y_pred_proba = model.predict_proba(X_val)[:, 1]\n",
        "\n",
        "for threshold in thresholds:\n",
        "    approved_mask = y_pred_proba <= threshold\n",
        "    denied_mask = ~approved_mask\n",
        "\n",
        "    selected = df_val.copy()\n",
        "    selected.loc[approved_mask, 'irr_adj'] = selected.loc[approved_mask, 'irr']\n",
        "    selected.loc[denied_mask, 'irr_adj'] = selected.loc[denied_mask, 'risk_free_rate']\n",
        "\n",
        "    returns = selected['irr_adj']\n",
        "    risk_free = selected['risk_free_rate']\n",
        "    valid = returns.notnull() & risk_free.notnull()\n",
        "\n",
        "    if valid.sum() < 2:\n",
        "        sharpe = np.nan\n",
        "    else:\n",
        "        sharpe = calculate_sharpe(returns[valid], risk_free[valid])\n",
        "\n",
        "    sharpe_by_threshold.append(sharpe)\n"
      ],
      "metadata": {
        "id": "JyvR1ZOsGoet"
      },
      "execution_count": 29,
      "outputs": []
    },
    {
      "cell_type": "code",
      "source": [
        "import matplotlib.pyplot as plt\n",
        "\n",
        "plt.figure(figsize=(8, 5))\n",
        "plt.plot(thresholds, sharpe_by_threshold, marker='o')\n",
        "plt.title(\"Validation Sharpe Ratio vs Threshold\")\n",
        "plt.xlabel(\"Threshold\")\n",
        "plt.ylabel(\"Sharpe Ratio\")\n",
        "plt.grid(True)\n",
        "plt.show()\n"
      ],
      "metadata": {
        "colab": {
          "base_uri": "https://localhost:8080/",
          "height": 487
        },
        "id": "fr3PbcSfHgUE",
        "outputId": "65b8b44b-f3ba-4f72-f70a-d6e296ea1458"
      },
      "execution_count": 30,
      "outputs": [
        {
          "output_type": "display_data",
          "data": {
            "text/plain": [
              "<Figure size 800x500 with 1 Axes>"
            ],
            "image/png": "[encoded data removed]"
          },
          "metadata": {}
        }
      ]
    },
    {
      "cell_type": "code",
      "source": [],
      "metadata": {
        "id": "ALluuqRMHkYE"
      },
      "execution_count": null,
      "outputs": []
    }
  ],
  "metadata": {
    "colab": {
      "machine_shape": "hm",
      "provenance": []
    },
    "kernelspec": {
      "display_name": "base",
      "language": "python",
      "name": "python3"
    },
    "language_info": {
      "codemirror_mode": {
        "name": "ipython",
        "version": 3
      },
      "file_extension": ".py",
      "mimetype": "text/x-python",
      "name": "python",
      "nbconvert_exporter": "python",
      "pygments_lexer": "ipython3",
      "version": "3.13.5"
    }
  },
  "nbformat": 4,
  "nbformat_minor": 0
}
